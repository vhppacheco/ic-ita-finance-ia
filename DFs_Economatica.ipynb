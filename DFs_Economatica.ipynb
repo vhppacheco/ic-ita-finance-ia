{
  "nbformat": 4,
  "nbformat_minor": 0,
  "metadata": {
    "colab": {
      "name": "DFs_Economatica.ipynb",
      "private_outputs": true,
      "provenance": [],
      "mount_file_id": "1tnnzATMMpm7aF9YtcL0Am85iAQyzJcv9",
      "authorship_tag": "ABX9TyO1nwhqydgELcJfwCfDyEJX",
      "include_colab_link": true
    },
    "kernelspec": {
      "name": "python3",
      "display_name": "Python 3"
    },
    "language_info": {
      "name": "python"
    }
  },
  "cells": [
    {
      "cell_type": "markdown",
      "metadata": {
        "id": "view-in-github",
        "colab_type": "text"
      },
      "source": [
        "<a href=\"https://colab.research.google.com/github/vhppacheco/ic-ita-finance-ia/blob/main/DFs_Economatica.ipynb\" target=\"_parent\"><img src=\"https://colab.research.google.com/assets/colab-badge.svg\" alt=\"Open In Colab\"/></a>"
      ]
    },
    {
      "cell_type": "markdown",
      "source": [
        "# Ibov - Economatica\n",
        "\n",
        "\n"
      ],
      "metadata": {
        "id": "c-wq_3fWno2j"
      }
    },
    {
      "cell_type": "code",
      "execution_count": null,
      "metadata": {
        "id": "XsBQaxhR8QHM"
      },
      "outputs": [],
      "source": [
        "import pandas as pd"
      ]
    },
    {
      "cell_type": "markdown",
      "source": [
        "##Screening Ibov"
      ],
      "metadata": {
        "id": "ffppjWJwXhwF"
      }
    },
    {
      "cell_type": "code",
      "source": [
        "scr = pd.read_excel('Screening_Ibov.xlsx', skiprows = 3)\n",
        "scr"
      ],
      "metadata": {
        "id": "ovpgrwP99vl7"
      },
      "execution_count": null,
      "outputs": []
    },
    {
      "cell_type": "code",
      "source": [
        "codigos= scr['Código']\n",
        "codigos"
      ],
      "metadata": {
        "id": "imGHQ003-JB1"
      },
      "execution_count": null,
      "outputs": []
    },
    {
      "cell_type": "markdown",
      "source": [
        "## Indicadores"
      ],
      "metadata": {
        "id": "WJw2j1Z3XnXI"
      }
    },
    {
      "cell_type": "code",
      "source": [
        "df_temp = pd.DataFrame()\n",
        "\n",
        "for cod in codigos:\n",
        "\n",
        "  df = pd.read_excel('Ibov_Economatica_Indicadores.xlsx', sheet_name= cod, skiprows = 3)\n",
        "  df['Código'] = cod\n",
        "  df_temp = df_temp.append(df)\n",
        "  print(cod)"
      ],
      "metadata": {
        "id": "9cA-_pUn-kHC"
      },
      "execution_count": null,
      "outputs": []
    },
    {
      "cell_type": "code",
      "source": [
        "df_temp"
      ],
      "metadata": {
        "id": "e-Xqn0EYACSU"
      },
      "execution_count": null,
      "outputs": []
    },
    {
      "cell_type": "markdown",
      "source": [
        "##Dataframe Final Ibov"
      ],
      "metadata": {
        "id": "OCqN8QBhX1rO"
      }
    },
    {
      "cell_type": "code",
      "source": [
        "df = pd.merge(df_temp,scr, how = 'left', on = 'Código').set_index('Data')\n",
        "df.columns = df.columns.str.replace('\\\\n',' ', regex=True)\n",
        "df = df.drop(df.iloc[:,40:51], axis = 1)\n",
        "df"
      ],
      "metadata": {
        "id": "e2zmVmOJX6fG"
      },
      "execution_count": null,
      "outputs": []
    },
    {
      "cell_type": "code",
      "source": [
        "df.to_excel('df_Ibov_Economatica.xlsx')"
      ],
      "metadata": {
        "id": "ahvSXfHLs0ZP"
      },
      "execution_count": null,
      "outputs": []
    },
    {
      "cell_type": "markdown",
      "source": [
        "#S&P500 - Economatica\n"
      ],
      "metadata": {
        "id": "JB0H3fq8t_FB"
      }
    },
    {
      "cell_type": "markdown",
      "source": [
        "## Screening S&P500\n"
      ],
      "metadata": {
        "id": "p39InOYPwFC3"
      }
    },
    {
      "cell_type": "code",
      "source": [
        "scr_sp = pd.read_excel('Screening_SP500.xlsx', skiprows = 3)\n",
        "scr_sp"
      ],
      "metadata": {
        "id": "4cylkig1uOJs"
      },
      "execution_count": null,
      "outputs": []
    },
    {
      "cell_type": "code",
      "source": [
        "codigos_sp = scr_sp['Código']\n",
        "codigos_sp"
      ],
      "metadata": {
        "id": "DsktZtjcwahs"
      },
      "execution_count": null,
      "outputs": []
    },
    {
      "cell_type": "markdown",
      "source": [
        "## Indicadores"
      ],
      "metadata": {
        "id": "R_Ljz8vZwoaU"
      }
    },
    {
      "cell_type": "code",
      "source": [
        "df_sp_temp = pd.DataFrame()\n",
        "\n",
        "for cod in codigos_sp:\n",
        "\n",
        "  df_sp = pd.read_excel('SP500_Economatica_Indicadores.xlsx', sheet_name= cod, skiprows = 3)\n",
        "  df_sp['Código'] = cod\n",
        "  df_sp_temp = df_sp_temp.append(df_sp)\n",
        "  print(cod)"
      ],
      "metadata": {
        "id": "Wi7Yq6mPwqc0"
      },
      "execution_count": null,
      "outputs": []
    },
    {
      "cell_type": "code",
      "source": [
        "df_sp_temp"
      ],
      "metadata": {
        "id": "OHfg-y-I3jlI"
      },
      "execution_count": null,
      "outputs": []
    },
    {
      "cell_type": "code",
      "source": [
        "df_sp = pd.merge(df_sp_temp,scr_sp, how = 'left', on = 'Código').set_index('Data')\n",
        "df_sp.columns = df_sp.columns.str.replace('\\\\n',' ', regex=True)\n",
        "df_sp = df_sp.drop(df_sp.iloc[:,40:50], axis = 1)\n",
        "df_sp = df_sp.drop([df_sp.columns[40],df_sp.columns[41]],axis=1)\n",
        "df_sp"
      ],
      "metadata": {
        "id": "RvNFNDLp3ruV"
      },
      "execution_count": null,
      "outputs": []
    },
    {
      "cell_type": "code",
      "source": [
        "df_sp.to_excel('df_SP500_Economatica.xlsx')"
      ],
      "metadata": {
        "id": "ZYK4qDer6opG"
      },
      "execution_count": null,
      "outputs": []
    }
  ]
}