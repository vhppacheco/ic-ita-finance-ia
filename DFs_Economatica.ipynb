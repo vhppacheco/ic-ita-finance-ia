{
  "nbformat": 4,
  "nbformat_minor": 0,
  "metadata": {
    "colab": {
      "name": "DFs_Economatica.ipynb",
      "private_outputs": true,
      "provenance": [],
      "mount_file_id": "1tnnzATMMpm7aF9YtcL0Am85iAQyzJcv9",
      "authorship_tag": "ABX9TyNQ2p/L7s7y7lQF7uleayJ1",
      "include_colab_link": true
    },
    "kernelspec": {
      "name": "python3",
      "display_name": "Python 3"
    },
    "language_info": {
      "name": "python"
    }
  },
  "cells": [
    {
      "cell_type": "markdown",
      "metadata": {
        "id": "view-in-github",
        "colab_type": "text"
      },
      "source": [
        "<a href=\"https://colab.research.google.com/github/vhppacheco/ic-ita-finance-ia/blob/main/DFs_Economatica.ipynb\" target=\"_parent\"><img src=\"https://colab.research.google.com/assets/colab-badge.svg\" alt=\"Open In Colab\"/></a>"
      ]
    },
    {
      "cell_type": "markdown",
      "source": [
        "#Bibliotecas"
      ],
      "metadata": {
        "id": "TpK1Q57rULrJ"
      }
    },
    {
      "cell_type": "code",
      "execution_count": null,
      "metadata": {
        "id": "XsBQaxhR8QHM"
      },
      "outputs": [],
      "source": [
        "import pandas as pd\n",
        "import numpy as np"
      ]
    },
    {
      "cell_type": "markdown",
      "source": [
        "#Função de Construção do DataFrame"
      ],
      "metadata": {
        "id": "z59b7LEal6n7"
      }
    },
    {
      "cell_type": "markdown",
      "source": [
        "### A função ***build_df*** tem por objetivo realizar um processo de construção de DataFrames dos **índices Ibovespa e S&P500** através de Screenings e Matrizes constuídas na Plataforma **Economatica**\n",
        "### Seu único parâmetro é uma *string* (\"Ibov\" ou \"SP500\")"
      ],
      "metadata": {
        "id": "QtCKlVlSUfVz"
      }
    },
    {
      "cell_type": "code",
      "source": [
        "def build_df(indice):\n",
        "\n",
        "  #Screening\n",
        "  scr = pd.read_excel(f'Screening_{indice}.xlsx', skiprows = 3)\n",
        "  codigos= scr['Código']\n",
        "\n",
        "  #Indicadores\n",
        "  df0 = pd.read_excel(f'Matrixx_Indicadores_{indice}.xlsx', sheet_name= None, skiprows = 3)\n",
        "\n",
        "  df = pd.DataFrame()\n",
        "\n",
        "  for cod in codigos:\n",
        "    df_temp = df0[cod]\n",
        "    print(cod)\n",
        "    df_temp['Código'] = cod\n",
        "    df = df.append(df_temp)\n",
        "\n",
        "  #Screening + Indicadores\n",
        "  df = pd.merge(df,scr, how = 'left', on = 'Código').set_index('Data')\n",
        "  df.columns = df.columns.str.replace('\\\\n',' ', regex=True)\n",
        "  df = df.drop(df.iloc[:,27:38], axis = 1)\n",
        "\n",
        "  #Cotação Média Trimestral\n",
        "  cotacao0= pd.read_excel(f'Matrixx_Cotacao_{indice}.xlsx', sheet_name= None, skiprows = 3)\n",
        "\n",
        "  cotacao_temp0 = pd.DataFrame()\n",
        "\n",
        "  for cod in codigos:\n",
        "    cotacao_temp1 = cotacao0[cod]\n",
        "    print(cod)\n",
        "    cotacao_temp1['Código'] = cod\n",
        "    cotacao_temp0 = cotacao_temp0.append(cotacao_temp1)\n",
        "\n",
        "  cotacao_temp = cotacao_temp0[cotacao_temp0[' Data do Bal\\n consolid:sim*'] != '-']\n",
        "  cotacao_temp = cotacao_temp.replace('-', np.NaN)\n",
        "  cotacao_temp = cotacao_temp.fillna(method='bfill')\n",
        "\n",
        "  #DataFrame de Datas + Filtro\n",
        "  cotacao_temp['Qdate'] = [date - pd.tseries.offsets.DateOffset(days=1) + pd.tseries.offsets.QuarterEnd() for date in  cotacao_temp.Data]\n",
        "  datas = cotacao_temp['Qdate'].unique()\n",
        "  datas = np.sort(datas)\n",
        "\n",
        "  count_release = cotacao_temp['Código'].groupby(cotacao_temp['Código']).count().sort_values(ascending=False)\n",
        "  count_release = pd.DataFrame(count_release)\n",
        "  count_release = count_release[(count_release['Código'] == 24)]\n",
        "\n",
        "  trimestre = df.index.unique()\n",
        "\n",
        "  df_datas = list(zip(datas, trimestre))\n",
        "  df_datas = pd.DataFrame(df_datas, columns=['Data', 'Trimestres'])\n",
        "\n",
        "  #Cotação Média Trimestral + Datas\n",
        "  cotacao = cotacao_temp[cotacao_temp.Código.isin(count_release.index)]\n",
        "  cotacao = cotacao.fillna(method='ffill')\n",
        "  cotacao = cotacao.set_index('Data')\n",
        "  cotacao = pd.merge(df_datas, cotacao, how='inner', left_on = 'Data', right_on= ' Data do Bal\\n consolid:sim*').set_index('Trimestres')\n",
        "\n",
        "  #DataFrame Final\n",
        "  cot = cotacao.reset_index()\n",
        "  df_final = df.reset_index()\n",
        "  cot = cot[['Trimestres','Media\\ndo fechamento\\nem 1 trimestre\\nEm moeda orig\\najust p/ prov',' Data do Bal\\n consolid:sim*','Código']]\n",
        "  df_final = pd.merge(df_final,cot, how= 'inner', left_on= ['Código','Data'], right_on = ['Código','Trimestres']).set_index('Data')\n",
        "  df_final.columns = df_final.columns.str.replace('\\\\n',' ', regex=True)\n",
        "  df_final = df_final.drop(df_final.columns[[28]], axis = 1)\n",
        "  df_final = df_final.replace('-', np.NaN).fillna(method='ffill')\n",
        "  df_final = df_final.sort_values(by=['Código',' Data do Bal  consolid:sim*'], ascending = True)\n",
        "\n",
        "  return df_final, df_final.to_excel(f'df_{indice}_Economatica.xlsx')"
      ],
      "metadata": {
        "id": "noiT3huni5K9"
      },
      "execution_count": null,
      "outputs": []
    },
    {
      "cell_type": "code",
      "source": [
        "build_df(indice='Ibov')"
      ],
      "metadata": {
        "id": "ZpgPGbI_lPKR"
      },
      "execution_count": null,
      "outputs": []
    }
  ]
}