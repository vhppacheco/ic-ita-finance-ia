{
  "nbformat": 4,
  "nbformat_minor": 0,
  "metadata": {
    "colab": {
      "name": "Ibovespa_Analysis_1.ipynb",
      "private_outputs": true,
      "provenance": [],
      "collapsed_sections": [],
      "include_colab_link": true
    },
    "kernelspec": {
      "name": "python3",
      "display_name": "Python 3"
    },
    "language_info": {
      "name": "python"
    }
  },
  "cells": [
    {
      "cell_type": "markdown",
      "metadata": {
        "id": "view-in-github",
        "colab_type": "text"
      },
      "source": [
        "<a href=\"https://colab.research.google.com/github/vhppacheco/ic-ita-finance-ia/blob/main/ibovespa_analysis/Ibovespa_Analysis_1.ipynb\" target=\"_parent\"><img src=\"https://colab.research.google.com/assets/colab-badge.svg\" alt=\"Open In Colab\"/></a>"
      ]
    },
    {
      "cell_type": "markdown",
      "source": [
        "# Entrega 1 - Análise Preliminar Ibovespa"
      ],
      "metadata": {
        "id": "PixsbUdKDA4s"
      }
    },
    {
      "cell_type": "markdown",
      "source": [
        "#### pip install"
      ],
      "metadata": {
        "id": "un-2oV-yQK1t"
      }
    },
    {
      "cell_type": "code",
      "source": [
        "!pip install -q plotly"
      ],
      "metadata": {
        "id": "YylnZYnnA7i9"
      },
      "execution_count": null,
      "outputs": []
    },
    {
      "cell_type": "code",
      "source": [
        "!pip install -q yfinance"
      ],
      "metadata": {
        "id": "vEilWPEnQOsP"
      },
      "execution_count": null,
      "outputs": []
    },
    {
      "cell_type": "code",
      "source": [
        "!pip install -q investpy"
      ],
      "metadata": {
        "id": "ddO0bMO_cXRc"
      },
      "execution_count": null,
      "outputs": []
    },
    {
      "cell_type": "code",
      "source": [
        "!pip install -q tsfeatures"
      ],
      "metadata": {
        "id": "v-sQVwe6aeMF"
      },
      "execution_count": null,
      "outputs": []
    },
    {
      "cell_type": "markdown",
      "source": [
        "##### Instalação da Biblioteca Kora, que possibilita utilizar o Selenium de forma simplificada no Google Colab. [Link para acesso ao repositório](https://github.com/korakot/kora/blob/master/kora/selenium.py)"
      ],
      "metadata": {
        "id": "HdkQeg11RGq8"
      }
    },
    {
      "cell_type": "code",
      "source": [
        "!pip install -q kora"
      ],
      "metadata": {
        "id": "Q89Rmmc6QRVO"
      },
      "execution_count": null,
      "outputs": []
    },
    {
      "cell_type": "code",
      "source": [
        "from google.colab import drive\n",
        "drive.mount('/content/drive')"
      ],
      "metadata": {
        "id": "FoVVKf94lh0z"
      },
      "execution_count": null,
      "outputs": []
    },
    {
      "cell_type": "markdown",
      "source": [
        "##Importanto as Bibliotecas"
      ],
      "metadata": {
        "id": "GAFgw4aVKPvk"
      }
    },
    {
      "cell_type": "code",
      "source": [
        "from kora.selenium import wd\n",
        "from time import sleep\n",
        "\n",
        "import pandas as pd\n",
        "import matplotlib.pyplot as plt\n",
        "import numpy as np\n",
        "import seaborn as sns\n",
        "import plotly.graph_objs as go\n",
        "from plotly.subplots import make_subplots\n",
        "\n",
        "import yfinance as yf\n",
        "import investpy\n",
        "\n",
        "import os\n",
        "\n",
        "import requests\n",
        "from bs4 import BeautifulSoup\n",
        "\n",
        "from google.colab import files\n",
        "import warnings\n",
        "warnings.filterwarnings('ignore')"
      ],
      "metadata": {
        "id": "IbXoMV5ODVKc"
      },
      "execution_count": null,
      "outputs": []
    },
    {
      "cell_type": "markdown",
      "source": [
        "## Webcrawling Carteira Ibovespa - Dia de Referência"
      ],
      "metadata": {
        "id": "871qA3m6KVJx"
      }
    },
    {
      "cell_type": "code",
      "source": [
        "def carteira_teorica(indice):\n",
        "  url = 'https://sistemaswebb3-listados.b3.com.br/indexPage/day/{}?language=pt-br'.format(indice.upper())\n",
        "  wd.get(url)\n",
        "  sleep(5)\n",
        "\n",
        "  wd.find_element_by_id('segment').send_keys(\"Setor de Atuação\")\n",
        "  sleep(5)\n",
        "\n",
        "  wd.find_element_by_link_text(\"Download\").click()\n",
        "  sleep(5)\n",
        "\n",
        "  arquivo = !ls -1t *.csv\n",
        "    \n",
        "  return pd.read_csv(arquivo[0],sep=';',encoding='ISO-8859-1',engine='python',thousands='.', decimal=',', header= 1, index_col= False)"
      ],
      "metadata": {
        "id": "8EF5FE-BKgV2"
      },
      "execution_count": null,
      "outputs": []
    },
    {
      "cell_type": "code",
      "source": [
        "ibov = carteira_teorica('ibov').iloc[:-2]"
      ],
      "metadata": {
        "id": "hbqLzNaSKrz2"
      },
      "execution_count": null,
      "outputs": []
    },
    {
      "cell_type": "code",
      "source": [
        "#Obtendo do arquivo recém baixado e incorporando sua data de referência em uma coluna\n",
        "\n",
        "arquivo = !ls -1t *.csv\n",
        "arquivo_middle = arquivo[0].split('_')[1]\n",
        "arquivo_date = arquivo_middle.split('.')[0]\n",
        "\n",
        "ibov['Data Carteira'] = arquivo_date\n",
        "ibov['Data Carteira'] = pd.to_datetime(ibov['Data Carteira'], errors='coerce')\n",
        "ibov"
      ],
      "metadata": {
        "id": "z7t2jorrktLl"
      },
      "execution_count": null,
      "outputs": []
    },
    {
      "cell_type": "code",
      "source": [
        "ibov.info()"
      ],
      "metadata": {
        "id": "MPQkfD5put08"
      },
      "execution_count": null,
      "outputs": []
    },
    {
      "cell_type": "code",
      "source": [
        "ibov.isna().sum()"
      ],
      "metadata": {
        "id": "KF_b1uEu0st1"
      },
      "execution_count": null,
      "outputs": []
    },
    {
      "cell_type": "code",
      "source": [
        "ativos_setor = ibov['Setor'].groupby(ibov['Setor']).count().sort_values(ascending=False)\n",
        "ativos_setor = pd.DataFrame(ativos_setor).rename(columns={\"Setor\":\"Nº de Ativos\"})\n",
        "ativos_setor = pd.merge(ativos_setor,ibov, how='left',on=['Setor']).drop_duplicates(subset=['Setor'])[['Setor','Nº de Ativos','Part. (%)Acum.']]\n",
        "ativos_setor = ativos_setor.set_index('Setor')\n",
        "ativos_setor"
      ],
      "metadata": {
        "id": "pj4DgJGQTbp9"
      },
      "execution_count": null,
      "outputs": []
    },
    {
      "cell_type": "code",
      "source": [
        "y= ativos_setor['Nº de Ativos']\n",
        "x = ativos_setor.index\n",
        "\n",
        "fig = go.Figure(data=[go.Bar(x = x,\n",
        "             y=y,\n",
        "            text=y,\n",
        "            textposition='auto',\n",
        "            marker_color = 'blue'\n",
        "        )])\n",
        "fig.update_layout(height=500, width=1800,title_text='Nº de Ativos por Setor')\n",
        "fig.show()"
      ],
      "metadata": {
        "id": "BWnj7_dx1FuR"
      },
      "execution_count": null,
      "outputs": []
    },
    {
      "cell_type": "code",
      "source": [
        "y= ativos_setor['Part. (%)Acum.'].sort_values(ascending= False)\n",
        "x = ativos_setor.index\n",
        "\n",
        "fig = go.Figure(data=[go.Bar(x = x,\n",
        "             y=y,\n",
        "            text=y,\n",
        "            textposition='auto',\n",
        "            marker_color = 'red'\n",
        "        )])\n",
        "fig.update_layout(height=500, width=1800,title_text='Participação % por Setor')\n",
        "fig.show()"
      ],
      "metadata": {
        "id": "ylP-5ziYnlOK"
      },
      "execution_count": null,
      "outputs": []
    },
    {
      "cell_type": "markdown",
      "source": [
        "## Webscraping Dados Fundamentalistas das Ações  do Ibovespa"
      ],
      "metadata": {
        "id": "GPT5K8aynzdT"
      }
    },
    {
      "cell_type": "markdown",
      "source": [
        "##### O site utilizado como fonte é o Fundamentus. [Link do site](http://www.fundamentus.com.br/resultado.php)"
      ],
      "metadata": {
        "id": "ajlfEFOsp2D9"
      }
    },
    {
      "cell_type": "code",
      "source": [
        "url = 'http://www.fundamentus.com.br/resultado.php?interface=mobile'"
      ],
      "metadata": {
        "id": "TJQKoOeWn7pT"
      },
      "execution_count": null,
      "outputs": []
    },
    {
      "cell_type": "code",
      "source": [
        "header = {\n",
        "  \"User-Agent\": \"Mozilla/5.0 (Windows NT 10.0; Win64; x64) AppleWebKit/537.36 (KHTML, like Gecko) Chrome/84.0.4147.89 Safari/537.36\"  \n",
        " }\n",
        "\n",
        "r = requests.get(url, headers=header)"
      ],
      "metadata": {
        "id": "UdtklPyzorgt"
      },
      "execution_count": null,
      "outputs": []
    },
    {
      "cell_type": "code",
      "source": [
        "df_fund = pd.read_html(r.text,  decimal=',', thousands='.')[0]\n",
        "df_fund = df_fund.rename(columns={\"Papel\":\"Código\"})"
      ],
      "metadata": {
        "id": "mTyLCvYuo67c"
      },
      "execution_count": null,
      "outputs": []
    },
    {
      "cell_type": "code",
      "source": [
        "for coluna in ['Div.Yield', 'Mrg Ebit', 'Mrg. Líq.', 'ROIC', 'ROE', 'Cresc. Rec.5a']:\n",
        "  df_fund[coluna] = df_fund[coluna].str.replace('.', '')\n",
        "  df_fund[coluna] = df_fund[coluna].str.replace(',', '.')\n",
        "  df_fund[coluna] = df_fund[coluna].str.rstrip('%').astype('float') / 100"
      ],
      "metadata": {
        "id": "SR1u_VaPpVFV"
      },
      "execution_count": null,
      "outputs": []
    },
    {
      "cell_type": "code",
      "source": [
        "df_fund"
      ],
      "metadata": {
        "id": "LerF3BLzpZ38"
      },
      "execution_count": null,
      "outputs": []
    },
    {
      "cell_type": "markdown",
      "source": [
        "## Cruzando a Carteira do Ibovespa com os Indicadores Fundamentalistas"
      ],
      "metadata": {
        "id": "V4dq80v3roWC"
      }
    },
    {
      "cell_type": "code",
      "source": [
        "ibov_fund = pd.merge(ibov,df_fund, how='left',on=['Código']).sort_values(by='P/L', ascending = True).reset_index().iloc[:,1:]\n",
        "ibov_fund"
      ],
      "metadata": {
        "id": "fqLDROprrxJp"
      },
      "execution_count": null,
      "outputs": []
    },
    {
      "cell_type": "code",
      "source": [
        "ibov_fund.isna().sum()"
      ],
      "metadata": {
        "id": "DqiLqmcws3Uc"
      },
      "execution_count": null,
      "outputs": []
    },
    {
      "cell_type": "code",
      "source": [
        "ibov_fund.to_excel('Ibov+Fundamentos_17_02.xlsx')"
      ],
      "metadata": {
        "id": "61Yut4JJtHQi"
      },
      "execution_count": null,
      "outputs": []
    },
    {
      "cell_type": "code",
      "source": [
        "#Download na máquina local\n",
        "\n",
        "# arquivo = !ls -1t *.xlsx\n",
        "# files.download(arquivo[0])"
      ],
      "metadata": {
        "id": "2MwJTxN---_N"
      },
      "execution_count": null,
      "outputs": []
    },
    {
      "cell_type": "markdown",
      "source": [
        "#### Ler arquivo .xlsx caso precise"
      ],
      "metadata": {
        "id": "leOk52T4j9YL"
      }
    },
    {
      "cell_type": "code",
      "source": [
        "# ibov_fund = pd.read_excel('/content/Ibov+Fundamentos.xlsx').iloc[:,1:]\n",
        "# ibov_fund"
      ],
      "metadata": {
        "id": "PgrwZMQZg4f4"
      },
      "execution_count": null,
      "outputs": []
    },
    {
      "cell_type": "markdown",
      "source": [
        "## Obtenção dados CVM - Companhias Abertas"
      ],
      "metadata": {
        "id": "BChO700MiTKY"
      }
    },
    {
      "cell_type": "code",
      "source": [
        "r_cvm = requests.get('http://dados.cvm.gov.br/dados/CIA_ABERTA/CAD/DADOS/cad_cia_aberta.csv')\n",
        "\n",
        "rows = [i.strip().split(';') for i in r_cvm.text.split('\\n')]\n",
        "df_cvm = pd.DataFrame(rows[1:], columns=rows[0])[:-1]\n",
        "df_cvm"
      ],
      "metadata": {
        "id": "YZ_cK0u_idY4"
      },
      "execution_count": null,
      "outputs": []
    },
    {
      "cell_type": "code",
      "source": [
        "df_cvm.tail(3)"
      ],
      "metadata": {
        "id": "QlQBeupckbI9"
      },
      "execution_count": null,
      "outputs": []
    },
    {
      "cell_type": "code",
      "source": [
        "df_cvm['DT_REG'] = pd.to_datetime(df_cvm['DT_REG'], errors='coerce')"
      ],
      "metadata": {
        "id": "3GeIPJ4Gl5N4"
      },
      "execution_count": null,
      "outputs": []
    },
    {
      "cell_type": "code",
      "source": [
        "df_cvm.info()"
      ],
      "metadata": {
        "id": "q1UpG5wbl0On"
      },
      "execution_count": null,
      "outputs": []
    },
    {
      "cell_type": "markdown",
      "source": [
        "## Cruzamento de bases Ibovespa+Fundamentos e CVM"
      ],
      "metadata": {
        "id": "J-Y-pJmklb5V"
      }
    },
    {
      "cell_type": "markdown",
      "source": [
        "### Webscraping Infomoney (busca por CNPJ como chave única entre as bases do IBOV+Fundamentos e CVM)"
      ],
      "metadata": {
        "id": "xUfHDXprif-4"
      }
    },
    {
      "cell_type": "code",
      "source": [
        "url2 = 'https://www.infomoney.com.br/minhas-financas/confira-o-cnpj-das-acoes-negociadas-em-bolsa-e-saiba-como-declarar-no-imposto-de-renda/'\n",
        "response2 = requests.get(url2)\n",
        "\n",
        "html2 = BeautifulSoup(response2.text, \"html.parser\")\n",
        "html2.find_all('table')"
      ],
      "metadata": {
        "id": "2p0yCpcarBjS"
      },
      "execution_count": null,
      "outputs": []
    },
    {
      "cell_type": "code",
      "source": [
        "infomoney = pd.read_html(response2.text,header=0)[0]\n",
        "infomoney"
      ],
      "metadata": {
        "id": "XUu3e5ujr_Yl"
      },
      "execution_count": null,
      "outputs": []
    },
    {
      "cell_type": "code",
      "source": [
        "infomoney.to_excel('cnpj_infomoney_web.xlsx')"
      ],
      "metadata": {
        "id": "eA1MNkVvjI72"
      },
      "execution_count": null,
      "outputs": []
    },
    {
      "cell_type": "markdown",
      "source": [
        "#### Dados do Infomoney já ajustados (Nomes das Companhias)"
      ],
      "metadata": {
        "id": "2U1in9IUQjJw"
      }
    },
    {
      "cell_type": "code",
      "source": [
        "infomoney = pd.read_excel('/content/drive/MyDrive/IC ITA/Projeto de Pesquisa - IC ITA/Ibovespa/Bases/cnpj_infomoney.xlsx').iloc[:,1:]\n",
        "infomoney"
      ],
      "metadata": {
        "id": "N3ENVU49rLLl"
      },
      "execution_count": null,
      "outputs": []
    },
    {
      "cell_type": "code",
      "source": [
        "infomoney = infomoney.rename(columns={\"Nome de pregão\":\"Ação\"})"
      ],
      "metadata": {
        "id": "FD4cWcFekhlB"
      },
      "execution_count": null,
      "outputs": []
    },
    {
      "cell_type": "code",
      "source": [
        "ibov_fund_infomoney = pd.merge(ibov_fund, infomoney, how='left',on=['Ação']).reset_index().iloc[:,1:]\n",
        "ibov_fund_infomoney"
      ],
      "metadata": {
        "id": "lDmAkp6Smbnl"
      },
      "execution_count": null,
      "outputs": []
    },
    {
      "cell_type": "code",
      "source": [
        "ibov_fund_infomoney.isna().sum()"
      ],
      "metadata": {
        "id": "Vxlz8tOYluj0"
      },
      "execution_count": null,
      "outputs": []
    },
    {
      "cell_type": "code",
      "source": [
        "filtro_nan= ibov_fund_infomoney[ibov_fund_infomoney['CNPJ'].isnull()]\n",
        "filtro_nan"
      ],
      "metadata": {
        "id": "QkP2RpLVl8U7"
      },
      "execution_count": null,
      "outputs": []
    },
    {
      "cell_type": "code",
      "source": [
        "ibov_fund_infomoney['CNPJ'] = ibov_fund_infomoney['CNPJ'].str.replace('.', '')\n",
        "ibov_fund_infomoney['CNPJ'] = ibov_fund_infomoney['CNPJ'].str.replace('/', '')\n",
        "ibov_fund_infomoney['CNPJ'] = ibov_fund_infomoney['CNPJ'].str.replace('-', '')\n",
        "ibov_fund_infomoney['CNPJ'] = ibov_fund_infomoney['CNPJ'].astype(int)\n",
        "ibov_fund_infomoney"
      ],
      "metadata": {
        "id": "zNLx6Jsmsltb"
      },
      "execution_count": null,
      "outputs": []
    },
    {
      "cell_type": "markdown",
      "source": [
        "#### Arrumando CNPJ Base CVM"
      ],
      "metadata": {
        "id": "QD8fKL2UEGWy"
      }
    },
    {
      "cell_type": "code",
      "source": [
        "df_cvm = df_cvm.rename(columns={\"CNPJ_CIA\":\"CNPJ\"})\n",
        "df_cvm['CNPJ'] = df_cvm['CNPJ'].str.replace('.', '')\n",
        "df_cvm['CNPJ'] = df_cvm['CNPJ'].str.replace('/', '')\n",
        "df_cvm['CNPJ'] = df_cvm['CNPJ'].str.replace('-','')\n",
        "df_cvm['CNPJ'] = df_cvm['CNPJ'].astype(int)\n",
        "df_cvm"
      ],
      "metadata": {
        "id": "Twh_20tXyDOQ"
      },
      "execution_count": null,
      "outputs": []
    },
    {
      "cell_type": "code",
      "source": [
        "ibov_fund_cvm =  pd.merge(ibov_fund_infomoney,df_cvm, how='left',on=['CNPJ']).sort_values(by='P/L', ascending = True).reset_index().iloc[:,1:]\n",
        "ibov_fund_cvm"
      ],
      "metadata": {
        "id": "hWDKLJ7j2JfR"
      },
      "execution_count": null,
      "outputs": []
    },
    {
      "cell_type": "code",
      "source": [
        "filtro_nan2= ibov_fund_cvm[ibov_fund_cvm['CNPJ'].isnull()]\n",
        "filtro_nan2"
      ],
      "metadata": {
        "id": "H-UJtME92eom"
      },
      "execution_count": null,
      "outputs": []
    },
    {
      "cell_type": "code",
      "source": [
        "ibov_fund_cvm.columns"
      ],
      "metadata": {
        "id": "B7bVAucb2suo"
      },
      "execution_count": null,
      "outputs": []
    },
    {
      "cell_type": "code",
      "source": [
        "ibov_fund_cvm = ibov_fund_cvm[['Setor', 'Código', 'Ação', 'Tipo', 'Qtde. Teórica', 'Part. (%)',\n",
        "       'Part. (%)Acum.', 'Data Carteira', 'DT_REG', 'Cotação', 'P/L', 'P/VP', 'PSR',\n",
        "       'Div.Yield', 'P/Ativo', 'P/Cap.Giro', 'P/EBIT', 'P/Ativ Circ.Liq',\n",
        "       'EV/EBIT', 'EV/EBITDA', 'Mrg Ebit', 'Mrg. Líq.', 'Liq. Corr.', 'ROIC',\n",
        "       'ROE', 'Liq.2meses', 'Patrim. Líq', 'Dív.Líq/ Patrim.',\n",
        "       'Cresc. Rec.5a','Dívida Líquida/EBITDA', 'Valor de Mercado']]\n",
        "\n",
        "ibov_fund_cvm"
      ],
      "metadata": {
        "id": "xkO8j6yA3W6A"
      },
      "execution_count": null,
      "outputs": []
    },
    {
      "cell_type": "code",
      "source": [
        "ibov_fund_cvm['DT_REG'] = pd.to_datetime(ibov_fund_cvm['DT_REG'], errors='coerce')\n",
        "ibov_fund_cvm.info()"
      ],
      "metadata": {
        "id": "jCqDdId_39Vx"
      },
      "execution_count": null,
      "outputs": []
    },
    {
      "cell_type": "code",
      "source": [
        "ibov_fund_cvm = ibov_fund_cvm.rename(columns={\"DT_REG\":\"Data Referência IPO\"})\n",
        "ibov_fund_cvm = ibov_fund_cvm.sort_values(by=['Código','Data Referência IPO']).drop_duplicates(subset=['Código'], keep='last').reset_index().iloc[:,1:]\n",
        "ibov_fund_cvm.to_excel('Base_Ibov_final.xlsx')"
      ],
      "metadata": {
        "id": "_b34b_B-4ccM"
      },
      "execution_count": null,
      "outputs": []
    },
    {
      "cell_type": "code",
      "source": [
        "#Download na máquina local\n",
        "\n",
        "# arquivo = !ls -1t *.xlsx\n",
        "# files.download(arquivo[0])"
      ],
      "metadata": {
        "id": "qJ73Qoy34z3d"
      },
      "execution_count": null,
      "outputs": []
    },
    {
      "cell_type": "code",
      "source": [
        "ibov_fund_cvm.iloc[:,1:]"
      ],
      "metadata": {
        "id": "CNjJaH6yDgoh"
      },
      "execution_count": null,
      "outputs": []
    },
    {
      "cell_type": "code",
      "source": [
        "filtro_cod= ibov_fund_cvm[ibov_fund_cvm['Código']==\"IGTI11\"]\n",
        "filtro_cod"
      ],
      "metadata": {
        "id": "wrc9hEBxG6pG"
      },
      "execution_count": null,
      "outputs": []
    },
    {
      "cell_type": "markdown",
      "source": [
        "#### Selecionando ações com IPO antes de 2016"
      ],
      "metadata": {
        "id": "l89qjta4j0gY"
      }
    },
    {
      "cell_type": "code",
      "source": [
        "base_ibov_pre = ibov_fund_cvm[(ibov_fund_cvm['Data Referência IPO'] <= '2016-01-01')] \n",
        "base_ibov_pre"
      ],
      "metadata": {
        "id": "3eOYakPYFtOM"
      },
      "execution_count": null,
      "outputs": []
    },
    {
      "cell_type": "code",
      "source": [
        "base_ibov_pre.to_excel('base_ibov_fundamentos_ipo_pre_2016.xlsx')"
      ],
      "metadata": {
        "id": "z3dYGX4oxq5T"
      },
      "execution_count": null,
      "outputs": []
    },
    {
      "cell_type": "code",
      "source": [
        "#Download na máquina local\n",
        "\n",
        "# arquivo = !ls -1t *.xlsx\n",
        "# files.download(arquivo[0])"
      ],
      "metadata": {
        "id": "bN1UXn9bx9Go"
      },
      "execution_count": null,
      "outputs": []
    },
    {
      "cell_type": "markdown",
      "source": [
        "#### Selecionando ações com IPO pós de 2016\n",
        "\n"
      ],
      "metadata": {
        "id": "QpfUui3MjhGR"
      }
    },
    {
      "cell_type": "code",
      "source": [
        "base_ibov_pos = ibov_fund_cvm[(ibov_fund_cvm['Data Referência IPO'] >= '2016-01-01')] \n",
        "base_ibov_pos"
      ],
      "metadata": {
        "id": "NyfbDAvhOmeN"
      },
      "execution_count": null,
      "outputs": []
    },
    {
      "cell_type": "code",
      "source": [
        "base_ibov_pos[['Código','Data Referência IPO']].reset_index().iloc[:,1:]"
      ],
      "metadata": {
        "id": "Moz9iNzAPAds"
      },
      "execution_count": null,
      "outputs": []
    },
    {
      "cell_type": "markdown",
      "source": [
        "## Seleção da cesta de ações"
      ],
      "metadata": {
        "id": "3JAIiOcwyZQv"
      }
    },
    {
      "cell_type": "code",
      "source": [
        "base_ibov_pre.sort_values(by='ROE', ascending = True)"
      ],
      "metadata": {
        "id": "ebGPnNzkyoXQ"
      },
      "execution_count": null,
      "outputs": []
    },
    {
      "cell_type": "code",
      "source": [
        "all_data = []  \n",
        "\n",
        "for i in range(10,29):\n",
        "  base2 = base_ibov_pre.iloc[:,i].groupby(base_ibov_pre['Setor']).mean().sort_values(ascending=False)\n",
        "  base2 = pd.DataFrame(base2)\n",
        "  all_data.append(base2)\n",
        "\n",
        "base= pd.concat(all_data, axis=1)\n",
        "base"
      ],
      "metadata": {
        "id": "bwu8y-Piy7Vp"
      },
      "execution_count": null,
      "outputs": []
    },
    {
      "cell_type": "code",
      "source": [
        "fig = make_subplots(rows=2, cols=3)\n",
        " \n",
        "fig.append_trace(go.Bar(name = \"Média P/L\",\n",
        "    y=base['P/L'],\n",
        "    x=base.index,\n",
        "), row=1, col=1)\n",
        " \n",
        "fig.append_trace(go.Bar(name = \"Média P/VP\",\n",
        "    y=base['P/VP'],\n",
        "    x=base.index,\n",
        "), row=1, col=2)\n",
        " \n",
        "fig.append_trace(go.Bar(name = \"Média Div.Yield\",\n",
        "    y=round(base['Div.Yield']*100,2),\n",
        "    x=base.index,\n",
        "), row=1, col=3)\n",
        "\n",
        "fig.append_trace(go.Bar(name = \"Média EV/EBITDA\",\n",
        "    y=base['EV/EBITDA'],\n",
        "    x=base.index,\n",
        "), row=2, col=1)\n",
        " \n",
        "fig.append_trace(go.Bar(name = \"Patrim. Líq\",\n",
        "    y=base['Patrim. Líq'],\n",
        "    x=base.index,\n",
        "), row=2, col=2)\n",
        " \n",
        "fig.append_trace(go.Bar(name = \"Média ROE\",\n",
        "    y=round(base['ROE']*100,2),\n",
        "    x=base.index,\n",
        "), row=2, col=3)\n",
        " \n",
        " \n",
        "fig.update_layout(height=1400,width=1900,title_text=\"Médias Múltiplos por Setor\",font_size=7.5)\n",
        "fig.update_xaxes(rangeselector_font_size=5)\n",
        "fig.show()"
      ],
      "metadata": {
        "id": "GQtCosXLC3NX"
      },
      "execution_count": null,
      "outputs": []
    },
    {
      "cell_type": "markdown",
      "source": [
        "#### Função criada para fornecer agilidade nas análises, conforme abaixo:\n",
        "\n",
        "*  Dividiu-se entre múltiplos \"maior melhor\" e \"menor melhor\". Dessa forma, a escolha dos ativos passou por uma ponderada simples que relaciona os múltiplos da seguinte forma através de um Classificador: \n",
        "\n",
        "        Classificador = (1/múltiplo \"menor melhor\")*(múltiplo \"maior melhor\")\n",
        "\n",
        "\n",
        "* Na análise abaixo, portanto, utilizou-se  múltiplo P/L como \"menor melhor\" e o ROE como \"Maior Melhor\", selecionando-se 15 empresas com o Classificador gerado em ordem crescente (0). Outra opção seria colocar o Classicador em ordem descrescente (1)\n",
        "\n",
        "#### Múltiplos possíveis a serem analisados:\n",
        "'P/L', 'P/VP', 'PSR', 'Div.Yield', 'P/Ativo', 'P/Cap.Giro', 'P/EBIT', 'P/Ativ Circ.Liq', 'EV/EBIT', 'EV/EBITDA', 'Mrg Ebit', 'Mrg. Líq.', 'Liq. Corr.', 'ROIC', 'ROE', 'Liq.2meses', 'Patrim. Líq', 'Dív.Brut/ Patrim.', 'Cresc. Rec.5a','Dívida Líquida/EBITDA', 'Valor de Mercado'\n",
        "\n",
        "\n",
        "\n"
      ],
      "metadata": {
        "id": "jF8tuPHaR0vS"
      }
    },
    {
      "cell_type": "code",
      "source": [
        "def criterio_carteira(multiplo_maior_melhor,multiplo_menor_melhor,qtd,superior_inferior):\n",
        "\n",
        "  base_new = base_ibov_pre\n",
        "\n",
        "  for i in multiplo_menor_melhor:\n",
        "    base_new[i] = (1/base_new[i])\n",
        "\n",
        "  sum_list = multiplo_maior_melhor + multiplo_menor_melhor\n",
        "\n",
        "  base_new['Classificador'] = 1\n",
        "\n",
        "  for n in sum_list:\n",
        "    base_new['Classificador'] =  base_new['Classificador']*base_new[n] \n",
        "\n",
        "  if superior_inferior == 0:\n",
        "    base_new = base_new.sort_values(by = ['Classificador'],ascending = True)\n",
        "    return base_new['Código'].iloc[:qtd]\n",
        "\n",
        "  elif superior_inferior == 1:\n",
        "    base_new = base_new.sort_values(by = ['Classificador'],ascending = False)\n",
        "    return base_new['Código'].iloc[:qtd]\n",
        "\n",
        "  else:\n",
        "    print(\"Você tem que escolher 0 ou 1\")"
      ],
      "metadata": {
        "id": "wmDlHO6KSgUX"
      },
      "execution_count": null,
      "outputs": []
    },
    {
      "cell_type": "code",
      "source": [
        "multiplo_maior_melhor = []\n",
        "multiplo_menor_melhor = []\n",
        "qtd_ativos = len(base_ibov_pre)     #Trazendo todos os ativos do Ibovespa com IPO anterior a 2016\n",
        "ordem = 0\n",
        "\n",
        "ativos = criterio_carteira(multiplo_maior_melhor,multiplo_menor_melhor,qtd_ativos,ordem)\n",
        "ativos = list(ativos)\n",
        "ativos"
      ],
      "metadata": {
        "id": "Eov0SyDEVCxE"
      },
      "execution_count": null,
      "outputs": []
    },
    {
      "cell_type": "markdown",
      "source": [
        "#### Função para inserir S.A nos tickers"
      ],
      "metadata": {
        "id": "KW6BZZ79g4nt"
      }
    },
    {
      "cell_type": "code",
      "source": [
        "sa = '.SA'\n",
        "\n",
        "ativos_sa = []\n",
        "\n",
        "for item in ativos:\n",
        "    ativos_sa.append(str(item)+sa)\n",
        "\n",
        "ativos_sa= list(ativos_sa)\n",
        "ativos_sa"
      ],
      "metadata": {
        "id": "eWMF99vcggsh"
      },
      "execution_count": null,
      "outputs": []
    },
    {
      "cell_type": "markdown",
      "source": [
        "## Obtendo dados via *Yahoo Finance*"
      ],
      "metadata": {
        "id": "0LPI89J6cF_S"
      }
    },
    {
      "cell_type": "code",
      "source": [
        "df= pd.DataFrame()\n",
        "\n",
        "inicio = '2016-01-01'\n",
        "fim = '2020-12-31'\n",
        "\n",
        "for ativo in ativos_sa:\n",
        "  df[ativo] = yf.download(ativo, start = inicio, end = fim)['Adj Close']"
      ],
      "metadata": {
        "id": "7Csv1Z-UcUp1"
      },
      "execution_count": null,
      "outputs": []
    },
    {
      "cell_type": "code",
      "source": [
        "df.columns = df.columns.str[:-3]\n",
        "df"
      ],
      "metadata": {
        "id": "zSfepZajwems"
      },
      "execution_count": null,
      "outputs": []
    },
    {
      "cell_type": "markdown",
      "source": [
        "#### Excluido Tickers em que a série de preços vieram NaN da API"
      ],
      "metadata": {
        "id": "yOs8FbVVTPNW"
      }
    },
    {
      "cell_type": "code",
      "source": [
        "df = df.dropna(axis=1, how=\"all\")\n",
        "df.columns"
      ],
      "metadata": {
        "id": "Psr4Bkk8SvNG"
      },
      "execution_count": null,
      "outputs": []
    },
    {
      "cell_type": "code",
      "source": [
        "df_nan = pd.DataFrame(df.isna().sum())\n",
        "df_nan"
      ],
      "metadata": {
        "id": "cmnCrC7IxERZ"
      },
      "execution_count": null,
      "outputs": []
    },
    {
      "cell_type": "markdown",
      "source": [
        "#### Substituindo *missing values* pelo valor anterior da série"
      ],
      "metadata": {
        "id": "B4uh8307It9a"
      }
    },
    {
      "cell_type": "code",
      "source": [
        "df = df.ffill(axis=1)"
      ],
      "metadata": {
        "id": "REtnkFxJH26k"
      },
      "execution_count": null,
      "outputs": []
    },
    {
      "cell_type": "code",
      "source": [
        "df"
      ],
      "metadata": {
        "id": "QAVnkDydH71X"
      },
      "execution_count": null,
      "outputs": []
    },
    {
      "cell_type": "code",
      "source": [
        "df_nan = pd.DataFrame(df.isna().sum())\n",
        "df_nan"
      ],
      "metadata": {
        "id": "y0aLLUbF_IaR"
      },
      "execution_count": null,
      "outputs": []
    },
    {
      "cell_type": "code",
      "source": [
        "df.plot(figsize = (30.7,15.5))"
      ],
      "metadata": {
        "id": "j_FhPHJDw9-Q"
      },
      "execution_count": null,
      "outputs": []
    },
    {
      "cell_type": "code",
      "source": [
        "preco_normalizado = df/df.iloc[0]\n",
        "preco_normalizado"
      ],
      "metadata": {
        "id": "GrP5sWdNxNSL"
      },
      "execution_count": null,
      "outputs": []
    },
    {
      "cell_type": "code",
      "source": [
        "preco_normalizado.plot(figsize = (30.7,15.5))"
      ],
      "metadata": {
        "id": "6B5aJEljxdkv"
      },
      "execution_count": null,
      "outputs": []
    },
    {
      "cell_type": "markdown",
      "source": [
        "### Log Retornos"
      ],
      "metadata": {
        "id": "r7TOydcSyWd3"
      }
    },
    {
      "cell_type": "code",
      "source": [
        "df_log = (df.pct_change(axis=0)).apply(np.log1p)\n",
        "df_log= df_log.iloc[1:,:]\n",
        "df_log"
      ],
      "metadata": {
        "id": "sttkgWLHx33q"
      },
      "execution_count": null,
      "outputs": []
    },
    {
      "cell_type": "code",
      "source": [
        "plt.rcParams.update({'font.size': 15})\n",
        "plt.rc('legend', fontsize=7.45) \n",
        "df_log.plot(figsize=(30,17))\n",
        "plt.ylabel('Retornos Logarítmicos')\n",
        "plt.xlabel('Data')\n",
        "plt.show()"
      ],
      "metadata": {
        "id": "5xb5QbC5yctp"
      },
      "execution_count": null,
      "outputs": []
    },
    {
      "cell_type": "code",
      "source": [
        "df_log.plot.hist(bins=100,figsize=(20,17));"
      ],
      "metadata": {
        "id": "EM-c539N2Fyq"
      },
      "execution_count": null,
      "outputs": []
    },
    {
      "cell_type": "code",
      "source": [
        "correlacao = df_log.corr()\n",
        "correlacao"
      ],
      "metadata": {
        "id": "efUYNkPO5PX9"
      },
      "execution_count": null,
      "outputs": []
    },
    {
      "cell_type": "code",
      "source": [
        "plt.figure(figsize = (130, 120))\n",
        "sns.heatmap(round(correlacao,2), annot = True, cmap = \"Blues\")"
      ],
      "metadata": {
        "id": "JlcfIaxS5UQd"
      },
      "execution_count": null,
      "outputs": []
    },
    {
      "cell_type": "code",
      "source": [
        "from scipy.cluster.hierarchy import dendrogram, linkage\n",
        "from scipy.spatial.distance import pdist, squareform\n",
        "\n",
        "plt.figure(figsize=(25,7))\n",
        "distances = np.sqrt((1 - correlacao) / 2)\n",
        "clusters = linkage(squareform(distances), method=\"ward\")\n",
        "\n",
        "dendrogram(clusters, labels=df_log.columns);"
      ],
      "metadata": {
        "id": "JCPx9Nv2zefF"
      },
      "execution_count": null,
      "outputs": []
    },
    {
      "cell_type": "markdown",
      "source": [
        "###Risco x Retorno"
      ],
      "metadata": {
        "id": "WcWzyh9kzC6U"
      }
    },
    {
      "cell_type": "code",
      "source": [
        "df_log.std()"
      ],
      "metadata": {
        "id": "Y5rbtJTLy3vY"
      },
      "execution_count": null,
      "outputs": []
    },
    {
      "cell_type": "code",
      "source": [
        "volatilidade = pd.DataFrame(df_log.std(), columns=['Vol'])\n",
        "\n",
        "retornos_log_medios = pd.DataFrame(df_log.mean(), columns=['Retornos'])"
      ],
      "metadata": {
        "id": "qweP7SlazTMh"
      },
      "execution_count": null,
      "outputs": []
    },
    {
      "cell_type": "code",
      "source": [
        "volatilidade"
      ],
      "metadata": {
        "id": "nsehUu-vzaoY"
      },
      "execution_count": null,
      "outputs": []
    },
    {
      "cell_type": "code",
      "source": [
        "y = round(volatilidade['Vol'],4)\n",
        "x = volatilidade.index\n",
        "\n",
        "color = np.where(y<0, 'red', 'blue')\n",
        "\n",
        "fig = go.Figure(data=[go.Bar(x = x,\n",
        "             y=y,\n",
        "            text=y,\n",
        "            textposition='auto',\n",
        "            marker_color = color\n",
        "        )])\n",
        "fig.update_layout(height=525, width=1000,title_text='Volatilidade por Ação')\n",
        "fig.show()"
      ],
      "metadata": {
        "id": "I6X4A60_2mgn"
      },
      "execution_count": null,
      "outputs": []
    },
    {
      "cell_type": "code",
      "source": [
        "retornos_log_medios"
      ],
      "metadata": {
        "id": "-uHB08jrzfxC"
      },
      "execution_count": null,
      "outputs": []
    },
    {
      "cell_type": "code",
      "source": [
        "y = round(retornos_log_medios['Retornos'],4)\n",
        "x = retornos_log_medios.index\n",
        "\n",
        "color = np.where(y<0, 'red', 'blue')\n",
        "\n",
        "fig = go.Figure(data=[go.Bar(x = x,\n",
        "             y=y,\n",
        "            text=y,\n",
        "            textposition='auto',\n",
        "            marker_color = color\n",
        "        )])\n",
        "fig.update_layout(height=525, width=1000,title_text='Log Retorno Médio por Ação')\n",
        "fig.show()"
      ],
      "metadata": {
        "id": "smaDJDCv3LP6"
      },
      "execution_count": null,
      "outputs": []
    },
    {
      "cell_type": "code",
      "source": [
        "risco_retorno = pd.concat([retornos_log_medios, volatilidade], axis = 1)\n",
        "risco_retorno"
      ],
      "metadata": {
        "id": "exk3Hu1fzoTN"
      },
      "execution_count": null,
      "outputs": []
    },
    {
      "cell_type": "code",
      "source": [
        "#Risk Free Rate\n",
        "r = 0.1075\n",
        "\n",
        "risco_retorno['Sharpe'] = (risco_retorno['Retornos'] - r)/risco_retorno['Vol']\n",
        "risco_retorno.sort_values(by = ['Sharpe'], ascending = False)"
      ],
      "metadata": {
        "id": "F5ZvvDVTri6Q"
      },
      "execution_count": null,
      "outputs": []
    },
    {
      "cell_type": "markdown",
      "source": [
        "### Plotando"
      ],
      "metadata": {
        "id": "Hx2yWGZozxrf"
      }
    },
    {
      "cell_type": "code",
      "source": [
        "plt.subplots(figsize = (10,8))\n",
        "\n",
        "sns.scatterplot(data = risco_retorno, x = 'Vol', y = 'Retornos')\n",
        "\n",
        "for i in range(risco_retorno.shape[0]):\n",
        "  plt.text(x = risco_retorno.Vol[i] , y = risco_retorno.Retornos[i], s = risco_retorno.index[i],\n",
        "           fontdict = dict(color = 'white', size = 15),\n",
        "           bbox = dict(facecolor = 'Blue'))"
      ],
      "metadata": {
        "id": "2MGRyrg5z15y"
      },
      "execution_count": null,
      "outputs": []
    },
    {
      "cell_type": "code",
      "source": [
        "df_sharpe = risco_retorno.reset_index()\n",
        "df_sharpe = df_sharpe.rename(columns={\"index\":\"Código\"})\n",
        "df_sharpe"
      ],
      "metadata": {
        "id": "7eoOgj3HdfZS"
      },
      "execution_count": null,
      "outputs": []
    },
    {
      "cell_type": "markdown",
      "source": [
        "# Reprocessing"
      ],
      "metadata": {
        "id": "lftriLahZvyp"
      }
    },
    {
      "cell_type": "markdown",
      "source": [
        "## Tsfeatures\n",
        "#### Documentação em Python disponível no repositório: [Nixtla/tsfeatures](https://https://github.com/Nixtla/tsfeatures)"
      ],
      "metadata": {
        "id": "wyWbQMTjaWd3"
      }
    },
    {
      "cell_type": "code",
      "source": [
        "from tsfeatures import tsfeatures as tf"
      ],
      "metadata": {
        "id": "eVZionRIargs"
      },
      "execution_count": null,
      "outputs": []
    },
    {
      "cell_type": "code",
      "source": [
        "df_log.index.name = 'Date'\n",
        "df_ts = df_log.reset_index().melt('Date', var_name=['unique_id'])\n",
        "df_ts = df_ts.rename(columns={\"Date\":\"ds\",\"value\":\"y\"})\n",
        "df_ts = df_ts[['unique_id','ds','y']]\n",
        "df_ts"
      ],
      "metadata": {
        "id": "kJFhXrdsf3Uv"
      },
      "execution_count": null,
      "outputs": []
    },
    {
      "cell_type": "code",
      "source": [
        "df_ts = df_ts[np.isfinite(df_ts['y']) == True]"
      ],
      "metadata": {
        "id": "yETtd2ubE1_E"
      },
      "execution_count": null,
      "outputs": []
    },
    {
      "cell_type": "code",
      "source": [
        "from pandas.core.arrays.numeric import T\n",
        "df_features = tf(df_ts, freq=7)\n",
        "df_features"
      ],
      "metadata": {
        "id": "Ut9i1sNYhME4"
      },
      "execution_count": null,
      "outputs": []
    },
    {
      "cell_type": "code",
      "source": [
        "df_features = df_features.rename(columns={\"unique_id\":\"Código\"})\n",
        "df_features.columns"
      ],
      "metadata": {
        "id": "YyIOdEEOhuDX"
      },
      "execution_count": null,
      "outputs": []
    },
    {
      "cell_type": "markdown",
      "source": [
        "## Cruzando as bases Ibov + Fundamentos + Features"
      ],
      "metadata": {
        "id": "FklzCWe9YyP0"
      }
    },
    {
      "cell_type": "code",
      "source": [
        "ibov_fund_features = pd.merge(base_ibov_pre, df_features, how='left',on=['Código']).reset_index().iloc[:,1:]\n",
        "ibov_fund_features = pd.merge(ibov_fund_features, df_sharpe, how='left',on=['Código']).reset_index().iloc[:,1:]\n",
        "ibov_fund_features "
      ],
      "metadata": {
        "id": "3i8bPLF4Y7JI"
      },
      "execution_count": null,
      "outputs": []
    },
    {
      "cell_type": "code",
      "source": [
        "ibov_fund_features.to_excel('Ibov_Features.xlsx')"
      ],
      "metadata": {
        "id": "evkya17pcpD7"
      },
      "execution_count": null,
      "outputs": []
    },
    {
      "cell_type": "code",
      "source": [
        "#Download na máquina local\n",
        "\n",
        "# arquivo = !ls -1t *.xlsx\n",
        "# files.download(arquivo[0])"
      ],
      "metadata": {
        "id": "uhxPDmgJc-eH"
      },
      "execution_count": null,
      "outputs": []
    },
    {
      "cell_type": "markdown",
      "source": [
        "# Nova Abordagem: Buscar Fundamentos das Empresas do Ibov de 2016 a 2020"
      ],
      "metadata": {
        "id": "OEoHzXyKSCA1"
      }
    },
    {
      "cell_type": "code",
      "source": [
        "import os\n",
        "\n",
        "empresas = ativos\n",
        "\n",
        "arquivos = os.listdir(\"/content/drive/MyDrive/IC ITA/Projeto de Pesquisa - IC ITA/Ibovespa/Bases/balancos_2016_2020/balancos_convert\")"
      ],
      "metadata": {
        "id": "vRQryrR-LFLZ"
      },
      "execution_count": null,
      "outputs": []
    },
    {
      "cell_type": "markdown",
      "source": [
        "## Balanço Patrimonial"
      ],
      "metadata": {
        "id": "_WBlu6XKdqO0"
      }
    },
    {
      "cell_type": "code",
      "source": [
        "balanco = pd.DataFrame()\n",
        "\n",
        "for arquivo in arquivos:\n",
        "    nome = arquivo.split('balanco_')[1]\n",
        "    nome = nome.split('.xlsx')[0]\n",
        "    \n",
        "    if nome in empresas:\n",
        "      data = pd.read_excel(f'/content/drive/MyDrive/IC ITA/Projeto de Pesquisa - IC ITA/Ibovespa/Bases/balancos_2016_2020/balancos_convert/{arquivo}', sheet_name=0,skiprows=1).T\n",
        "      data['Código'] = nome\n",
        "      balanco = balanco.append(data)"
      ],
      "metadata": {
        "id": "ArckN_OJV91z"
      },
      "execution_count": null,
      "outputs": []
    },
    {
      "cell_type": "code",
      "source": [
        "balanco = balanco.rename(columns=balanco.iloc[0]).drop(balanco.index[0]).iloc[:,:-1]\n",
        "balanco = balanco.rename(columns={\"ABEV3\":\"Código_bp\"})\n",
        "balanco.index = pd.to_datetime(balanco.index, errors='coerce')\n",
        "balanco= balanco[(balanco.index >= '2016-01-01')] \n",
        "balanco"
      ],
      "metadata": {
        "id": "t_nJhqWRXWtA"
      },
      "execution_count": null,
      "outputs": []
    },
    {
      "cell_type": "code",
      "source": [
        "balanco_ativos = balanco['Código_bp'].groupby(balanco['Código_bp']).count().sort_values(ascending=False)\n",
        "balanco_ativos = pd.DataFrame(balanco_ativos)\n",
        "balanco_ativos = balanco_ativos[(balanco_ativos['Código_bp'] == 20)]\n",
        "balanco_ativos"
      ],
      "metadata": {
        "id": "8D0AtN5I4hkR"
      },
      "execution_count": null,
      "outputs": []
    },
    {
      "cell_type": "code",
      "source": [
        "balanco_ativos.shape"
      ],
      "metadata": {
        "id": "Gu5vMdBl2dNf"
      },
      "execution_count": null,
      "outputs": []
    },
    {
      "cell_type": "code",
      "source": [
        "balanco_final = balanco[balanco.Código_bp.isin(balanco_ativos.index)]\n",
        "balanco_final = balanco_final.reset_index(level=0)\n",
        "balanco_final = balanco_final.rename(columns = {'index':'Data'})\n",
        "balanco_final"
      ],
      "metadata": {
        "id": "SO9JLL5vjA8g"
      },
      "execution_count": null,
      "outputs": []
    },
    {
      "cell_type": "markdown",
      "source": [
        "## DRE"
      ],
      "metadata": {
        "id": "hkLj7x-YgdXl"
      }
    },
    {
      "cell_type": "code",
      "source": [
        "dre = pd.DataFrame()\n",
        "\n",
        "for arquivo in arquivos:\n",
        "  nome = arquivo.split('balanco_')[1]\n",
        "  nome = nome.split('.xlsx')[0]\n",
        "  \n",
        "  if nome in empresas:\n",
        "    data = pd.read_excel(f'/content/drive/MyDrive/IC ITA/Projeto de Pesquisa - IC ITA/Ibovespa/Bases/balancos_2016_2020/balancos_convert/{arquivo}', sheet_name=1,skiprows=1).T\n",
        "    data['Código'] = nome\n",
        "    dre = dre.append(data)"
      ],
      "metadata": {
        "id": "mFP3hKYFggpF"
      },
      "execution_count": null,
      "outputs": []
    },
    {
      "cell_type": "code",
      "source": [
        "dre = dre.rename(columns=dre.iloc[0]).drop(dre.index[0])\n",
        "dre = dre.rename(columns={\"ABEV3\":\"Código\"})\n",
        "dre.index = pd.to_datetime(dre.index, errors='coerce')\n",
        "dre = dre[(dre.index >= '2016-01-01')] \n",
        "dre"
      ],
      "metadata": {
        "id": "C3sJoF8VIIma"
      },
      "execution_count": null,
      "outputs": []
    },
    {
      "cell_type": "code",
      "source": [
        "dre_ativos = dre['Código'].groupby(dre['Código']).count().sort_values(ascending=False)\n",
        "dre_ativos = pd.DataFrame(dre_ativos)\n",
        "dre_ativos = dre_ativos[(dre_ativos['Código'] == 20)]\n",
        "dre_ativos"
      ],
      "metadata": {
        "id": "ZSiU2O2b1Mbh"
      },
      "execution_count": null,
      "outputs": []
    },
    {
      "cell_type": "code",
      "source": [
        "dre_final = dre[dre.Código.isin(dre_ativos.index)]\n",
        "dre_final = dre_final.reset_index(level=0)\n",
        "dre_final = dre_final.rename(columns = {'index':'Data_dre'})\n",
        "dre_final"
      ],
      "metadata": {
        "id": "uEYddsIBj1_l"
      },
      "execution_count": null,
      "outputs": []
    },
    {
      "cell_type": "markdown",
      "source": [
        "## BP + DRE"
      ],
      "metadata": {
        "id": "grnEGd_Yh1GT"
      }
    },
    {
      "cell_type": "code",
      "source": [
        "fundamentos = pd.concat([balanco_final.reset_index(drop=True), dre_final.reset_index(drop=True)], axis = 1)\n",
        "fundamentos = fundamentos.drop(['Código_bp','Data_dre'], axis= 1, inplace = False)\n",
        "fundamentos = fundamentos.set_index('Data')\n",
        "fundamentos = fundamentos.sort_values(by = ['Data','Código'], ascending = True)\n",
        "fundamentos"
      ],
      "metadata": {
        "id": "jzjt7zmBh46J"
      },
      "execution_count": null,
      "outputs": []
    },
    {
      "cell_type": "code",
      "source": [
        "fundamentos = fundamentos.replace(np.nan, 0)"
      ],
      "metadata": {
        "id": "b0xrPryPnhxA"
      },
      "execution_count": null,
      "outputs": []
    },
    {
      "cell_type": "code",
      "source": [
        "for coluna in list(fundamentos[fundamentos.columns.difference(['Código'])]):\n",
        "  fundamentos[coluna] = fundamentos[coluna].replace('.','',regex=True)\n",
        "  fundamentos[coluna] = fundamentos[coluna].replace('.',',',regex=True)\n",
        "  fundamentos[coluna] = fundamentos[coluna].astype('float')"
      ],
      "metadata": {
        "id": "c4udLxuUST6T"
      },
      "execution_count": null,
      "outputs": []
    },
    {
      "cell_type": "code",
      "source": [
        "fundamentos"
      ],
      "metadata": {
        "id": "HWKH3hhHlv92"
      },
      "execution_count": null,
      "outputs": []
    },
    {
      "cell_type": "code",
      "source": [
        "fundamentos.isna().sum()"
      ],
      "metadata": {
        "id": "C1EjRzzem-zA"
      },
      "execution_count": null,
      "outputs": []
    },
    {
      "cell_type": "code",
      "source": [
        "fundamentos = fundamentos.reset_index().merge(base_ibov_pre, how = 'left', on = 'Código').iloc[:,:-30].set_index('Data')\n",
        "fundamentos"
      ],
      "metadata": {
        "id": "ZfEIQi2q6Rop"
      },
      "execution_count": null,
      "outputs": []
    },
    {
      "cell_type": "code",
      "source": [
        "fundamentos.to_excel(\"Base final de Fundamentos IBOV.xlsx\")"
      ],
      "metadata": {
        "id": "-pRyIzkFqU4Y"
      },
      "execution_count": null,
      "outputs": []
    }
  ]
}