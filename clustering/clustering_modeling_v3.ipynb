{
  "nbformat": 4,
  "nbformat_minor": 0,
  "metadata": {
    "colab": {
      "name": "clustering_modeling_v3.ipynb",
      "provenance": [],
      "collapsed_sections": [
        "2J7TRt-oFeaU",
        "T8mZv5LOzh59",
        "xslRUroGBqRU",
        "793Ye0Se7t8S",
        "EsN6GkLmCNmb",
        "KrbJBHTdfbmI",
        "IdFKlduiX_db",
        "64dXq-R1LIDW",
        "UBL4BRVXfb3z",
        "dn3dS4ZtakKa",
        "c9iovdkQs1SO",
        "l0oN6zBz0ODp",
        "XttWjZTm0ODq",
        "PCWSAE1B0ODq",
        "ORrFdzcf0ODt",
        "jLah8L1z0ODx",
        "lGg3ji1H0ODz",
        "YXyuJHZ0txmC",
        "NpP7xKz2xTLp",
        "We6wOSgwxTLr",
        "TCyzECS7xTLr",
        "L-66HpEfxTLv",
        "lzD3H7SoxTLx",
        "yGWs22u0xTL1",
        "UaGWFJKguC3F",
        "5I3-3cFvp4YB"
      ],
      "include_colab_link": true
    },
    "kernelspec": {
      "name": "python3",
      "display_name": "Python 3"
    },
    "language_info": {
      "name": "python"
    }
  },
  "cells": [
    {
      "cell_type": "markdown",
      "metadata": {
        "id": "view-in-github",
        "colab_type": "text"
      },
      "source": [
        "<a href=\"https://colab.research.google.com/github/vhppacheco/ic-ita-finance-ia/blob/main/clustering/clustering_modeling_v3.ipynb\" target=\"_parent\"><img src=\"https://colab.research.google.com/assets/colab-badge.svg\" alt=\"Open In Colab\"/></a>"
      ]
    },
    {
      "cell_type": "markdown",
      "metadata": {
        "id": "2J7TRt-oFeaU"
      },
      "source": [
        "#Libs"
      ]
    },
    {
      "cell_type": "code",
      "execution_count": 1,
      "metadata": {
        "colab": {
          "base_uri": "https://localhost:8080/"
        },
        "id": "K8UywsB72eGq",
        "outputId": "77954634-c717-457d-e921-717a886241db"
      },
      "outputs": [
        {
          "output_type": "stream",
          "name": "stdout",
          "text": [
            "\u001b[K     |████████████████████████████████| 6.4 MB 21.1 MB/s \n",
            "\u001b[K     |████████████████████████████████| 63 kB 1.3 MB/s \n",
            "\u001b[31mERROR: pip's dependency resolver does not currently take into account all the packages that are installed. This behaviour is the source of the following dependency conflicts.\n",
            "google-colab 1.0.0 requires requests~=2.23.0, but you have requests 2.27.1 which is incompatible.\n",
            "datascience 0.10.6 requires folium==0.2.1, but you have folium 0.8.3 which is incompatible.\u001b[0m\n",
            "\u001b[?25hCollecting selenium\n",
            "  Downloading selenium-4.1.3-py3-none-any.whl (968 kB)\n",
            "\u001b[K     |████████████████████████████████| 968 kB 7.7 MB/s \n",
            "\u001b[?25hCollecting trio~=0.17\n",
            "  Downloading trio-0.20.0-py3-none-any.whl (359 kB)\n",
            "\u001b[K     |████████████████████████████████| 359 kB 61.0 MB/s \n",
            "\u001b[?25hCollecting urllib3[secure,socks]~=1.26\n",
            "  Downloading urllib3-1.26.9-py2.py3-none-any.whl (138 kB)\n",
            "\u001b[K     |████████████████████████████████| 138 kB 21.5 MB/s \n",
            "\u001b[?25hCollecting trio-websocket~=0.9\n",
            "  Downloading trio_websocket-0.9.2-py3-none-any.whl (16 kB)\n",
            "Requirement already satisfied: idna in /usr/local/lib/python3.7/dist-packages (from trio~=0.17->selenium) (2.10)\n",
            "Requirement already satisfied: attrs>=19.2.0 in /usr/local/lib/python3.7/dist-packages (from trio~=0.17->selenium) (21.4.0)\n",
            "Collecting sniffio\n",
            "  Downloading sniffio-1.2.0-py3-none-any.whl (10 kB)\n",
            "Collecting outcome\n",
            "  Downloading outcome-1.1.0-py2.py3-none-any.whl (9.7 kB)\n",
            "Requirement already satisfied: sortedcontainers in /usr/local/lib/python3.7/dist-packages (from trio~=0.17->selenium) (2.4.0)\n",
            "Collecting async-generator>=1.9\n",
            "  Downloading async_generator-1.10-py3-none-any.whl (18 kB)\n",
            "Collecting wsproto>=0.14\n",
            "  Downloading wsproto-1.1.0-py3-none-any.whl (24 kB)\n",
            "Collecting cryptography>=1.3.4\n",
            "  Downloading cryptography-36.0.2-cp36-abi3-manylinux_2_24_x86_64.whl (3.6 MB)\n",
            "\u001b[K     |████████████████████████████████| 3.6 MB 19.2 MB/s \n",
            "\u001b[?25hCollecting pyOpenSSL>=0.14\n",
            "  Downloading pyOpenSSL-22.0.0-py2.py3-none-any.whl (55 kB)\n",
            "\u001b[K     |████████████████████████████████| 55 kB 2.8 MB/s \n",
            "\u001b[?25hRequirement already satisfied: certifi in /usr/local/lib/python3.7/dist-packages (from urllib3[secure,socks]~=1.26->selenium) (2021.10.8)\n",
            "Requirement already satisfied: PySocks!=1.5.7,<2.0,>=1.5.6 in /usr/local/lib/python3.7/dist-packages (from urllib3[secure,socks]~=1.26->selenium) (1.7.1)\n",
            "Requirement already satisfied: cffi>=1.12 in /usr/local/lib/python3.7/dist-packages (from cryptography>=1.3.4->urllib3[secure,socks]~=1.26->selenium) (1.15.0)\n",
            "Requirement already satisfied: pycparser in /usr/local/lib/python3.7/dist-packages (from cffi>=1.12->cryptography>=1.3.4->urllib3[secure,socks]~=1.26->selenium) (2.21)\n",
            "Collecting h11<1,>=0.9.0\n",
            "  Downloading h11-0.13.0-py3-none-any.whl (58 kB)\n",
            "\u001b[K     |████████████████████████████████| 58 kB 2.8 MB/s \n",
            "\u001b[?25hRequirement already satisfied: typing-extensions in /usr/local/lib/python3.7/dist-packages (from h11<1,>=0.9.0->wsproto>=0.14->trio-websocket~=0.9->selenium) (4.1.1)\n",
            "Installing collected packages: sniffio, outcome, h11, cryptography, async-generator, wsproto, urllib3, trio, pyOpenSSL, trio-websocket, selenium\n",
            "  Attempting uninstall: urllib3\n",
            "    Found existing installation: urllib3 1.24.3\n",
            "    Uninstalling urllib3-1.24.3:\n",
            "      Successfully uninstalled urllib3-1.24.3\n",
            "\u001b[31mERROR: pip's dependency resolver does not currently take into account all the packages that are installed. This behaviour is the source of the following dependency conflicts.\n",
            "google-colab 1.0.0 requires requests~=2.23.0, but you have requests 2.27.1 which is incompatible.\n",
            "datascience 0.10.6 requires folium==0.2.1, but you have folium 0.8.3 which is incompatible.\u001b[0m\n",
            "Successfully installed async-generator-1.10 cryptography-36.0.2 h11-0.13.0 outcome-1.1.0 pyOpenSSL-22.0.0 selenium-4.1.3 sniffio-1.2.0 trio-0.20.0 trio-websocket-0.9.2 urllib3-1.26.9 wsproto-1.1.0\n",
            "Get:1 https://cloud.r-project.org/bin/linux/ubuntu bionic-cran40/ InRelease [3,626 B]\n",
            "Hit:2 http://archive.ubuntu.com/ubuntu bionic InRelease\n",
            "Get:3 http://archive.ubuntu.com/ubuntu bionic-updates InRelease [88.7 kB]\n",
            "Get:4 http://security.ubuntu.com/ubuntu bionic-security InRelease [88.7 kB]\n",
            "Get:5 http://ppa.launchpad.net/c2d4u.team/c2d4u4.0+/ubuntu bionic InRelease [15.9 kB]\n",
            "Get:6 http://archive.ubuntu.com/ubuntu bionic-backports InRelease [74.6 kB]\n",
            "Hit:7 http://ppa.launchpad.net/cran/libgit2/ubuntu bionic InRelease\n",
            "Ign:8 https://developer.download.nvidia.com/compute/cuda/repos/ubuntu1804/x86_64  InRelease\n",
            "Get:9 http://ppa.launchpad.net/deadsnakes/ppa/ubuntu bionic InRelease [15.9 kB]\n",
            "Hit:10 http://ppa.launchpad.net/graphics-drivers/ppa/ubuntu bionic InRelease\n",
            "Ign:11 https://developer.download.nvidia.com/compute/machine-learning/repos/ubuntu1804/x86_64  InRelease\n",
            "Get:12 https://developer.download.nvidia.com/compute/cuda/repos/ubuntu1804/x86_64  Release [696 B]\n",
            "Hit:13 https://developer.download.nvidia.com/compute/machine-learning/repos/ubuntu1804/x86_64  Release\n",
            "Get:14 https://developer.download.nvidia.com/compute/cuda/repos/ubuntu1804/x86_64  Release.gpg [836 B]\n",
            "Get:15 http://archive.ubuntu.com/ubuntu bionic-updates/universe amd64 Packages [2,268 kB]\n",
            "Get:16 http://archive.ubuntu.com/ubuntu bionic-updates/main amd64 Packages [3,134 kB]\n",
            "Get:17 http://ppa.launchpad.net/c2d4u.team/c2d4u4.0+/ubuntu bionic/main Sources [1,947 kB]\n",
            "Get:18 http://security.ubuntu.com/ubuntu bionic-security/universe amd64 Packages [1,490 kB]\n",
            "Get:19 http://ppa.launchpad.net/c2d4u.team/c2d4u4.0+/ubuntu bionic/main amd64 Packages [996 kB]\n",
            "Get:20 http://security.ubuntu.com/ubuntu bionic-security/main amd64 Packages [2,695 kB]\n",
            "Get:21 http://ppa.launchpad.net/deadsnakes/ppa/ubuntu bionic/main amd64 Packages [45.3 kB]\n",
            "Get:23 https://developer.download.nvidia.com/compute/cuda/repos/ubuntu1804/x86_64  Packages [953 kB]\n",
            "Fetched 13.8 MB in 7s (1,857 kB/s)\n",
            "Reading package lists... Done\n",
            "Reading package lists... Done\n",
            "Building dependency tree       \n",
            "Reading state information... Done\n",
            "The following additional packages will be installed:\n",
            "  chromium-browser chromium-browser-l10n chromium-codecs-ffmpeg-extra\n",
            "Suggested packages:\n",
            "  webaccounts-chromium-extension unity-chromium-extension\n",
            "The following NEW packages will be installed:\n",
            "  chromium-browser chromium-browser-l10n chromium-chromedriver\n",
            "  chromium-codecs-ffmpeg-extra\n",
            "0 upgraded, 4 newly installed, 0 to remove and 45 not upgraded.\n",
            "Need to get 88.3 MB of archives.\n",
            "After this operation, 294 MB of additional disk space will be used.\n",
            "Get:1 http://archive.ubuntu.com/ubuntu bionic-updates/universe amd64 chromium-codecs-ffmpeg-extra amd64 99.0.4844.84-0ubuntu0.18.04.1 [1,142 kB]\n",
            "Get:2 http://archive.ubuntu.com/ubuntu bionic-updates/universe amd64 chromium-browser amd64 99.0.4844.84-0ubuntu0.18.04.1 [77.7 MB]\n",
            "Get:3 http://archive.ubuntu.com/ubuntu bionic-updates/universe amd64 chromium-browser-l10n all 99.0.4844.84-0ubuntu0.18.04.1 [4,397 kB]\n",
            "Get:4 http://archive.ubuntu.com/ubuntu bionic-updates/universe amd64 chromium-chromedriver amd64 99.0.4844.84-0ubuntu0.18.04.1 [5,092 kB]\n",
            "Fetched 88.3 MB in 2s (52.3 MB/s)\n",
            "Selecting previously unselected package chromium-codecs-ffmpeg-extra.\n",
            "(Reading database ... 155455 files and directories currently installed.)\n",
            "Preparing to unpack .../chromium-codecs-ffmpeg-extra_99.0.4844.84-0ubuntu0.18.04.1_amd64.deb ...\n",
            "Unpacking chromium-codecs-ffmpeg-extra (99.0.4844.84-0ubuntu0.18.04.1) ...\n",
            "Selecting previously unselected package chromium-browser.\n",
            "Preparing to unpack .../chromium-browser_99.0.4844.84-0ubuntu0.18.04.1_amd64.deb ...\n",
            "Unpacking chromium-browser (99.0.4844.84-0ubuntu0.18.04.1) ...\n",
            "Selecting previously unselected package chromium-browser-l10n.\n",
            "Preparing to unpack .../chromium-browser-l10n_99.0.4844.84-0ubuntu0.18.04.1_all.deb ...\n",
            "Unpacking chromium-browser-l10n (99.0.4844.84-0ubuntu0.18.04.1) ...\n",
            "Selecting previously unselected package chromium-chromedriver.\n",
            "Preparing to unpack .../chromium-chromedriver_99.0.4844.84-0ubuntu0.18.04.1_amd64.deb ...\n",
            "Unpacking chromium-chromedriver (99.0.4844.84-0ubuntu0.18.04.1) ...\n",
            "Setting up chromium-codecs-ffmpeg-extra (99.0.4844.84-0ubuntu0.18.04.1) ...\n",
            "Setting up chromium-browser (99.0.4844.84-0ubuntu0.18.04.1) ...\n",
            "update-alternatives: using /usr/bin/chromium-browser to provide /usr/bin/x-www-browser (x-www-browser) in auto mode\n",
            "update-alternatives: using /usr/bin/chromium-browser to provide /usr/bin/gnome-www-browser (gnome-www-browser) in auto mode\n",
            "Setting up chromium-chromedriver (99.0.4844.84-0ubuntu0.18.04.1) ...\n",
            "Setting up chromium-browser-l10n (99.0.4844.84-0ubuntu0.18.04.1) ...\n",
            "Processing triggers for man-db (2.8.3-2ubuntu0.1) ...\n",
            "Processing triggers for hicolor-icon-theme (0.17-2) ...\n",
            "Processing triggers for mime-support (3.60ubuntu1) ...\n",
            "Processing triggers for libc-bin (2.27-3ubuntu1.3) ...\n",
            "/sbin/ldconfig.real: /usr/local/lib/python3.7/dist-packages/ideep4py/lib/libmkldnn.so.0 is not a symbolic link\n",
            "\n",
            "cp: '/usr/lib/chromium-browser/chromedriver' and '/usr/bin/chromedriver' are the same file\n",
            "Collecting sqldf\n",
            "  Downloading sqldf-0.4.2-py3-none-any.whl (4.3 kB)\n",
            "Installing collected packages: sqldf\n",
            "Successfully installed sqldf-0.4.2\n",
            "\u001b[K     |████████████████████████████████| 902 kB 40.5 MB/s \n",
            "\u001b[K     |████████████████████████████████| 233 kB 52.6 MB/s \n",
            "\u001b[K     |████████████████████████████████| 9.8 MB 46.5 MB/s \n",
            "\u001b[K     |████████████████████████████████| 49 kB 5.7 MB/s \n",
            "\u001b[?25h  Building wheel for antropy (setup.py) ... \u001b[?25l\u001b[?25hdone\n",
            "  Building wheel for supersmoother (setup.py) ... \u001b[?25l\u001b[?25hdone\n",
            "Collecting umap-learn\n",
            "  Downloading umap-learn-0.5.3.tar.gz (88 kB)\n",
            "\u001b[K     |████████████████████████████████| 88 kB 6.3 MB/s \n",
            "\u001b[?25hRequirement already satisfied: numpy>=1.17 in /usr/local/lib/python3.7/dist-packages (from umap-learn) (1.21.5)\n",
            "Requirement already satisfied: scikit-learn>=0.22 in /usr/local/lib/python3.7/dist-packages (from umap-learn) (1.0.2)\n",
            "Requirement already satisfied: scipy>=1.0 in /usr/local/lib/python3.7/dist-packages (from umap-learn) (1.4.1)\n",
            "Requirement already satisfied: numba>=0.49 in /usr/local/lib/python3.7/dist-packages (from umap-learn) (0.51.2)\n",
            "Collecting pynndescent>=0.5\n",
            "  Downloading pynndescent-0.5.6.tar.gz (1.1 MB)\n",
            "\u001b[K     |████████████████████████████████| 1.1 MB 56.5 MB/s \n",
            "\u001b[?25hRequirement already satisfied: tqdm in /usr/local/lib/python3.7/dist-packages (from umap-learn) (4.64.0)\n",
            "Requirement already satisfied: llvmlite<0.35,>=0.34.0.dev0 in /usr/local/lib/python3.7/dist-packages (from numba>=0.49->umap-learn) (0.34.0)\n",
            "Requirement already satisfied: setuptools in /usr/local/lib/python3.7/dist-packages (from numba>=0.49->umap-learn) (57.4.0)\n",
            "Requirement already satisfied: joblib>=0.11 in /usr/local/lib/python3.7/dist-packages (from pynndescent>=0.5->umap-learn) (1.1.0)\n",
            "Requirement already satisfied: threadpoolctl>=2.0.0 in /usr/local/lib/python3.7/dist-packages (from scikit-learn>=0.22->umap-learn) (3.1.0)\n",
            "Building wheels for collected packages: umap-learn, pynndescent\n",
            "  Building wheel for umap-learn (setup.py) ... \u001b[?25l\u001b[?25hdone\n",
            "  Created wheel for umap-learn: filename=umap_learn-0.5.3-py3-none-any.whl size=82829 sha256=8ffb1ecbe58acb0bef710d242e7dc84b297d410ab98b907f77180dd0911183d5\n",
            "  Stored in directory: /root/.cache/pip/wheels/b3/52/a5/1fd9e3e76a7ab34f134c07469cd6f16e27ef3a37aeff1fe821\n",
            "  Building wheel for pynndescent (setup.py) ... \u001b[?25l\u001b[?25hdone\n",
            "  Created wheel for pynndescent: filename=pynndescent-0.5.6-py3-none-any.whl size=53943 sha256=3ed41fd692efb8c0b20b2508ccfd70696247ccf671d13519b2d27fe7517e1f62\n",
            "  Stored in directory: /root/.cache/pip/wheels/03/f1/56/f80d72741e400345b5a5b50ec3d929aca581bf45e0225d5c50\n",
            "Successfully built umap-learn pynndescent\n",
            "Installing collected packages: pynndescent, umap-learn\n",
            "Successfully installed pynndescent-0.5.6 umap-learn-0.5.3\n"
          ]
        }
      ],
      "source": [
        "!pip install -q yfinance\n",
        "!pip install selenium\n",
        "!apt-get update # to update ubuntu to correctly run apt install\n",
        "!apt install chromium-chromedriver\n",
        "!cp /usr/lib/chromium-browser/chromedriver /usr/bin\n",
        "!pip install sqldf\n",
        "!pip install -q tsfeatures\n",
        "!pip install umap-learn"
      ]
    },
    {
      "cell_type": "code",
      "execution_count": 2,
      "metadata": {
        "colab": {
          "base_uri": "https://localhost:8080/"
        },
        "id": "EuCL027AZHeF",
        "outputId": "ae1737e7-8e87-4e0c-860c-19abf0d79d72"
      },
      "outputs": [
        {
          "output_type": "stream",
          "name": "stdout",
          "text": [
            "Mounted at /content/drive\n"
          ]
        },
        {
          "output_type": "stream",
          "name": "stderr",
          "text": [
            "/usr/local/lib/python3.7/dist-packages/ipykernel_launcher.py:36: DeprecationWarning: use options instead of chrome_options\n"
          ]
        }
      ],
      "source": [
        "import requests\n",
        "import pandas as pd\n",
        "from time import sleep\n",
        "import yfinance as yf\n",
        "from bs4 import BeautifulSoup\n",
        "from selenium import webdriver\n",
        "import json\n",
        "import sys\n",
        "import datetime\n",
        "\n",
        "from google.colab import drive\n",
        "drive.mount('/content/drive')\n",
        "\n",
        "\n",
        "\n",
        "from sklearn.preprocessing import LabelEncoder, OneHotEncoder\n",
        "labelencoder_X = LabelEncoder()\n",
        "from sklearn.cluster import KMeans\n",
        "import numpy as np\n",
        "import matplotlib.pylab as plt\n",
        "%matplotlib inline\n",
        "from matplotlib.pylab import rcParams\n",
        "rcParams['figure.figsize'] = 30,12\n",
        "from pandas.plotting import register_matplotlib_converters\n",
        "\n",
        "from matplotlib import pyplot\n",
        "\n",
        "from sklearn.metrics import mean_squared_error\n",
        "from math import sqrt\n",
        "\n",
        "sys.path.insert(0,'/usr/lib/chromium-browser/chromedriver')\n",
        "chrome_options = webdriver.ChromeOptions()\n",
        "chrome_options.add_argument('--headless')\n",
        "chrome_options.add_argument('--no-sandbox')\n",
        "chrome_options.add_argument('--disable-dev-shm-usage')\n",
        "wd = webdriver.Chrome('chromedriver',chrome_options=chrome_options)"
      ]
    },
    {
      "cell_type": "markdown",
      "metadata": {
        "id": "T8mZv5LOzh59"
      },
      "source": [
        "# Concatenado"
      ]
    },
    {
      "cell_type": "markdown",
      "metadata": {
        "id": "xslRUroGBqRU"
      },
      "source": [
        "##Reading data"
      ]
    },
    {
      "cell_type": "code",
      "execution_count": 4,
      "metadata": {
        "id": "W3LbIbkzmIT1"
      },
      "outputs": [],
      "source": [
        "df_ibov = pd.read_excel('/content/drive/MyDrive/IC ITA/Projeto de Pesquisa - IC ITA/Ibovespa/Bases de dados/Economatica/DataFrames/df_Ibov_Final.xlsx')\n",
        "df_ibov['Indice'] = 'Ibov'\n",
        "\n",
        "df_sp500 =  pd.read_excel('/content/drive/MyDrive/IC ITA/Projeto de Pesquisa - IC ITA/S&P 500/Bases de dados/Economatica/DataFrames/df_SP500_Final.xlsx')\n",
        "df_sp500['Indice'] = 'S&P 500'\n",
        "\n",
        "df_indicators = pd.concat([df_ibov,df_sp500]).sort_values(by='Data', ascending = True).set_index('Data')"
      ]
    },
    {
      "cell_type": "code",
      "source": [
        "df_indicators.head()"
      ],
      "metadata": {
        "colab": {
          "base_uri": "https://localhost:8080/",
          "height": 591
        },
        "id": "YM0d3BgMzKDM",
        "outputId": "2266640f-9189-407d-f016-dd46aca9e797"
      },
      "execution_count": 19,
      "outputs": [
        {
          "output_type": "execute_result",
          "data": {
            "text/plain": [
              "         LiqCor  consolid:sim*   LiqSec  consolid:sim*  \\\n",
              "Data                                                     \n",
              "1T2016                0.011157                0.008663   \n",
              "1T2016                0.076697                0.077567   \n",
              "1T2016                0.016520                0.017325   \n",
              "1T2016                0.032602                0.014528   \n",
              "1T2016                0.012329                0.010028   \n",
              "\n",
              "         Exig / PL  consolid:sim*   DivBr/Ebitda  de 3 meses  consolid:sim*  \\\n",
              "Data                                                                          \n",
              "1T2016                   0.310508                                  0.117242   \n",
              "1T2016                   0.310461                                  0.117194   \n",
              "1T2016                   0.310922                                  0.118584   \n",
              "1T2016                   0.310777                                  0.117210   \n",
              "1T2016                   0.310871                                  0.117195   \n",
              "\n",
              "         Margem Liquida  de 3 meses  consolid:sim*  ROA de 3 meses  \\\n",
              "Data                                                                 \n",
              "1T2016                                    0.917995        0.568058   \n",
              "1T2016                                    0.917907        0.558387   \n",
              "1T2016                                    0.917568        0.532687   \n",
              "1T2016                                    0.917550        0.530701   \n",
              "1T2016                                    0.917590        0.535800   \n",
              "\n",
              "        ROE de 3 meses  P/L de 3 meses ajust pela infl  \\\n",
              "Data                                                     \n",
              "1T2016        0.328780                        0.032399   \n",
              "1T2016        0.328052                        0.032412   \n",
              "1T2016        0.328148                        0.032351   \n",
              "1T2016        0.327687                        0.032492   \n",
              "1T2016        0.328422                        0.032346   \n",
              "\n",
              "        Valor Mercado da empresa Em US Dollars em milhares  \\\n",
              "Data                                                         \n",
              "1T2016                                           0.028477    \n",
              "1T2016                                           0.178111    \n",
              "1T2016                                           0.000370    \n",
              "1T2016                                           0.000836    \n",
              "1T2016                                           0.016651    \n",
              "\n",
              "         Patrim Liq  Em US Dollars  em milhares  consolid:sim*  ...  \\\n",
              "Data                                                            ...   \n",
              "1T2016                                           0.060140       ...   \n",
              "1T2016                                           0.270507       ...   \n",
              "1T2016                                           0.036106       ...   \n",
              "1T2016                                           0.035824       ...   \n",
              "1T2016                                           0.112958       ...   \n",
              "\n",
              "        Volatilidade base trimestral 3 meses Em moeda orig    Sharpe  \\\n",
              "Data                                                                   \n",
              "1T2016                                           0.088551   0.602582   \n",
              "1T2016                                           0.080401  -0.002415   \n",
              "1T2016                                           0.076855   3.922680   \n",
              "1T2016                                           0.168896   0.034416   \n",
              "1T2016                                           0.083620  -0.008304   \n",
              "\n",
              "        VAR % base diária confiança: 95% 3 meses Em moeda orig  \\\n",
              "Data                                                             \n",
              "1T2016                                           0.080469        \n",
              "1T2016                                           0.072310        \n",
              "1T2016                                           0.069784        \n",
              "1T2016                                           0.155983        \n",
              "1T2016                                           0.075254        \n",
              "\n",
              "        Max Drd (c/rec) ajust p/ prov 3 meses Em moeda orig  \\\n",
              "Data                                                          \n",
              "1T2016                                           0.863231     \n",
              "1T2016                                           0.870780     \n",
              "1T2016                                           0.862286     \n",
              "1T2016                                           0.791244     \n",
              "1T2016                                           1.000000     \n",
              "\n",
              "         Data do Bal  consolid:sim*  Código  \\\n",
              "Data                                          \n",
              "1T2016                   2016-03-31   ABEV3   \n",
              "1T2016                   2016-03-31   GOOGL   \n",
              "1T2016                   2016-03-31  ENGI11   \n",
              "1T2016                   2016-03-31    GNRC   \n",
              "1T2016                   2016-03-31      GM   \n",
              "\n",
              "                                           Setor NAICS   Indice  Sharpe Ratio  \\\n",
              "Data                                                                            \n",
              "1T2016                         Indústria manufatureira     Ibov      0.034759   \n",
              "1T2016  Serviços profissionais, científicos e técnicos  S&P 500      0.030104   \n",
              "1T2016             Empresa de eletricidade, gás e água     Ibov      0.060308   \n",
              "1T2016                         Indústria manufatureira  S&P 500      0.030387   \n",
              "1T2016                         Indústria manufatureira  S&P 500      0.030058   \n",
              "\n",
              "        Código ajustado  \n",
              "Data                     \n",
              "1T2016         ABEV3.SA  \n",
              "1T2016            GOOGL  \n",
              "1T2016        ENGI11.SA  \n",
              "1T2016             GNRC  \n",
              "1T2016               GM  \n",
              "\n",
              "[5 rows x 28 columns]"
            ],
            "text/html": [
              "\n",
              "  <div id=\"df-6b9b6b32-2b1b-4562-8ee3-b998e23de06c\">\n",
              "    <div class=\"colab-df-container\">\n",
              "      <div>\n",
              "<style scoped>\n",
              "    .dataframe tbody tr th:only-of-type {\n",
              "        vertical-align: middle;\n",
              "    }\n",
              "\n",
              "    .dataframe tbody tr th {\n",
              "        vertical-align: top;\n",
              "    }\n",
              "\n",
              "    .dataframe thead th {\n",
              "        text-align: right;\n",
              "    }\n",
              "</style>\n",
              "<table border=\"1\" class=\"dataframe\">\n",
              "  <thead>\n",
              "    <tr style=\"text-align: right;\">\n",
              "      <th></th>\n",
              "      <th>LiqCor  consolid:sim*</th>\n",
              "      <th>LiqSec  consolid:sim*</th>\n",
              "      <th>Exig / PL  consolid:sim*</th>\n",
              "      <th>DivBr/Ebitda  de 3 meses  consolid:sim*</th>\n",
              "      <th>Margem Liquida  de 3 meses  consolid:sim*</th>\n",
              "      <th>ROA de 3 meses</th>\n",
              "      <th>ROE de 3 meses</th>\n",
              "      <th>P/L de 3 meses ajust pela infl</th>\n",
              "      <th>Valor Mercado da empresa Em US Dollars em milhares</th>\n",
              "      <th>Patrim Liq  Em US Dollars  em milhares  consolid:sim*</th>\n",
              "      <th>...</th>\n",
              "      <th>Volatilidade base trimestral 3 meses Em moeda orig</th>\n",
              "      <th>Sharpe</th>\n",
              "      <th>VAR % base diária confiança: 95% 3 meses Em moeda orig</th>\n",
              "      <th>Max Drd (c/rec) ajust p/ prov 3 meses Em moeda orig</th>\n",
              "      <th>Data do Bal  consolid:sim*</th>\n",
              "      <th>Código</th>\n",
              "      <th>Setor NAICS</th>\n",
              "      <th>Indice</th>\n",
              "      <th>Sharpe Ratio</th>\n",
              "      <th>Código ajustado</th>\n",
              "    </tr>\n",
              "    <tr>\n",
              "      <th>Data</th>\n",
              "      <th></th>\n",
              "      <th></th>\n",
              "      <th></th>\n",
              "      <th></th>\n",
              "      <th></th>\n",
              "      <th></th>\n",
              "      <th></th>\n",
              "      <th></th>\n",
              "      <th></th>\n",
              "      <th></th>\n",
              "      <th></th>\n",
              "      <th></th>\n",
              "      <th></th>\n",
              "      <th></th>\n",
              "      <th></th>\n",
              "      <th></th>\n",
              "      <th></th>\n",
              "      <th></th>\n",
              "      <th></th>\n",
              "      <th></th>\n",
              "      <th></th>\n",
              "    </tr>\n",
              "  </thead>\n",
              "  <tbody>\n",
              "    <tr>\n",
              "      <th>1T2016</th>\n",
              "      <td>0.011157</td>\n",
              "      <td>0.008663</td>\n",
              "      <td>0.310508</td>\n",
              "      <td>0.117242</td>\n",
              "      <td>0.917995</td>\n",
              "      <td>0.568058</td>\n",
              "      <td>0.328780</td>\n",
              "      <td>0.032399</td>\n",
              "      <td>0.028477</td>\n",
              "      <td>0.060140</td>\n",
              "      <td>...</td>\n",
              "      <td>0.088551</td>\n",
              "      <td>0.602582</td>\n",
              "      <td>0.080469</td>\n",
              "      <td>0.863231</td>\n",
              "      <td>2016-03-31</td>\n",
              "      <td>ABEV3</td>\n",
              "      <td>Indústria manufatureira</td>\n",
              "      <td>Ibov</td>\n",
              "      <td>0.034759</td>\n",
              "      <td>ABEV3.SA</td>\n",
              "    </tr>\n",
              "    <tr>\n",
              "      <th>1T2016</th>\n",
              "      <td>0.076697</td>\n",
              "      <td>0.077567</td>\n",
              "      <td>0.310461</td>\n",
              "      <td>0.117194</td>\n",
              "      <td>0.917907</td>\n",
              "      <td>0.558387</td>\n",
              "      <td>0.328052</td>\n",
              "      <td>0.032412</td>\n",
              "      <td>0.178111</td>\n",
              "      <td>0.270507</td>\n",
              "      <td>...</td>\n",
              "      <td>0.080401</td>\n",
              "      <td>-0.002415</td>\n",
              "      <td>0.072310</td>\n",
              "      <td>0.870780</td>\n",
              "      <td>2016-03-31</td>\n",
              "      <td>GOOGL</td>\n",
              "      <td>Serviços profissionais, científicos e técnicos</td>\n",
              "      <td>S&amp;P 500</td>\n",
              "      <td>0.030104</td>\n",
              "      <td>GOOGL</td>\n",
              "    </tr>\n",
              "    <tr>\n",
              "      <th>1T2016</th>\n",
              "      <td>0.016520</td>\n",
              "      <td>0.017325</td>\n",
              "      <td>0.310922</td>\n",
              "      <td>0.118584</td>\n",
              "      <td>0.917568</td>\n",
              "      <td>0.532687</td>\n",
              "      <td>0.328148</td>\n",
              "      <td>0.032351</td>\n",
              "      <td>0.000370</td>\n",
              "      <td>0.036106</td>\n",
              "      <td>...</td>\n",
              "      <td>0.076855</td>\n",
              "      <td>3.922680</td>\n",
              "      <td>0.069784</td>\n",
              "      <td>0.862286</td>\n",
              "      <td>2016-03-31</td>\n",
              "      <td>ENGI11</td>\n",
              "      <td>Empresa de eletricidade, gás e água</td>\n",
              "      <td>Ibov</td>\n",
              "      <td>0.060308</td>\n",
              "      <td>ENGI11.SA</td>\n",
              "    </tr>\n",
              "    <tr>\n",
              "      <th>1T2016</th>\n",
              "      <td>0.032602</td>\n",
              "      <td>0.014528</td>\n",
              "      <td>0.310777</td>\n",
              "      <td>0.117210</td>\n",
              "      <td>0.917550</td>\n",
              "      <td>0.530701</td>\n",
              "      <td>0.327687</td>\n",
              "      <td>0.032492</td>\n",
              "      <td>0.000836</td>\n",
              "      <td>0.035824</td>\n",
              "      <td>...</td>\n",
              "      <td>0.168896</td>\n",
              "      <td>0.034416</td>\n",
              "      <td>0.155983</td>\n",
              "      <td>0.791244</td>\n",
              "      <td>2016-03-31</td>\n",
              "      <td>GNRC</td>\n",
              "      <td>Indústria manufatureira</td>\n",
              "      <td>S&amp;P 500</td>\n",
              "      <td>0.030387</td>\n",
              "      <td>GNRC</td>\n",
              "    </tr>\n",
              "    <tr>\n",
              "      <th>1T2016</th>\n",
              "      <td>0.012329</td>\n",
              "      <td>0.010028</td>\n",
              "      <td>0.310871</td>\n",
              "      <td>0.117195</td>\n",
              "      <td>0.917590</td>\n",
              "      <td>0.535800</td>\n",
              "      <td>0.328422</td>\n",
              "      <td>0.032346</td>\n",
              "      <td>0.016651</td>\n",
              "      <td>0.112958</td>\n",
              "      <td>...</td>\n",
              "      <td>0.083620</td>\n",
              "      <td>-0.008304</td>\n",
              "      <td>0.075254</td>\n",
              "      <td>1.000000</td>\n",
              "      <td>2016-03-31</td>\n",
              "      <td>GM</td>\n",
              "      <td>Indústria manufatureira</td>\n",
              "      <td>S&amp;P 500</td>\n",
              "      <td>0.030058</td>\n",
              "      <td>GM</td>\n",
              "    </tr>\n",
              "  </tbody>\n",
              "</table>\n",
              "<p>5 rows × 28 columns</p>\n",
              "</div>\n",
              "      <button class=\"colab-df-convert\" onclick=\"convertToInteractive('df-6b9b6b32-2b1b-4562-8ee3-b998e23de06c')\"\n",
              "              title=\"Convert this dataframe to an interactive table.\"\n",
              "              style=\"display:none;\">\n",
              "        \n",
              "  <svg xmlns=\"http://www.w3.org/2000/svg\" height=\"24px\"viewBox=\"0 0 24 24\"\n",
              "       width=\"24px\">\n",
              "    <path d=\"M0 0h24v24H0V0z\" fill=\"none\"/>\n",
              "    <path d=\"M18.56 5.44l.94 2.06.94-2.06 2.06-.94-2.06-.94-.94-2.06-.94 2.06-2.06.94zm-11 1L8.5 8.5l.94-2.06 2.06-.94-2.06-.94L8.5 2.5l-.94 2.06-2.06.94zm10 10l.94 2.06.94-2.06 2.06-.94-2.06-.94-.94-2.06-.94 2.06-2.06.94z\"/><path d=\"M17.41 7.96l-1.37-1.37c-.4-.4-.92-.59-1.43-.59-.52 0-1.04.2-1.43.59L10.3 9.45l-7.72 7.72c-.78.78-.78 2.05 0 2.83L4 21.41c.39.39.9.59 1.41.59.51 0 1.02-.2 1.41-.59l7.78-7.78 2.81-2.81c.8-.78.8-2.07 0-2.86zM5.41 20L4 18.59l7.72-7.72 1.47 1.35L5.41 20z\"/>\n",
              "  </svg>\n",
              "      </button>\n",
              "      \n",
              "  <style>\n",
              "    .colab-df-container {\n",
              "      display:flex;\n",
              "      flex-wrap:wrap;\n",
              "      gap: 12px;\n",
              "    }\n",
              "\n",
              "    .colab-df-convert {\n",
              "      background-color: #E8F0FE;\n",
              "      border: none;\n",
              "      border-radius: 50%;\n",
              "      cursor: pointer;\n",
              "      display: none;\n",
              "      fill: #1967D2;\n",
              "      height: 32px;\n",
              "      padding: 0 0 0 0;\n",
              "      width: 32px;\n",
              "    }\n",
              "\n",
              "    .colab-df-convert:hover {\n",
              "      background-color: #E2EBFA;\n",
              "      box-shadow: 0px 1px 2px rgba(60, 64, 67, 0.3), 0px 1px 3px 1px rgba(60, 64, 67, 0.15);\n",
              "      fill: #174EA6;\n",
              "    }\n",
              "\n",
              "    [theme=dark] .colab-df-convert {\n",
              "      background-color: #3B4455;\n",
              "      fill: #D2E3FC;\n",
              "    }\n",
              "\n",
              "    [theme=dark] .colab-df-convert:hover {\n",
              "      background-color: #434B5C;\n",
              "      box-shadow: 0px 1px 3px 1px rgba(0, 0, 0, 0.15);\n",
              "      filter: drop-shadow(0px 1px 2px rgba(0, 0, 0, 0.3));\n",
              "      fill: #FFFFFF;\n",
              "    }\n",
              "  </style>\n",
              "\n",
              "      <script>\n",
              "        const buttonEl =\n",
              "          document.querySelector('#df-6b9b6b32-2b1b-4562-8ee3-b998e23de06c button.colab-df-convert');\n",
              "        buttonEl.style.display =\n",
              "          google.colab.kernel.accessAllowed ? 'block' : 'none';\n",
              "\n",
              "        async function convertToInteractive(key) {\n",
              "          const element = document.querySelector('#df-6b9b6b32-2b1b-4562-8ee3-b998e23de06c');\n",
              "          const dataTable =\n",
              "            await google.colab.kernel.invokeFunction('convertToInteractive',\n",
              "                                                     [key], {});\n",
              "          if (!dataTable) return;\n",
              "\n",
              "          const docLinkHtml = 'Like what you see? Visit the ' +\n",
              "            '<a target=\"_blank\" href=https://colab.research.google.com/notebooks/data_table.ipynb>data table notebook</a>'\n",
              "            + ' to learn more about interactive tables.';\n",
              "          element.innerHTML = '';\n",
              "          dataTable['output_type'] = 'display_data';\n",
              "          await google.colab.output.renderOutput(dataTable, element);\n",
              "          const docLink = document.createElement('div');\n",
              "          docLink.innerHTML = docLinkHtml;\n",
              "          element.appendChild(docLink);\n",
              "        }\n",
              "      </script>\n",
              "    </div>\n",
              "  </div>\n",
              "  "
            ]
          },
          "metadata": {},
          "execution_count": 19
        }
      ]
    },
    {
      "cell_type": "markdown",
      "metadata": {
        "id": "793Ye0Se7t8S"
      },
      "source": [
        "##EDA"
      ]
    },
    {
      "cell_type": "code",
      "execution_count": 8,
      "metadata": {
        "colab": {
          "base_uri": "https://localhost:8080/"
        },
        "id": "WPpLG4F87wL-",
        "outputId": "d63760f5-fde7-4410-8178-426e4c8abeef"
      },
      "outputs": [
        {
          "output_type": "execute_result",
          "data": {
            "text/plain": [
              " LiqCor  consolid:sim*                                            0\n",
              " LiqSec  consolid:sim*                                            0\n",
              " Exig / PL  consolid:sim*                                         0\n",
              " DivBr/Ebitda  de 3 meses  consolid:sim*                          0\n",
              " Margem Liquida  de 3 meses  consolid:sim*                        0\n",
              "ROA de 3 meses                                                    0\n",
              "ROE de 3 meses                                                    0\n",
              "P/L de 3 meses ajust pela infl                                    0\n",
              "Valor Mercado da empresa Em US Dollars em milhares                0\n",
              " Patrim Liq  Em US Dollars  em milhares  consolid:sim*            0\n",
              "Price/Book ratio                                                  0\n",
              "EV Em US Dollars em milhares consolid:sim*                        0\n",
              "EV/EBITDA emp Em US Dollars de 3 meses consolid:sim*              0\n",
              "P/FCF Em US Dollars de 3 meses consolid:sim*                      0\n",
              "Media do fechamento em 1 trimestre Em US Dollars ajust p/ prov    0\n",
              "Beta                                                              0\n",
              "TIR média trimestral em 3 meses Em moeda orig                     0\n",
              "Bollinger 90/2 Média Em moeda orig                                0\n",
              "Volatilidade base trimestral 3 meses Em moeda orig                0\n",
              "Sharpe                                                            0\n",
              "VAR % base diária confiança: 95% 3 meses Em moeda orig            0\n",
              "Max Drd (c/rec) ajust p/ prov 3 meses Em moeda orig               0\n",
              " Data do Bal  consolid:sim*                                       0\n",
              "Código                                                            0\n",
              "Setor NAICS                                                       0\n",
              "Indice                                                            0\n",
              "dtype: int64"
            ]
          },
          "metadata": {},
          "execution_count": 8
        }
      ],
      "source": [
        "df_indicators.isnull().sum()"
      ]
    },
    {
      "cell_type": "code",
      "source": [
        "#Cria as colunas de sharpe ratio e beta unindo o sp500 e ibov\n",
        "df_indicators['Sharpe Ratio'] = df_indicators['Sharpe'].fillna(0) + df_indicators['Sharpe'].fillna(0)\n",
        "df_indicators['Beta'] = df_indicators['Beta'].fillna(0) + df_indicators['Beta'].fillna(0)\n",
        "# df_indicators.drop(['Sharpe Ibov','Sharpe SP500','Beta Ibov','Beta sp500'],axis='columns',inplace=True)"
      ],
      "metadata": {
        "id": "fr48k1IcPTDM"
      },
      "execution_count": 10,
      "outputs": []
    },
    {
      "cell_type": "code",
      "source": [
        "df_indicators.isna().sum()"
      ],
      "metadata": {
        "colab": {
          "base_uri": "https://localhost:8080/"
        },
        "outputId": "6c94d65e-6da3-487d-fb96-9b069942e400",
        "id": "Pi7dVBclPTDN"
      },
      "execution_count": 11,
      "outputs": [
        {
          "output_type": "execute_result",
          "data": {
            "text/plain": [
              " LiqCor  consolid:sim*                                            0\n",
              " LiqSec  consolid:sim*                                            0\n",
              " Exig / PL  consolid:sim*                                         0\n",
              " DivBr/Ebitda  de 3 meses  consolid:sim*                          0\n",
              " Margem Liquida  de 3 meses  consolid:sim*                        0\n",
              "ROA de 3 meses                                                    0\n",
              "ROE de 3 meses                                                    0\n",
              "P/L de 3 meses ajust pela infl                                    0\n",
              "Valor Mercado da empresa Em US Dollars em milhares                0\n",
              " Patrim Liq  Em US Dollars  em milhares  consolid:sim*            0\n",
              "Price/Book ratio                                                  0\n",
              "EV Em US Dollars em milhares consolid:sim*                        0\n",
              "EV/EBITDA emp Em US Dollars de 3 meses consolid:sim*              0\n",
              "P/FCF Em US Dollars de 3 meses consolid:sim*                      0\n",
              "Media do fechamento em 1 trimestre Em US Dollars ajust p/ prov    0\n",
              "Beta                                                              0\n",
              "TIR média trimestral em 3 meses Em moeda orig                     0\n",
              "Bollinger 90/2 Média Em moeda orig                                0\n",
              "Volatilidade base trimestral 3 meses Em moeda orig                0\n",
              "Sharpe                                                            0\n",
              "VAR % base diária confiança: 95% 3 meses Em moeda orig            0\n",
              "Max Drd (c/rec) ajust p/ prov 3 meses Em moeda orig               0\n",
              " Data do Bal  consolid:sim*                                       0\n",
              "Código                                                            0\n",
              "Setor NAICS                                                       0\n",
              "Indice                                                            0\n",
              "Sharpe Ratio                                                      0\n",
              "dtype: int64"
            ]
          },
          "metadata": {},
          "execution_count": 11
        }
      ]
    },
    {
      "cell_type": "code",
      "source": [
        "#Cria a coluna Código ajustado, que tem o \".SA\" no final do ticker das ações brasileiras\n",
        "df_indicators['Código ajustado']=df_indicators['Código']\n",
        "df_indicators.loc[df_indicators['Indice']=='Ibov','Código ajustado'] = df_indicators.loc[df_indicators['Indice']=='Ibov','Código ajustado']+str('.SA')"
      ],
      "metadata": {
        "id": "PwRkDdrQWpOH"
      },
      "execution_count": 12,
      "outputs": []
    },
    {
      "cell_type": "code",
      "source": [
        "df_indicators.sort_values(by='Sharpe Ratio',ascending=False).head(10)"
      ],
      "metadata": {
        "colab": {
          "base_uri": "https://localhost:8080/",
          "height": 1000
        },
        "outputId": "90bc2ef6-59b1-4852-feed-1c7f947ea6e8",
        "id": "xFzXRT6GPTDO"
      },
      "execution_count": 13,
      "outputs": [
        {
          "output_type": "execute_result",
          "data": {
            "text/plain": [
              "         LiqCor  consolid:sim*   LiqSec  consolid:sim*  \\\n",
              "Data                                                     \n",
              "2T2020                1.171241                0.793256   \n",
              "2T2019                0.826152                1.627830   \n",
              "2T2020                1.090801                0.781532   \n",
              "3T2017                1.105365                0.654432   \n",
              "2T2020                2.104166                1.823111   \n",
              "3T2017                2.267484                2.267484   \n",
              "2T2021                0.765141                1.627830   \n",
              "1T2017                3.672323                3.421612   \n",
              "4T2016                9.816378                9.399498   \n",
              "2T2020                0.733932                0.602881   \n",
              "\n",
              "         Exig / PL  consolid:sim*   DivBr/Ebitda  de 3 meses  consolid:sim*  \\\n",
              "Data                                                                          \n",
              "2T2020                   4.741137                                 15.680451   \n",
              "2T2019                   6.147602                                  8.758159   \n",
              "2T2020                   7.880433                                 14.454332   \n",
              "3T2017                   5.900982                                  6.417938   \n",
              "2T2020                   1.952323                                 42.783600   \n",
              "3T2017                   0.522348                                  3.830376   \n",
              "2T2021                   6.678682                                  8.758159   \n",
              "1T2017                   0.547889                                453.155963   \n",
              "4T2016                   0.297568                                  0.090572   \n",
              "2T2020                   1.580456                                  8.789388   \n",
              "\n",
              "         Margem Liquida  de 3 meses  consolid:sim*  ROA de 3 meses  \\\n",
              "Data                                                                 \n",
              "2T2020                                    0.012311        0.002242   \n",
              "2T2019                                    0.057867        0.003896   \n",
              "2T2020                                    0.201766        0.004377   \n",
              "3T2017                                    0.032379        0.015551   \n",
              "2T2020                                   -0.030654       -0.004536   \n",
              "3T2017                                    0.184755        0.033976   \n",
              "2T2021                                    0.073872        0.004744   \n",
              "1T2017                                    0.053740        0.002870   \n",
              "4T2016                                    2.519452        0.264753   \n",
              "2T2020                                   -0.319578       -0.014984   \n",
              "\n",
              "        ROE de 3 meses  P/L de 3 meses ajust pela infl  \\\n",
              "Data                                                     \n",
              "2T2020        0.012874                      319.899453   \n",
              "2T2019        0.027849                       86.624658   \n",
              "2T2020        0.038870                       68.123789   \n",
              "3T2017        0.107317                      137.034134   \n",
              "2T2020       -0.013393                     -750.806848   \n",
              "3T2017        0.051724                       64.183647   \n",
              "2T2021        0.036428                      143.189126   \n",
              "1T2017        0.004443                      153.696119   \n",
              "4T2016        0.343535                        1.002528   \n",
              "2T2020       -0.038665                      -47.928341   \n",
              "\n",
              "        Valor Mercado da empresa Em US Dollars em milhares  \\\n",
              "Data                                                         \n",
              "2T2020                                       4.463321e+06    \n",
              "2T2019                                       2.660698e+06    \n",
              "2T2020                                       1.563549e+07    \n",
              "3T2017                                       4.427051e+06    \n",
              "2T2020                                       1.022858e+07    \n",
              "3T2017                                       3.024822e+06    \n",
              "2T2021                                       5.796180e+06    \n",
              "1T2017                                       1.919249e+05    \n",
              "4T2016                                       8.786412e+04    \n",
              "2T2020                                       8.735106e+05    \n",
              "\n",
              "         Patrim Liq  Em US Dollars  em milhares  consolid:sim*  ...  \\\n",
              "Data                                                            ...   \n",
              "2T2020                                       9.220234e+05       ...   \n",
              "2T2019                                       1.102906e+06       ...   \n",
              "2T2020                                       4.679991e+06       ...   \n",
              "3T2017                                       2.720271e+05       ...   \n",
              "2T2020                                       1.017217e+06       ...   \n",
              "3T2017                                       9.111067e+05       ...   \n",
              "2T2021                                       1.111222e+06       ...   \n",
              "1T2017                                       2.855255e+05       ...   \n",
              "4T2016                                       2.559455e+05       ...   \n",
              "2T2020                                       4.711784e+05       ...   \n",
              "\n",
              "        Volatilidade base trimestral 3 meses Em moeda orig      Sharpe  \\\n",
              "Data                                                                     \n",
              "2T2020                                           0.473970   126.037491   \n",
              "2T2019                                           0.425204    87.108130   \n",
              "2T2020                                           0.374168    51.532180   \n",
              "3T2017                                           0.348765    47.247596   \n",
              "2T2020                                           0.415859    42.446056   \n",
              "3T2017                                           0.214633    42.272584   \n",
              "2T2021                                           0.324835    41.903542   \n",
              "1T2017                                           0.271965    40.234191   \n",
              "4T2016                                           0.271965    40.234191   \n",
              "2T2020                                           0.501019    33.405928   \n",
              "\n",
              "        VAR % base diária confiança: 95% 3 meses Em moeda orig  \\\n",
              "Data                                                             \n",
              "2T2020                                           0.100794        \n",
              "2T2019                                           0.092832        \n",
              "2T2020                                           0.078586        \n",
              "3T2017                                           0.072584        \n",
              "2T2020                                           0.089988        \n",
              "3T2017                                           0.045551        \n",
              "2T2021                                           0.069080        \n",
              "1T2017                                           0.057758        \n",
              "4T2016                                           0.057758        \n",
              "2T2020                                           0.108426        \n",
              "\n",
              "        Max Drd (c/rec) ajust p/ prov 3 meses Em moeda orig  \\\n",
              "Data                                                          \n",
              "2T2020                                          -0.145854     \n",
              "2T2019                                          -0.173913     \n",
              "2T2020                                          -0.180000     \n",
              "3T2017                                          -0.079592     \n",
              "2T2020                                          -0.098218     \n",
              "3T2017                                          -0.095588     \n",
              "2T2021                                          -0.110468     \n",
              "1T2017                                          -0.070685     \n",
              "4T2016                                          -0.070685     \n",
              "2T2020                                          -0.337263     \n",
              "\n",
              "         Data do Bal  consolid:sim*  Código  \\\n",
              "Data                                          \n",
              "2T2020                   2020-06-30   VIIA3   \n",
              "2T2019                   2019-06-30   BPAN4   \n",
              "2T2020                   2020-06-30  BPAC11   \n",
              "3T2017                   2017-09-30   MGLU3   \n",
              "2T2020                   2020-06-30   AMER3   \n",
              "3T2017                   2017-09-30   YDUQ3   \n",
              "2T2021                   2021-06-30   BPAN4   \n",
              "1T2017                   2017-03-31   PRIO3   \n",
              "4T2016                   2016-12-31   PRIO3   \n",
              "2T2020                   2020-06-30   PRIO3   \n",
              "\n",
              "                                              Setor NAICS  Indice  \\\n",
              "Data                                                                \n",
              "2T2020                                 Comércio varejista    Ibov   \n",
              "2T2019                     Serviços financeiros e seguros    Ibov   \n",
              "2T2020                     Serviços financeiros e seguros    Ibov   \n",
              "3T2017                                 Comércio varejista    Ibov   \n",
              "2T2020                                 Comércio varejista    Ibov   \n",
              "3T2017                                           Educacão    Ibov   \n",
              "2T2021                     Serviços financeiros e seguros    Ibov   \n",
              "1T2017  Mineração, exploração de pedreiras e extração ...    Ibov   \n",
              "4T2016  Mineração, exploração de pedreiras e extração ...    Ibov   \n",
              "2T2020  Mineração, exploração de pedreiras e extração ...    Ibov   \n",
              "\n",
              "        Sharpe Ratio  Código ajustado  \n",
              "Data                                   \n",
              "2T2020    252.074983         VIIA3.SA  \n",
              "2T2019    174.216259         BPAN4.SA  \n",
              "2T2020    103.064360        BPAC11.SA  \n",
              "3T2017     94.495193         MGLU3.SA  \n",
              "2T2020     84.892113         AMER3.SA  \n",
              "3T2017     84.545168         YDUQ3.SA  \n",
              "2T2021     83.807083         BPAN4.SA  \n",
              "1T2017     80.468382         PRIO3.SA  \n",
              "4T2016     80.468382         PRIO3.SA  \n",
              "2T2020     66.811856         PRIO3.SA  \n",
              "\n",
              "[10 rows x 28 columns]"
            ],
            "text/html": [
              "\n",
              "  <div id=\"df-f91cf43d-74e2-4f60-ab5c-18a8f6df6ead\">\n",
              "    <div class=\"colab-df-container\">\n",
              "      <div>\n",
              "<style scoped>\n",
              "    .dataframe tbody tr th:only-of-type {\n",
              "        vertical-align: middle;\n",
              "    }\n",
              "\n",
              "    .dataframe tbody tr th {\n",
              "        vertical-align: top;\n",
              "    }\n",
              "\n",
              "    .dataframe thead th {\n",
              "        text-align: right;\n",
              "    }\n",
              "</style>\n",
              "<table border=\"1\" class=\"dataframe\">\n",
              "  <thead>\n",
              "    <tr style=\"text-align: right;\">\n",
              "      <th></th>\n",
              "      <th>LiqCor  consolid:sim*</th>\n",
              "      <th>LiqSec  consolid:sim*</th>\n",
              "      <th>Exig / PL  consolid:sim*</th>\n",
              "      <th>DivBr/Ebitda  de 3 meses  consolid:sim*</th>\n",
              "      <th>Margem Liquida  de 3 meses  consolid:sim*</th>\n",
              "      <th>ROA de 3 meses</th>\n",
              "      <th>ROE de 3 meses</th>\n",
              "      <th>P/L de 3 meses ajust pela infl</th>\n",
              "      <th>Valor Mercado da empresa Em US Dollars em milhares</th>\n",
              "      <th>Patrim Liq  Em US Dollars  em milhares  consolid:sim*</th>\n",
              "      <th>...</th>\n",
              "      <th>Volatilidade base trimestral 3 meses Em moeda orig</th>\n",
              "      <th>Sharpe</th>\n",
              "      <th>VAR % base diária confiança: 95% 3 meses Em moeda orig</th>\n",
              "      <th>Max Drd (c/rec) ajust p/ prov 3 meses Em moeda orig</th>\n",
              "      <th>Data do Bal  consolid:sim*</th>\n",
              "      <th>Código</th>\n",
              "      <th>Setor NAICS</th>\n",
              "      <th>Indice</th>\n",
              "      <th>Sharpe Ratio</th>\n",
              "      <th>Código ajustado</th>\n",
              "    </tr>\n",
              "    <tr>\n",
              "      <th>Data</th>\n",
              "      <th></th>\n",
              "      <th></th>\n",
              "      <th></th>\n",
              "      <th></th>\n",
              "      <th></th>\n",
              "      <th></th>\n",
              "      <th></th>\n",
              "      <th></th>\n",
              "      <th></th>\n",
              "      <th></th>\n",
              "      <th></th>\n",
              "      <th></th>\n",
              "      <th></th>\n",
              "      <th></th>\n",
              "      <th></th>\n",
              "      <th></th>\n",
              "      <th></th>\n",
              "      <th></th>\n",
              "      <th></th>\n",
              "      <th></th>\n",
              "      <th></th>\n",
              "    </tr>\n",
              "  </thead>\n",
              "  <tbody>\n",
              "    <tr>\n",
              "      <th>2T2020</th>\n",
              "      <td>1.171241</td>\n",
              "      <td>0.793256</td>\n",
              "      <td>4.741137</td>\n",
              "      <td>15.680451</td>\n",
              "      <td>0.012311</td>\n",
              "      <td>0.002242</td>\n",
              "      <td>0.012874</td>\n",
              "      <td>319.899453</td>\n",
              "      <td>4.463321e+06</td>\n",
              "      <td>9.220234e+05</td>\n",
              "      <td>...</td>\n",
              "      <td>0.473970</td>\n",
              "      <td>126.037491</td>\n",
              "      <td>0.100794</td>\n",
              "      <td>-0.145854</td>\n",
              "      <td>2020-06-30</td>\n",
              "      <td>VIIA3</td>\n",
              "      <td>Comércio varejista</td>\n",
              "      <td>Ibov</td>\n",
              "      <td>252.074983</td>\n",
              "      <td>VIIA3.SA</td>\n",
              "    </tr>\n",
              "    <tr>\n",
              "      <th>2T2019</th>\n",
              "      <td>0.826152</td>\n",
              "      <td>1.627830</td>\n",
              "      <td>6.147602</td>\n",
              "      <td>8.758159</td>\n",
              "      <td>0.057867</td>\n",
              "      <td>0.003896</td>\n",
              "      <td>0.027849</td>\n",
              "      <td>86.624658</td>\n",
              "      <td>2.660698e+06</td>\n",
              "      <td>1.102906e+06</td>\n",
              "      <td>...</td>\n",
              "      <td>0.425204</td>\n",
              "      <td>87.108130</td>\n",
              "      <td>0.092832</td>\n",
              "      <td>-0.173913</td>\n",
              "      <td>2019-06-30</td>\n",
              "      <td>BPAN4</td>\n",
              "      <td>Serviços financeiros e seguros</td>\n",
              "      <td>Ibov</td>\n",
              "      <td>174.216259</td>\n",
              "      <td>BPAN4.SA</td>\n",
              "    </tr>\n",
              "    <tr>\n",
              "      <th>2T2020</th>\n",
              "      <td>1.090801</td>\n",
              "      <td>0.781532</td>\n",
              "      <td>7.880433</td>\n",
              "      <td>14.454332</td>\n",
              "      <td>0.201766</td>\n",
              "      <td>0.004377</td>\n",
              "      <td>0.038870</td>\n",
              "      <td>68.123789</td>\n",
              "      <td>1.563549e+07</td>\n",
              "      <td>4.679991e+06</td>\n",
              "      <td>...</td>\n",
              "      <td>0.374168</td>\n",
              "      <td>51.532180</td>\n",
              "      <td>0.078586</td>\n",
              "      <td>-0.180000</td>\n",
              "      <td>2020-06-30</td>\n",
              "      <td>BPAC11</td>\n",
              "      <td>Serviços financeiros e seguros</td>\n",
              "      <td>Ibov</td>\n",
              "      <td>103.064360</td>\n",
              "      <td>BPAC11.SA</td>\n",
              "    </tr>\n",
              "    <tr>\n",
              "      <th>3T2017</th>\n",
              "      <td>1.105365</td>\n",
              "      <td>0.654432</td>\n",
              "      <td>5.900982</td>\n",
              "      <td>6.417938</td>\n",
              "      <td>0.032379</td>\n",
              "      <td>0.015551</td>\n",
              "      <td>0.107317</td>\n",
              "      <td>137.034134</td>\n",
              "      <td>4.427051e+06</td>\n",
              "      <td>2.720271e+05</td>\n",
              "      <td>...</td>\n",
              "      <td>0.348765</td>\n",
              "      <td>47.247596</td>\n",
              "      <td>0.072584</td>\n",
              "      <td>-0.079592</td>\n",
              "      <td>2017-09-30</td>\n",
              "      <td>MGLU3</td>\n",
              "      <td>Comércio varejista</td>\n",
              "      <td>Ibov</td>\n",
              "      <td>94.495193</td>\n",
              "      <td>MGLU3.SA</td>\n",
              "    </tr>\n",
              "    <tr>\n",
              "      <th>2T2020</th>\n",
              "      <td>2.104166</td>\n",
              "      <td>1.823111</td>\n",
              "      <td>1.952323</td>\n",
              "      <td>42.783600</td>\n",
              "      <td>-0.030654</td>\n",
              "      <td>-0.004536</td>\n",
              "      <td>-0.013393</td>\n",
              "      <td>-750.806848</td>\n",
              "      <td>1.022858e+07</td>\n",
              "      <td>1.017217e+06</td>\n",
              "      <td>...</td>\n",
              "      <td>0.415859</td>\n",
              "      <td>42.446056</td>\n",
              "      <td>0.089988</td>\n",
              "      <td>-0.098218</td>\n",
              "      <td>2020-06-30</td>\n",
              "      <td>AMER3</td>\n",
              "      <td>Comércio varejista</td>\n",
              "      <td>Ibov</td>\n",
              "      <td>84.892113</td>\n",
              "      <td>AMER3.SA</td>\n",
              "    </tr>\n",
              "    <tr>\n",
              "      <th>3T2017</th>\n",
              "      <td>2.267484</td>\n",
              "      <td>2.267484</td>\n",
              "      <td>0.522348</td>\n",
              "      <td>3.830376</td>\n",
              "      <td>0.184755</td>\n",
              "      <td>0.033976</td>\n",
              "      <td>0.051724</td>\n",
              "      <td>64.183647</td>\n",
              "      <td>3.024822e+06</td>\n",
              "      <td>9.111067e+05</td>\n",
              "      <td>...</td>\n",
              "      <td>0.214633</td>\n",
              "      <td>42.272584</td>\n",
              "      <td>0.045551</td>\n",
              "      <td>-0.095588</td>\n",
              "      <td>2017-09-30</td>\n",
              "      <td>YDUQ3</td>\n",
              "      <td>Educacão</td>\n",
              "      <td>Ibov</td>\n",
              "      <td>84.545168</td>\n",
              "      <td>YDUQ3.SA</td>\n",
              "    </tr>\n",
              "    <tr>\n",
              "      <th>2T2021</th>\n",
              "      <td>0.765141</td>\n",
              "      <td>1.627830</td>\n",
              "      <td>6.678682</td>\n",
              "      <td>8.758159</td>\n",
              "      <td>0.073872</td>\n",
              "      <td>0.004744</td>\n",
              "      <td>0.036428</td>\n",
              "      <td>143.189126</td>\n",
              "      <td>5.796180e+06</td>\n",
              "      <td>1.111222e+06</td>\n",
              "      <td>...</td>\n",
              "      <td>0.324835</td>\n",
              "      <td>41.903542</td>\n",
              "      <td>0.069080</td>\n",
              "      <td>-0.110468</td>\n",
              "      <td>2021-06-30</td>\n",
              "      <td>BPAN4</td>\n",
              "      <td>Serviços financeiros e seguros</td>\n",
              "      <td>Ibov</td>\n",
              "      <td>83.807083</td>\n",
              "      <td>BPAN4.SA</td>\n",
              "    </tr>\n",
              "    <tr>\n",
              "      <th>1T2017</th>\n",
              "      <td>3.672323</td>\n",
              "      <td>3.421612</td>\n",
              "      <td>0.547889</td>\n",
              "      <td>453.155963</td>\n",
              "      <td>0.053740</td>\n",
              "      <td>0.002870</td>\n",
              "      <td>0.004443</td>\n",
              "      <td>153.696119</td>\n",
              "      <td>1.919249e+05</td>\n",
              "      <td>2.855255e+05</td>\n",
              "      <td>...</td>\n",
              "      <td>0.271965</td>\n",
              "      <td>40.234191</td>\n",
              "      <td>0.057758</td>\n",
              "      <td>-0.070685</td>\n",
              "      <td>2017-03-31</td>\n",
              "      <td>PRIO3</td>\n",
              "      <td>Mineração, exploração de pedreiras e extração ...</td>\n",
              "      <td>Ibov</td>\n",
              "      <td>80.468382</td>\n",
              "      <td>PRIO3.SA</td>\n",
              "    </tr>\n",
              "    <tr>\n",
              "      <th>4T2016</th>\n",
              "      <td>9.816378</td>\n",
              "      <td>9.399498</td>\n",
              "      <td>0.297568</td>\n",
              "      <td>0.090572</td>\n",
              "      <td>2.519452</td>\n",
              "      <td>0.264753</td>\n",
              "      <td>0.343535</td>\n",
              "      <td>1.002528</td>\n",
              "      <td>8.786412e+04</td>\n",
              "      <td>2.559455e+05</td>\n",
              "      <td>...</td>\n",
              "      <td>0.271965</td>\n",
              "      <td>40.234191</td>\n",
              "      <td>0.057758</td>\n",
              "      <td>-0.070685</td>\n",
              "      <td>2016-12-31</td>\n",
              "      <td>PRIO3</td>\n",
              "      <td>Mineração, exploração de pedreiras e extração ...</td>\n",
              "      <td>Ibov</td>\n",
              "      <td>80.468382</td>\n",
              "      <td>PRIO3.SA</td>\n",
              "    </tr>\n",
              "    <tr>\n",
              "      <th>2T2020</th>\n",
              "      <td>0.733932</td>\n",
              "      <td>0.602881</td>\n",
              "      <td>1.580456</td>\n",
              "      <td>8.789388</td>\n",
              "      <td>-0.319578</td>\n",
              "      <td>-0.014984</td>\n",
              "      <td>-0.038665</td>\n",
              "      <td>-47.928341</td>\n",
              "      <td>8.735106e+05</td>\n",
              "      <td>4.711784e+05</td>\n",
              "      <td>...</td>\n",
              "      <td>0.501019</td>\n",
              "      <td>33.405928</td>\n",
              "      <td>0.108426</td>\n",
              "      <td>-0.337263</td>\n",
              "      <td>2020-06-30</td>\n",
              "      <td>PRIO3</td>\n",
              "      <td>Mineração, exploração de pedreiras e extração ...</td>\n",
              "      <td>Ibov</td>\n",
              "      <td>66.811856</td>\n",
              "      <td>PRIO3.SA</td>\n",
              "    </tr>\n",
              "  </tbody>\n",
              "</table>\n",
              "<p>10 rows × 28 columns</p>\n",
              "</div>\n",
              "      <button class=\"colab-df-convert\" onclick=\"convertToInteractive('df-f91cf43d-74e2-4f60-ab5c-18a8f6df6ead')\"\n",
              "              title=\"Convert this dataframe to an interactive table.\"\n",
              "              style=\"display:none;\">\n",
              "        \n",
              "  <svg xmlns=\"http://www.w3.org/2000/svg\" height=\"24px\"viewBox=\"0 0 24 24\"\n",
              "       width=\"24px\">\n",
              "    <path d=\"M0 0h24v24H0V0z\" fill=\"none\"/>\n",
              "    <path d=\"M18.56 5.44l.94 2.06.94-2.06 2.06-.94-2.06-.94-.94-2.06-.94 2.06-2.06.94zm-11 1L8.5 8.5l.94-2.06 2.06-.94-2.06-.94L8.5 2.5l-.94 2.06-2.06.94zm10 10l.94 2.06.94-2.06 2.06-.94-2.06-.94-.94-2.06-.94 2.06-2.06.94z\"/><path d=\"M17.41 7.96l-1.37-1.37c-.4-.4-.92-.59-1.43-.59-.52 0-1.04.2-1.43.59L10.3 9.45l-7.72 7.72c-.78.78-.78 2.05 0 2.83L4 21.41c.39.39.9.59 1.41.59.51 0 1.02-.2 1.41-.59l7.78-7.78 2.81-2.81c.8-.78.8-2.07 0-2.86zM5.41 20L4 18.59l7.72-7.72 1.47 1.35L5.41 20z\"/>\n",
              "  </svg>\n",
              "      </button>\n",
              "      \n",
              "  <style>\n",
              "    .colab-df-container {\n",
              "      display:flex;\n",
              "      flex-wrap:wrap;\n",
              "      gap: 12px;\n",
              "    }\n",
              "\n",
              "    .colab-df-convert {\n",
              "      background-color: #E8F0FE;\n",
              "      border: none;\n",
              "      border-radius: 50%;\n",
              "      cursor: pointer;\n",
              "      display: none;\n",
              "      fill: #1967D2;\n",
              "      height: 32px;\n",
              "      padding: 0 0 0 0;\n",
              "      width: 32px;\n",
              "    }\n",
              "\n",
              "    .colab-df-convert:hover {\n",
              "      background-color: #E2EBFA;\n",
              "      box-shadow: 0px 1px 2px rgba(60, 64, 67, 0.3), 0px 1px 3px 1px rgba(60, 64, 67, 0.15);\n",
              "      fill: #174EA6;\n",
              "    }\n",
              "\n",
              "    [theme=dark] .colab-df-convert {\n",
              "      background-color: #3B4455;\n",
              "      fill: #D2E3FC;\n",
              "    }\n",
              "\n",
              "    [theme=dark] .colab-df-convert:hover {\n",
              "      background-color: #434B5C;\n",
              "      box-shadow: 0px 1px 3px 1px rgba(0, 0, 0, 0.15);\n",
              "      filter: drop-shadow(0px 1px 2px rgba(0, 0, 0, 0.3));\n",
              "      fill: #FFFFFF;\n",
              "    }\n",
              "  </style>\n",
              "\n",
              "      <script>\n",
              "        const buttonEl =\n",
              "          document.querySelector('#df-f91cf43d-74e2-4f60-ab5c-18a8f6df6ead button.colab-df-convert');\n",
              "        buttonEl.style.display =\n",
              "          google.colab.kernel.accessAllowed ? 'block' : 'none';\n",
              "\n",
              "        async function convertToInteractive(key) {\n",
              "          const element = document.querySelector('#df-f91cf43d-74e2-4f60-ab5c-18a8f6df6ead');\n",
              "          const dataTable =\n",
              "            await google.colab.kernel.invokeFunction('convertToInteractive',\n",
              "                                                     [key], {});\n",
              "          if (!dataTable) return;\n",
              "\n",
              "          const docLinkHtml = 'Like what you see? Visit the ' +\n",
              "            '<a target=\"_blank\" href=https://colab.research.google.com/notebooks/data_table.ipynb>data table notebook</a>'\n",
              "            + ' to learn more about interactive tables.';\n",
              "          element.innerHTML = '';\n",
              "          dataTable['output_type'] = 'display_data';\n",
              "          await google.colab.output.renderOutput(dataTable, element);\n",
              "          const docLink = document.createElement('div');\n",
              "          docLink.innerHTML = docLinkHtml;\n",
              "          element.appendChild(docLink);\n",
              "        }\n",
              "      </script>\n",
              "    </div>\n",
              "  </div>\n",
              "  "
            ]
          },
          "metadata": {},
          "execution_count": 13
        }
      ]
    },
    {
      "cell_type": "code",
      "source": [
        "df_indicators.info()"
      ],
      "metadata": {
        "colab": {
          "base_uri": "https://localhost:8080/"
        },
        "id": "ofTjTryzZUiN",
        "outputId": "32dfdc50-2774-4964-c9ee-f4c2cb294abf"
      },
      "execution_count": 14,
      "outputs": [
        {
          "output_type": "stream",
          "name": "stdout",
          "text": [
            "<class 'pandas.core.frame.DataFrame'>\n",
            "Index: 12936 entries, 1T2016 to 4T2021\n",
            "Data columns (total 28 columns):\n",
            " #   Column                                                          Non-Null Count  Dtype         \n",
            "---  ------                                                          --------------  -----         \n",
            " 0    LiqCor  consolid:sim*                                          12936 non-null  float64       \n",
            " 1    LiqSec  consolid:sim*                                          12936 non-null  float64       \n",
            " 2    Exig / PL  consolid:sim*                                       12936 non-null  float64       \n",
            " 3    DivBr/Ebitda  de 3 meses  consolid:sim*                        12936 non-null  float64       \n",
            " 4    Margem Liquida  de 3 meses  consolid:sim*                      12936 non-null  float64       \n",
            " 5   ROA de 3 meses                                                  12936 non-null  float64       \n",
            " 6   ROE de 3 meses                                                  12936 non-null  float64       \n",
            " 7   P/L de 3 meses ajust pela infl                                  12936 non-null  float64       \n",
            " 8   Valor Mercado da empresa Em US Dollars em milhares              12936 non-null  float64       \n",
            " 9    Patrim Liq  Em US Dollars  em milhares  consolid:sim*          12936 non-null  float64       \n",
            " 10  Price/Book ratio                                                12936 non-null  float64       \n",
            " 11  EV Em US Dollars em milhares consolid:sim*                      12936 non-null  float64       \n",
            " 12  EV/EBITDA emp Em US Dollars de 3 meses consolid:sim*            12936 non-null  float64       \n",
            " 13  P/FCF Em US Dollars de 3 meses consolid:sim*                    12936 non-null  float64       \n",
            " 14  Media do fechamento em 1 trimestre Em US Dollars ajust p/ prov  12936 non-null  float64       \n",
            " 15  Beta                                                            12936 non-null  float64       \n",
            " 16  TIR média trimestral em 3 meses Em moeda orig                   12936 non-null  float64       \n",
            " 17  Bollinger 90/2 Média Em moeda orig                              12936 non-null  float64       \n",
            " 18  Volatilidade base trimestral 3 meses Em moeda orig              12936 non-null  float64       \n",
            " 19  Sharpe                                                          12936 non-null  float64       \n",
            " 20  VAR % base diária confiança: 95% 3 meses Em moeda orig          12936 non-null  float64       \n",
            " 21  Max Drd (c/rec) ajust p/ prov 3 meses Em moeda orig             12936 non-null  float64       \n",
            " 22   Data do Bal  consolid:sim*                                     12936 non-null  datetime64[ns]\n",
            " 23  Código                                                          12936 non-null  object        \n",
            " 24  Setor NAICS                                                     12936 non-null  object        \n",
            " 25  Indice                                                          12936 non-null  object        \n",
            " 26  Sharpe Ratio                                                    12936 non-null  float64       \n",
            " 27  Código ajustado                                                 12936 non-null  object        \n",
            "dtypes: datetime64[ns](1), float64(23), object(4)\n",
            "memory usage: 2.9+ MB\n"
          ]
        }
      ]
    },
    {
      "cell_type": "code",
      "source": [
        "#normaliza as colunas de formato float\n",
        "columns = [' LiqCor  consolid:sim*', ' LiqSec  consolid:sim*',\n",
        "       ' Exig / PL  consolid:sim*', ' DivBr/Ebitda  de 3 meses  consolid:sim*',\n",
        "       ' Margem Liquida  de 3 meses  consolid:sim*', 'ROA de 3 meses',\n",
        "       'ROE de 3 meses', 'P/L de 3 meses ajust pela infl',\n",
        "       'Valor Mercado da empresa Em US Dollars em milhares',\n",
        "       ' Patrim Liq  Em US Dollars  em milhares  consolid:sim*',\n",
        "       'Price/Book ratio', 'EV Em US Dollars em milhares consolid:sim*',\n",
        "       'EV/EBITDA emp Em US Dollars de 3 meses consolid:sim*',\n",
        "       'P/FCF Em US Dollars de 3 meses consolid:sim*',\n",
        "       'Media do fechamento em 1 trimestre Em US Dollars ajust p/ prov',\n",
        "       'TIR média trimestral em 3 meses Em moeda orig',\n",
        "       'Bollinger 90/2 Média Em moeda orig',\n",
        "       'Volatilidade base trimestral 3 meses Em moeda orig',\n",
        "       'VAR % base diária confiança: 95% 3 meses Em moeda orig',\n",
        "       'Max Drd (c/rec) ajust p/ prov 3 meses Em moeda orig',\n",
        "       'Sharpe Ratio', 'Beta']\n",
        "\n",
        "for column in columns:\n",
        "  #indicators_application[column] = indicators_application[column].loc[indicators_application[column].isnull()==False]\n",
        "  #indicators_application = indicators_application[np.isfinite(indicators_application[column]) == True]\n",
        "  df_indicators[column] = (df_indicators[column]-min(df_indicators[column].dropna())) /(max(df_indicators[column].dropna())-min(df_indicators[column].dropna()))"
      ],
      "metadata": {
        "id": "KybVyxnOZTbB"
      },
      "execution_count": 15,
      "outputs": []
    },
    {
      "cell_type": "code",
      "source": [
        "periodo = '2021-12-31'\n",
        "best_10_sharpe = df_indicators.loc[df_indicators[' Data do Bal  consolid:sim*'].astype(str) == periodo].sort_values(by='Sharpe Ratio',ascending=False).head(10)['Código ajustado']\n",
        "df_indicators.loc[df_indicators[' Data do Bal  consolid:sim*'].astype(str) == periodo].sort_values(by='Sharpe Ratio',ascending=False).head(10)"
      ],
      "metadata": {
        "id": "Lmoxd7dmPTDO"
      },
      "execution_count": null,
      "outputs": []
    },
    {
      "cell_type": "code",
      "source": [
        "for i in range(0,len(best_10_sharpe)):\n",
        "  plt.plot(pd.DataFrame(yf.download(best_10_sharpe.iloc[i], start = '2018-01-01', end = '2022-02-28')['Adj Close']),label=str(best_10_sharpe.iloc[i]))\n",
        "  plt.legend()"
      ],
      "metadata": {
        "id": "yRJOvRIyUnw7"
      },
      "execution_count": null,
      "outputs": []
    },
    {
      "cell_type": "code",
      "source": [
        "for i in range(0,len(best_10_sharpe)):\n",
        "  if i == 0:\n",
        "    best_10 = pd.DataFrame(yf.download(best_10_sharpe.iloc[i], start = '2018-01-01', end = '2021-12-31')['Adj Close']).rename(columns={'Adj Close':best_10_sharpe.iloc[i]})\n",
        "  else:\n",
        "    best_10[str(best_10_sharpe.iloc[i])] = pd.DataFrame(yf.download(best_10_sharpe.iloc[i], start = '2018-01-01', end = '2021-12-31')['Adj Close']).rename(columns={'Adj Close':best_10_sharpe.iloc[i]})\n",
        "\n",
        "for column in best_10.columns:\n",
        "  best_10[column] = (best_10[column]-min(best_10[column])) /(max(best_10[column])-min(best_10[column]))\n",
        "\n",
        "rcParams['figure.figsize'] = 40,12\n",
        "for i in range(0,len(best_10.columns)):\n",
        "  plt.plot(best_10.iloc[:,i],label=best_10.columns[i])\n",
        "  plt.legend()"
      ],
      "metadata": {
        "id": "ixQx0CaGgqzU"
      },
      "execution_count": null,
      "outputs": []
    },
    {
      "cell_type": "code",
      "source": [
        "plt.plot(pd.DataFrame(yf.download('LREN3.SA', start = '2018-01-01', end = '2021-12-31')['Adj Close']))"
      ],
      "metadata": {
        "id": "13CyVvsflqQw"
      },
      "execution_count": null,
      "outputs": []
    },
    {
      "cell_type": "markdown",
      "metadata": {
        "id": "EsN6GkLmCNmb"
      },
      "source": [
        "##Models Applications"
      ]
    },
    {
      "cell_type": "markdown",
      "metadata": {
        "id": "KrbJBHTdfbmI"
      },
      "source": [
        "##UMAP testing"
      ]
    },
    {
      "cell_type": "code",
      "execution_count": 16,
      "metadata": {
        "id": "8YAebWiXz0rU"
      },
      "outputs": [],
      "source": [
        "import numpy as np\n",
        "from sklearn.datasets import load_digits\n",
        "from sklearn.model_selection import train_test_split\n",
        "from sklearn.preprocessing import StandardScaler\n",
        "import matplotlib.pyplot as plt\n",
        "import seaborn as sns \n",
        "from matplotlib.pylab import rcParams\n",
        "rcParams['figure.figsize'] = 15,10"
      ]
    },
    {
      "cell_type": "code",
      "execution_count": 17,
      "metadata": {
        "id": "duGtqwK4r_y3"
      },
      "outputs": [],
      "source": [
        "import umap"
      ]
    },
    {
      "cell_type": "code",
      "execution_count": 22,
      "metadata": {
        "id": "roYqrTtICa1S"
      },
      "outputs": [],
      "source": [
        "indicators_application = df_indicators.loc[(df_indicators[' Data do Bal  consolid:sim*'].astype(str)>='2021-10-01') & (df_indicators[' Data do Bal  consolid:sim*'].astype(str)<='2021-12-31')]\n",
        "#.drop(['Data','Código', ' Data do Bal  consolid:sim*','Indice','Código ajustado'],axis='columns').replace('-',0).astype(float)\n",
        "indicators_application = indicators_application.fillna(0)"
      ]
    },
    {
      "cell_type": "code",
      "execution_count": 23,
      "metadata": {
        "id": "nRYBkIOvXjmz"
      },
      "outputs": [],
      "source": [
        "indicators_application = indicators_application.fillna(0)"
      ]
    },
    {
      "cell_type": "code",
      "execution_count": 24,
      "metadata": {
        "id": "P8lIJKFar_y4"
      },
      "outputs": [],
      "source": [
        "indicators_data = indicators_application[columns].values\n",
        "scaled_indicators_data = StandardScaler().fit_transform(indicators_data)"
      ]
    },
    {
      "cell_type": "code",
      "execution_count": 25,
      "metadata": {
        "colab": {
          "base_uri": "https://localhost:8080/"
        },
        "id": "VLO0NthZQ-dr",
        "outputId": "7ac98534-cbaf-425f-c823-d39311a7fc85"
      },
      "outputs": [
        {
          "output_type": "execute_result",
          "data": {
            "text/plain": [
              "(558, 22)"
            ]
          },
          "metadata": {},
          "execution_count": 25
        }
      ],
      "source": [
        "indicators_data.shape"
      ]
    },
    {
      "cell_type": "code",
      "execution_count": 26,
      "metadata": {
        "id": "4AwdHJ70r_y3"
      },
      "outputs": [],
      "source": [
        "reducer = umap.UMAP()"
      ]
    },
    {
      "cell_type": "code",
      "execution_count": 27,
      "metadata": {
        "colab": {
          "base_uri": "https://localhost:8080/"
        },
        "id": "uulcqSA2r_y4",
        "outputId": "b3cc1bf6-bfff-49ce-c529-c9d0575deebf"
      },
      "outputs": [
        {
          "output_type": "stream",
          "name": "stderr",
          "text": [
            "/usr/local/lib/python3.7/dist-packages/numba/np/ufunc/parallel.py:363: NumbaWarning: The TBB threading layer requires TBB version 2019.5 or later i.e., TBB_INTERFACE_VERSION >= 11005. Found TBB_INTERFACE_VERSION = 9107. The TBB threading layer is disabled.\n",
            "  warnings.warn(problem)\n"
          ]
        },
        {
          "output_type": "execute_result",
          "data": {
            "text/plain": [
              "(558, 2)"
            ]
          },
          "metadata": {},
          "execution_count": 27
        }
      ],
      "source": [
        "embedding = reducer.fit_transform(indicators_data)\n",
        "embedding.shape "
      ]
    },
    {
      "cell_type": "code",
      "execution_count": 28,
      "metadata": {
        "colab": {
          "base_uri": "https://localhost:8080/",
          "height": 609
        },
        "id": "OlVITkQnJh58",
        "outputId": "5eafd4fa-335a-4d2e-c71c-939563e198b2"
      },
      "outputs": [
        {
          "output_type": "execute_result",
          "data": {
            "text/plain": [
              "<matplotlib.collections.PathCollection at 0x7fdd7e428c50>"
            ]
          },
          "metadata": {},
          "execution_count": 28
        },
        {
          "output_type": "display_data",
          "data": {
            "text/plain": [
              "<Figure size 1080x720 with 1 Axes>"
            ],
            "image/png": "[encoded data removed]"
          },
          "metadata": {
            "needs_background": "light"
          }
        }
      ],
      "source": [
        "plt.scatter(embedding[:,0], embedding[:,1])"
      ]
    },
    {
      "cell_type": "code",
      "execution_count": 29,
      "metadata": {
        "colab": {
          "base_uri": "https://localhost:8080/",
          "height": 633
        },
        "id": "TTpfIOTPwWAX",
        "outputId": "ea1e092c-1852-4bb2-fb00-bfff0f27af69"
      },
      "outputs": [
        {
          "output_type": "execute_result",
          "data": {
            "text/plain": [
              "Text(0.5, 1.0, 'UMAP projection of the S&P500 and Ibov Index')"
            ]
          },
          "metadata": {},
          "execution_count": 29
        },
        {
          "output_type": "display_data",
          "data": {
            "text/plain": [
              "<Figure size 1080x720 with 2 Axes>"
            ],
            "image/png": "[encoded data removed]"
          },
          "metadata": {
            "needs_background": "light"
          }
        }
      ],
      "source": [
        "plt.scatter(\n",
        "    embedding[:, 0],\n",
        "    embedding[:, 1],\n",
        "    #c=indicators_data\n",
        "    )\n",
        "plt.gca().set_aspect('equal', 'datalim')\n",
        "plt.colorbar(boundaries=np.arange(11)-0.5).set_ticks(np.arange(10))\n",
        "plt.title('UMAP projection of the S&P500 and Ibov Index', fontsize=24)"
      ]
    },
    {
      "cell_type": "code",
      "execution_count": 30,
      "metadata": {
        "id": "lq2OjOocMHnT"
      },
      "outputs": [],
      "source": [
        "data = indicators_data "
      ]
    },
    {
      "cell_type": "code",
      "execution_count": 31,
      "metadata": {
        "id": "ifxFjgcEMFqe"
      },
      "outputs": [],
      "source": [
        "def draw_umap(n_neighbors=15, min_dist=0.1, n_components=2, metric='euclidean', title=''):\n",
        "    fit = umap.UMAP(\n",
        "        n_neighbors=n_neighbors,\n",
        "        min_dist=min_dist,\n",
        "        n_components=n_components,\n",
        "        metric=metric\n",
        "    )\n",
        "    u = fit.fit_transform(data);\n",
        "    fig = plt.figure()\n",
        "    if n_components == 1:\n",
        "        ax = fig.add_subplot(111)\n",
        "        ax.scatter(u[:,0], \n",
        "                   range(len(u)), \n",
        "                   #c=data\n",
        "                   )\n",
        "    if n_components == 2:\n",
        "        ax = fig.add_subplot(111)\n",
        "        ax.scatter(u[:,0], \n",
        "                   u[:,1], \n",
        "                   #c=data\n",
        "                   )\n",
        "    if n_components == 3:\n",
        "        ax = fig.add_subplot(111, projection='3d')\n",
        "        ax.scatter(u[:,0], \n",
        "                   u[:,1], \n",
        "                   u[:,2], \n",
        "                   #c=data\n",
        "                   )\n",
        "    plt.title(title, fontsize=18)"
      ]
    },
    {
      "cell_type": "code",
      "execution_count": null,
      "metadata": {
        "id": "Fm1eDp1_MMzs"
      },
      "outputs": [],
      "source": [
        "#for n in (2, 5, 10, 20, 50, 100, 200,300,400,500):\n",
        "#    draw_umap(n_neighbors=n, title='n_neighbors = {}'.format(n))"
      ]
    },
    {
      "cell_type": "code",
      "execution_count": null,
      "metadata": {
        "id": "jArOkj6LQXmG"
      },
      "outputs": [],
      "source": [
        "#for d in (0.0, 0.1, 0.25, 0.5, 0.8, 0.99):\n",
        "#    draw_umap(min_dist=d, title='min_dist = {}'.format(d))"
      ]
    },
    {
      "cell_type": "code",
      "execution_count": 32,
      "metadata": {
        "id": "JI8ZXwHIRRij",
        "colab": {
          "base_uri": "https://localhost:8080/",
          "height": 575
        },
        "outputId": "486006a0-0ce0-4ffa-bde8-a165e3922624"
      },
      "outputs": [
        {
          "output_type": "display_data",
          "data": {
            "text/plain": [
              "<Figure size 1080x720 with 1 Axes>"
            ],
            "image/png": "[encoded data removed]"
          },
          "metadata": {
            "needs_background": "light"
          }
        }
      ],
      "source": [
        "draw_umap(n_components=3,n_neighbors=15, title='n_components = 3, n_neighbors = 200')"
      ]
    },
    {
      "cell_type": "markdown",
      "metadata": {
        "id": "IdFKlduiX_db"
      },
      "source": [
        "##K-Means application for UMAP output"
      ]
    },
    {
      "cell_type": "code",
      "execution_count": 33,
      "metadata": {
        "id": "1XNfnf_vYY6t"
      },
      "outputs": [],
      "source": [
        "kmeans_input = pd.DataFrame(embedding)\n",
        "kmeans_input.rename(columns={0:'x',1:'y'},inplace=True)"
      ]
    },
    {
      "cell_type": "code",
      "execution_count": 34,
      "metadata": {
        "id": "lxO5Jkx4X_dn"
      },
      "outputs": [],
      "source": [
        "columns = ['x','y']\n",
        "#Normalização dos dados\n",
        "for column in columns:\n",
        "  kmeans_input[column] = (kmeans_input[column]-min(kmeans_input[column].dropna()))/(max(kmeans_input[column].dropna())-min(kmeans_input[column].dropna()))"
      ]
    },
    {
      "cell_type": "code",
      "execution_count": 35,
      "metadata": {
        "id": "BleeHcC6X_do"
      },
      "outputs": [],
      "source": [
        "X = kmeans_input.iloc[:,[0,1]].values"
      ]
    },
    {
      "cell_type": "code",
      "execution_count": 36,
      "metadata": {
        "id": "DiRhHBPJX_dp"
      },
      "outputs": [],
      "source": [
        "import pandas as pd\n",
        "import matplotlib as plt\n",
        "from sklearn.preprocessing import LabelEncoder, OneHotEncoder\n",
        "labelencoder_X = LabelEncoder()\n",
        "from sklearn.cluster import KMeans\n",
        "import numpy as np\n",
        "import matplotlib.pylab as plt\n",
        "%matplotlib inline\n",
        "from matplotlib.pylab import rcParams\n",
        "rcParams['figure.figsize'] = 15,10\n",
        "from pandas.plotting import register_matplotlib_converters\n",
        "\n",
        "from matplotlib import pyplot\n",
        "\n",
        "from sklearn.metrics import mean_squared_error\n",
        "from math import sqrt"
      ]
    },
    {
      "cell_type": "code",
      "execution_count": 37,
      "metadata": {
        "id": "OOIrJ100X_dq"
      },
      "outputs": [],
      "source": [
        "WCSS = []"
      ]
    },
    {
      "cell_type": "code",
      "execution_count": 38,
      "metadata": {
        "id": "1xDlQG8TX_dq"
      },
      "outputs": [],
      "source": [
        "for i in range (1,11):\n",
        "  kmeans = KMeans(n_clusters=i,random_state=0)\n",
        "  kmeans.fit(X)\n",
        "  WCSS.append(kmeans.inertia_)"
      ]
    },
    {
      "cell_type": "code",
      "execution_count": 39,
      "metadata": {
        "id": "IMYlx2GzX_dr",
        "colab": {
          "base_uri": "https://localhost:8080/",
          "height": 623
        },
        "outputId": "ebce1326-b58b-4874-c873-7814107894d0"
      },
      "outputs": [
        {
          "output_type": "execute_result",
          "data": {
            "text/plain": [
              "Text(0, 0.5, 'wcss')"
            ]
          },
          "metadata": {},
          "execution_count": 39
        },
        {
          "output_type": "display_data",
          "data": {
            "text/plain": [
              "<Figure size 1080x720 with 1 Axes>"
            ],
            "image/png": "[encoded data removed]"
          },
          "metadata": {
            "needs_background": "light"
          }
        }
      ],
      "source": [
        "plt.plot(range(1,11),WCSS)\n",
        "plt.xlabel('Numero de clusters')\n",
        "plt.ylabel('wcss')"
      ]
    },
    {
      "cell_type": "code",
      "execution_count": 40,
      "metadata": {
        "id": "BduLAwKOX_dr"
      },
      "outputs": [],
      "source": [
        "kmeans = KMeans(n_clusters=4, random_state=0)\n",
        "previsoes = kmeans.fit_predict(X)"
      ]
    },
    {
      "cell_type": "code",
      "execution_count": 41,
      "metadata": {
        "id": "hNna5xnAX_ds",
        "colab": {
          "base_uri": "https://localhost:8080/",
          "height": 609
        },
        "outputId": "e2bd5e62-5d6e-4482-faef-32145340d25a"
      },
      "outputs": [
        {
          "output_type": "execute_result",
          "data": {
            "text/plain": [
              "<matplotlib.collections.PathCollection at 0x7fdd7d4e3a90>"
            ]
          },
          "metadata": {},
          "execution_count": 41
        },
        {
          "output_type": "display_data",
          "data": {
            "text/plain": [
              "<Figure size 1080x720 with 1 Axes>"
            ],
            "image/png": "[encoded data removed]"
          },
          "metadata": {
            "needs_background": "light"
          }
        }
      ],
      "source": [
        "plt.scatter(X[previsoes == 0,0], X[previsoes == 0,1],s=100, c='red', label = 'Cluster 1')\n",
        "plt.scatter(X[previsoes == 1,0], X[previsoes == 1,1],s=100, c='green', label = 'Cluster 2')\n",
        "plt.scatter(X[previsoes == 2,0], X[previsoes == 2,1],s=100, c='blue', label = 'Cluster 3')\n",
        "plt.scatter(X[previsoes == 3,0], X[previsoes == 3,1],s=100, c='yellow', label = 'Cluster 4')\n",
        "plt.scatter(X[previsoes == 4,0], X[previsoes == 4,1],s=100, c='orange', label = 'Cluster 5')"
      ]
    },
    {
      "cell_type": "code",
      "execution_count": 42,
      "metadata": {
        "id": "ombABYOLX_du"
      },
      "outputs": [],
      "source": [
        "kmeans_output = pd.DataFrame(np.column_stack((kmeans_input, previsoes)))"
      ]
    },
    {
      "cell_type": "code",
      "execution_count": 43,
      "metadata": {
        "id": "CISdvZTGgrDG",
        "colab": {
          "base_uri": "https://localhost:8080/",
          "height": 424
        },
        "outputId": "19dd45ee-4ae8-49e9-b8b4-fac8089574c1"
      },
      "outputs": [
        {
          "output_type": "execute_result",
          "data": {
            "text/plain": [
              "            0         1    2\n",
              "0    0.823101  0.893530  0.0\n",
              "1    0.542764  0.119875  1.0\n",
              "2    0.599959  0.250778  1.0\n",
              "3    0.368077  0.384298  3.0\n",
              "4    0.724193  0.185742  1.0\n",
              "..        ...       ...  ...\n",
              "553  0.865016  0.546076  2.0\n",
              "554  0.751867  0.066472  1.0\n",
              "555  0.629967  0.904080  0.0\n",
              "556  0.702695  0.756679  0.0\n",
              "557  0.688670  0.659720  0.0\n",
              "\n",
              "[558 rows x 3 columns]"
            ],
            "text/html": [
              "\n",
              "  <div id=\"df-e9af7f1e-2cf2-4a94-ae7b-c1010149e357\">\n",
              "    <div class=\"colab-df-container\">\n",
              "      <div>\n",
              "<style scoped>\n",
              "    .dataframe tbody tr th:only-of-type {\n",
              "        vertical-align: middle;\n",
              "    }\n",
              "\n",
              "    .dataframe tbody tr th {\n",
              "        vertical-align: top;\n",
              "    }\n",
              "\n",
              "    .dataframe thead th {\n",
              "        text-align: right;\n",
              "    }\n",
              "</style>\n",
              "<table border=\"1\" class=\"dataframe\">\n",
              "  <thead>\n",
              "    <tr style=\"text-align: right;\">\n",
              "      <th></th>\n",
              "      <th>0</th>\n",
              "      <th>1</th>\n",
              "      <th>2</th>\n",
              "    </tr>\n",
              "  </thead>\n",
              "  <tbody>\n",
              "    <tr>\n",
              "      <th>0</th>\n",
              "      <td>0.823101</td>\n",
              "      <td>0.893530</td>\n",
              "      <td>0.0</td>\n",
              "    </tr>\n",
              "    <tr>\n",
              "      <th>1</th>\n",
              "      <td>0.542764</td>\n",
              "      <td>0.119875</td>\n",
              "      <td>1.0</td>\n",
              "    </tr>\n",
              "    <tr>\n",
              "      <th>2</th>\n",
              "      <td>0.599959</td>\n",
              "      <td>0.250778</td>\n",
              "      <td>1.0</td>\n",
              "    </tr>\n",
              "    <tr>\n",
              "      <th>3</th>\n",
              "      <td>0.368077</td>\n",
              "      <td>0.384298</td>\n",
              "      <td>3.0</td>\n",
              "    </tr>\n",
              "    <tr>\n",
              "      <th>4</th>\n",
              "      <td>0.724193</td>\n",
              "      <td>0.185742</td>\n",
              "      <td>1.0</td>\n",
              "    </tr>\n",
              "    <tr>\n",
              "      <th>...</th>\n",
              "      <td>...</td>\n",
              "      <td>...</td>\n",
              "      <td>...</td>\n",
              "    </tr>\n",
              "    <tr>\n",
              "      <th>553</th>\n",
              "      <td>0.865016</td>\n",
              "      <td>0.546076</td>\n",
              "      <td>2.0</td>\n",
              "    </tr>\n",
              "    <tr>\n",
              "      <th>554</th>\n",
              "      <td>0.751867</td>\n",
              "      <td>0.066472</td>\n",
              "      <td>1.0</td>\n",
              "    </tr>\n",
              "    <tr>\n",
              "      <th>555</th>\n",
              "      <td>0.629967</td>\n",
              "      <td>0.904080</td>\n",
              "      <td>0.0</td>\n",
              "    </tr>\n",
              "    <tr>\n",
              "      <th>556</th>\n",
              "      <td>0.702695</td>\n",
              "      <td>0.756679</td>\n",
              "      <td>0.0</td>\n",
              "    </tr>\n",
              "    <tr>\n",
              "      <th>557</th>\n",
              "      <td>0.688670</td>\n",
              "      <td>0.659720</td>\n",
              "      <td>0.0</td>\n",
              "    </tr>\n",
              "  </tbody>\n",
              "</table>\n",
              "<p>558 rows × 3 columns</p>\n",
              "</div>\n",
              "      <button class=\"colab-df-convert\" onclick=\"convertToInteractive('df-e9af7f1e-2cf2-4a94-ae7b-c1010149e357')\"\n",
              "              title=\"Convert this dataframe to an interactive table.\"\n",
              "              style=\"display:none;\">\n",
              "        \n",
              "  <svg xmlns=\"http://www.w3.org/2000/svg\" height=\"24px\"viewBox=\"0 0 24 24\"\n",
              "       width=\"24px\">\n",
              "    <path d=\"M0 0h24v24H0V0z\" fill=\"none\"/>\n",
              "    <path d=\"M18.56 5.44l.94 2.06.94-2.06 2.06-.94-2.06-.94-.94-2.06-.94 2.06-2.06.94zm-11 1L8.5 8.5l.94-2.06 2.06-.94-2.06-.94L8.5 2.5l-.94 2.06-2.06.94zm10 10l.94 2.06.94-2.06 2.06-.94-2.06-.94-.94-2.06-.94 2.06-2.06.94z\"/><path d=\"M17.41 7.96l-1.37-1.37c-.4-.4-.92-.59-1.43-.59-.52 0-1.04.2-1.43.59L10.3 9.45l-7.72 7.72c-.78.78-.78 2.05 0 2.83L4 21.41c.39.39.9.59 1.41.59.51 0 1.02-.2 1.41-.59l7.78-7.78 2.81-2.81c.8-.78.8-2.07 0-2.86zM5.41 20L4 18.59l7.72-7.72 1.47 1.35L5.41 20z\"/>\n",
              "  </svg>\n",
              "      </button>\n",
              "      \n",
              "  <style>\n",
              "    .colab-df-container {\n",
              "      display:flex;\n",
              "      flex-wrap:wrap;\n",
              "      gap: 12px;\n",
              "    }\n",
              "\n",
              "    .colab-df-convert {\n",
              "      background-color: #E8F0FE;\n",
              "      border: none;\n",
              "      border-radius: 50%;\n",
              "      cursor: pointer;\n",
              "      display: none;\n",
              "      fill: #1967D2;\n",
              "      height: 32px;\n",
              "      padding: 0 0 0 0;\n",
              "      width: 32px;\n",
              "    }\n",
              "\n",
              "    .colab-df-convert:hover {\n",
              "      background-color: #E2EBFA;\n",
              "      box-shadow: 0px 1px 2px rgba(60, 64, 67, 0.3), 0px 1px 3px 1px rgba(60, 64, 67, 0.15);\n",
              "      fill: #174EA6;\n",
              "    }\n",
              "\n",
              "    [theme=dark] .colab-df-convert {\n",
              "      background-color: #3B4455;\n",
              "      fill: #D2E3FC;\n",
              "    }\n",
              "\n",
              "    [theme=dark] .colab-df-convert:hover {\n",
              "      background-color: #434B5C;\n",
              "      box-shadow: 0px 1px 3px 1px rgba(0, 0, 0, 0.15);\n",
              "      filter: drop-shadow(0px 1px 2px rgba(0, 0, 0, 0.3));\n",
              "      fill: #FFFFFF;\n",
              "    }\n",
              "  </style>\n",
              "\n",
              "      <script>\n",
              "        const buttonEl =\n",
              "          document.querySelector('#df-e9af7f1e-2cf2-4a94-ae7b-c1010149e357 button.colab-df-convert');\n",
              "        buttonEl.style.display =\n",
              "          google.colab.kernel.accessAllowed ? 'block' : 'none';\n",
              "\n",
              "        async function convertToInteractive(key) {\n",
              "          const element = document.querySelector('#df-e9af7f1e-2cf2-4a94-ae7b-c1010149e357');\n",
              "          const dataTable =\n",
              "            await google.colab.kernel.invokeFunction('convertToInteractive',\n",
              "                                                     [key], {});\n",
              "          if (!dataTable) return;\n",
              "\n",
              "          const docLinkHtml = 'Like what you see? Visit the ' +\n",
              "            '<a target=\"_blank\" href=https://colab.research.google.com/notebooks/data_table.ipynb>data table notebook</a>'\n",
              "            + ' to learn more about interactive tables.';\n",
              "          element.innerHTML = '';\n",
              "          dataTable['output_type'] = 'display_data';\n",
              "          await google.colab.output.renderOutput(dataTable, element);\n",
              "          const docLink = document.createElement('div');\n",
              "          docLink.innerHTML = docLinkHtml;\n",
              "          element.appendChild(docLink);\n",
              "        }\n",
              "      </script>\n",
              "    </div>\n",
              "  </div>\n",
              "  "
            ]
          },
          "metadata": {},
          "execution_count": 43
        }
      ],
      "source": [
        "kmeans_output"
      ]
    },
    {
      "cell_type": "code",
      "execution_count": 44,
      "metadata": {
        "id": "MujyLcPzX_dv"
      },
      "outputs": [],
      "source": [
        "kmeans_output = kmeans_output.rename(columns={0:'x',1:'y',2:'Cluster'})"
      ]
    },
    {
      "cell_type": "code",
      "execution_count": 45,
      "metadata": {
        "id": "V48nkFmga5OB",
        "colab": {
          "base_uri": "https://localhost:8080/"
        },
        "outputId": "632d8789-c2eb-4fd3-be2b-ea3d75092eb8"
      },
      "outputs": [
        {
          "output_type": "stream",
          "name": "stderr",
          "text": [
            "/usr/local/lib/python3.7/dist-packages/pandas/core/indexing.py:1732: SettingWithCopyWarning: \n",
            "A value is trying to be set on a copy of a slice from a DataFrame\n",
            "\n",
            "See the caveats in the documentation: https://pandas.pydata.org/pandas-docs/stable/user_guide/indexing.html#returning-a-view-versus-a-copy\n",
            "  self._setitem_single_block(indexer, value, name)\n"
          ]
        }
      ],
      "source": [
        "#preenchendo a coluna de clusters no dataframe principal\n",
        "indicators_application['Cluster UMAP K-Means'] = ''\n",
        "for i in range(0,len(indicators_application)):\n",
        "  cluster = int(kmeans_output['Cluster'].iloc[i])\n",
        "  indicators_application['Cluster UMAP K-Means'].iloc[i] = int(cluster)"
      ]
    },
    {
      "cell_type": "code",
      "execution_count": 46,
      "metadata": {
        "id": "1SU7NR14cTaL",
        "colab": {
          "base_uri": "https://localhost:8080/",
          "height": 206
        },
        "outputId": "ec18241a-9914-4e8f-e76f-53c3e65d77f3"
      },
      "outputs": [
        {
          "output_type": "execute_result",
          "data": {
            "text/plain": [
              "           x    y\n",
              "Cluster          \n",
              "0.0      152  152\n",
              "1.0      140  140\n",
              "2.0      118  118\n",
              "3.0      148  148"
            ],
            "text/html": [
              "\n",
              "  <div id=\"df-f61a734d-e20f-460e-b177-576aa843d2e3\">\n",
              "    <div class=\"colab-df-container\">\n",
              "      <div>\n",
              "<style scoped>\n",
              "    .dataframe tbody tr th:only-of-type {\n",
              "        vertical-align: middle;\n",
              "    }\n",
              "\n",
              "    .dataframe tbody tr th {\n",
              "        vertical-align: top;\n",
              "    }\n",
              "\n",
              "    .dataframe thead th {\n",
              "        text-align: right;\n",
              "    }\n",
              "</style>\n",
              "<table border=\"1\" class=\"dataframe\">\n",
              "  <thead>\n",
              "    <tr style=\"text-align: right;\">\n",
              "      <th></th>\n",
              "      <th>x</th>\n",
              "      <th>y</th>\n",
              "    </tr>\n",
              "    <tr>\n",
              "      <th>Cluster</th>\n",
              "      <th></th>\n",
              "      <th></th>\n",
              "    </tr>\n",
              "  </thead>\n",
              "  <tbody>\n",
              "    <tr>\n",
              "      <th>0.0</th>\n",
              "      <td>152</td>\n",
              "      <td>152</td>\n",
              "    </tr>\n",
              "    <tr>\n",
              "      <th>1.0</th>\n",
              "      <td>140</td>\n",
              "      <td>140</td>\n",
              "    </tr>\n",
              "    <tr>\n",
              "      <th>2.0</th>\n",
              "      <td>118</td>\n",
              "      <td>118</td>\n",
              "    </tr>\n",
              "    <tr>\n",
              "      <th>3.0</th>\n",
              "      <td>148</td>\n",
              "      <td>148</td>\n",
              "    </tr>\n",
              "  </tbody>\n",
              "</table>\n",
              "</div>\n",
              "      <button class=\"colab-df-convert\" onclick=\"convertToInteractive('df-f61a734d-e20f-460e-b177-576aa843d2e3')\"\n",
              "              title=\"Convert this dataframe to an interactive table.\"\n",
              "              style=\"display:none;\">\n",
              "        \n",
              "  <svg xmlns=\"http://www.w3.org/2000/svg\" height=\"24px\"viewBox=\"0 0 24 24\"\n",
              "       width=\"24px\">\n",
              "    <path d=\"M0 0h24v24H0V0z\" fill=\"none\"/>\n",
              "    <path d=\"M18.56 5.44l.94 2.06.94-2.06 2.06-.94-2.06-.94-.94-2.06-.94 2.06-2.06.94zm-11 1L8.5 8.5l.94-2.06 2.06-.94-2.06-.94L8.5 2.5l-.94 2.06-2.06.94zm10 10l.94 2.06.94-2.06 2.06-.94-2.06-.94-.94-2.06-.94 2.06-2.06.94z\"/><path d=\"M17.41 7.96l-1.37-1.37c-.4-.4-.92-.59-1.43-.59-.52 0-1.04.2-1.43.59L10.3 9.45l-7.72 7.72c-.78.78-.78 2.05 0 2.83L4 21.41c.39.39.9.59 1.41.59.51 0 1.02-.2 1.41-.59l7.78-7.78 2.81-2.81c.8-.78.8-2.07 0-2.86zM5.41 20L4 18.59l7.72-7.72 1.47 1.35L5.41 20z\"/>\n",
              "  </svg>\n",
              "      </button>\n",
              "      \n",
              "  <style>\n",
              "    .colab-df-container {\n",
              "      display:flex;\n",
              "      flex-wrap:wrap;\n",
              "      gap: 12px;\n",
              "    }\n",
              "\n",
              "    .colab-df-convert {\n",
              "      background-color: #E8F0FE;\n",
              "      border: none;\n",
              "      border-radius: 50%;\n",
              "      cursor: pointer;\n",
              "      display: none;\n",
              "      fill: #1967D2;\n",
              "      height: 32px;\n",
              "      padding: 0 0 0 0;\n",
              "      width: 32px;\n",
              "    }\n",
              "\n",
              "    .colab-df-convert:hover {\n",
              "      background-color: #E2EBFA;\n",
              "      box-shadow: 0px 1px 2px rgba(60, 64, 67, 0.3), 0px 1px 3px 1px rgba(60, 64, 67, 0.15);\n",
              "      fill: #174EA6;\n",
              "    }\n",
              "\n",
              "    [theme=dark] .colab-df-convert {\n",
              "      background-color: #3B4455;\n",
              "      fill: #D2E3FC;\n",
              "    }\n",
              "\n",
              "    [theme=dark] .colab-df-convert:hover {\n",
              "      background-color: #434B5C;\n",
              "      box-shadow: 0px 1px 3px 1px rgba(0, 0, 0, 0.15);\n",
              "      filter: drop-shadow(0px 1px 2px rgba(0, 0, 0, 0.3));\n",
              "      fill: #FFFFFF;\n",
              "    }\n",
              "  </style>\n",
              "\n",
              "      <script>\n",
              "        const buttonEl =\n",
              "          document.querySelector('#df-f61a734d-e20f-460e-b177-576aa843d2e3 button.colab-df-convert');\n",
              "        buttonEl.style.display =\n",
              "          google.colab.kernel.accessAllowed ? 'block' : 'none';\n",
              "\n",
              "        async function convertToInteractive(key) {\n",
              "          const element = document.querySelector('#df-f61a734d-e20f-460e-b177-576aa843d2e3');\n",
              "          const dataTable =\n",
              "            await google.colab.kernel.invokeFunction('convertToInteractive',\n",
              "                                                     [key], {});\n",
              "          if (!dataTable) return;\n",
              "\n",
              "          const docLinkHtml = 'Like what you see? Visit the ' +\n",
              "            '<a target=\"_blank\" href=https://colab.research.google.com/notebooks/data_table.ipynb>data table notebook</a>'\n",
              "            + ' to learn more about interactive tables.';\n",
              "          element.innerHTML = '';\n",
              "          dataTable['output_type'] = 'display_data';\n",
              "          await google.colab.output.renderOutput(dataTable, element);\n",
              "          const docLink = document.createElement('div');\n",
              "          docLink.innerHTML = docLinkHtml;\n",
              "          element.appendChild(docLink);\n",
              "        }\n",
              "      </script>\n",
              "    </div>\n",
              "  </div>\n",
              "  "
            ]
          },
          "metadata": {},
          "execution_count": 46
        }
      ],
      "source": [
        "kmeans_output.groupby('Cluster',dropna=False).count()"
      ]
    },
    {
      "cell_type": "markdown",
      "metadata": {
        "id": "64dXq-R1LIDW"
      },
      "source": [
        "##UMAP n-neighbors x WCSS K-means"
      ]
    },
    {
      "cell_type": "code",
      "execution_count": null,
      "metadata": {
        "id": "d5Ssz1sZXyC0"
      },
      "outputs": [],
      "source": [
        "def optimal_number_of_clusters(wcss):\n",
        "    x1, y1 = 2, wcss[0]\n",
        "    x2, y2 = 20, wcss[len(wcss)-1]\n",
        "\n",
        "    distances = []\n",
        "    for i in range(len(wcss)):\n",
        "        x0 = i+2\n",
        "        y0 = wcss[i]\n",
        "        numerator = abs((y2-y1)*x0 - (x2-x1)*y0 + x2*y1 - y2*x1)\n",
        "        denominator = sqrt((y2 - y1)**2 + (x2 - x1)**2)\n",
        "        distances.append(numerator/denominator)\n",
        "    \n",
        "    return distances.index(max(distances)) + 2"
      ]
    },
    {
      "cell_type": "code",
      "execution_count": null,
      "metadata": {
        "id": "m8N0XM1LLIe6"
      },
      "outputs": [],
      "source": [
        "#função que plota o gráfico do WCSS pra cada n_neighbors do UMAP e adiciona os resultados numa matriz\n",
        "def umap_kmeans(n_neighbors=15, min_dist=0.1, n_components=2, metric='euclidean', title=''):\n",
        "    fit = umap.UMAP(\n",
        "        n_neighbors=n_neighbors,\n",
        "        min_dist=min_dist,\n",
        "        n_components=n_components,\n",
        "        metric=metric\n",
        "    )\n",
        "    u = fit.fit_transform(data);\n",
        "\n",
        "    #k-means\n",
        "    kmeans_input = pd.DataFrame(u)\n",
        "    kmeans_input.rename(columns={0:'x',1:'y'},inplace=True)\n",
        "\n",
        "    columns = ['x','y']\n",
        "    for column in columns:\n",
        "      kmeans_input[column] = (kmeans_input[column]-min(kmeans_input[column].dropna()))/(max(kmeans_input[column].dropna())-min(kmeans_input[column].dropna()))\n",
        "\n",
        "    X = kmeans_input.iloc[:,[0,1]].values\n",
        "\n",
        "    WCSS = []\n",
        "    for i in range (1,11):\n",
        "      kmeans = KMeans(n_clusters=i,random_state=0)\n",
        "      kmeans.fit(X)\n",
        "      WCSS.append(kmeans.inertia_)\n",
        "\n",
        "    rel_umap_kmeans[0].append(n_neighbors)\n",
        "    rel_umap_kmeans[1].append(optimal_number_of_clusters(WCSS))\n",
        "\n",
        "    plt.plot(range(1,11),WCSS)\n",
        "    plt.xlabel('Numero de clusters')\n",
        "    plt.ylabel('wcss')"
      ]
    },
    {
      "cell_type": "code",
      "execution_count": null,
      "metadata": {
        "id": "-avEHRB4L6bP"
      },
      "outputs": [],
      "source": [
        "rel_umap_kmeans = [[],[]]\n",
        "\n",
        "for n in range(2,200+1):\n",
        "    umap_kmeans(n_neighbors=n, title='n_neighbors = {}'.format(n))"
      ]
    },
    {
      "cell_type": "code",
      "execution_count": null,
      "metadata": {
        "id": "Y8LrOJEudsgg"
      },
      "outputs": [],
      "source": [
        "test = pd.DataFrame(rel_umap_kmeans).T\n",
        "test.rename(columns={0:'n_neighbors',1:'n_clusters'},inplace=True)"
      ]
    },
    {
      "cell_type": "code",
      "execution_count": null,
      "metadata": {
        "id": "caUuYKiBf0OS"
      },
      "outputs": [],
      "source": [
        "test"
      ]
    },
    {
      "cell_type": "code",
      "execution_count": null,
      "metadata": {
        "id": "j4dGcYgSiW69"
      },
      "outputs": [],
      "source": [
        "plt.plot(test['n_neighbors'],test['n_clusters'])\n",
        "plt.xlabel('n_neighbors')\n",
        "plt.ylabel('n_clusters')"
      ]
    },
    {
      "cell_type": "markdown",
      "metadata": {
        "id": "UBL4BRVXfb3z"
      },
      "source": [
        "##K-Means application for the same features used in UMAP"
      ]
    },
    {
      "cell_type": "code",
      "execution_count": 120,
      "metadata": {
        "id": "RpEiUPkZfrH5",
        "colab": {
          "base_uri": "https://localhost:8080/"
        },
        "outputId": "a031067d-2ef3-4edc-c2bf-d67a28a3497e"
      },
      "outputs": [
        {
          "output_type": "execute_result",
          "data": {
            "text/plain": [
              "(558, 22)"
            ]
          },
          "metadata": {},
          "execution_count": 120
        }
      ],
      "source": [
        "indicators_data.shape"
      ]
    },
    {
      "cell_type": "code",
      "execution_count": 121,
      "metadata": {
        "id": "B2H3NDvgfb32"
      },
      "outputs": [],
      "source": [
        "X = indicators_data#.iloc[:,[0,13]].values"
      ]
    },
    {
      "cell_type": "code",
      "execution_count": 121,
      "metadata": {
        "id": "4P7aSqbofb33"
      },
      "outputs": [],
      "source": [
        ""
      ]
    },
    {
      "cell_type": "code",
      "execution_count": 122,
      "metadata": {
        "id": "OZ8NEhHMfb34",
        "colab": {
          "base_uri": "https://localhost:8080/"
        },
        "outputId": "938df58c-fd01-41c6-cd8a-6399bed5a717"
      },
      "outputs": [
        {
          "output_type": "execute_result",
          "data": {
            "text/plain": [
              "array([[0.03508696, 0.0261498 , 0.31055066, ..., 0.92034401, 0.03017488,\n",
              "        0.23265066],\n",
              "       [0.02747293, 0.01704988, 0.31056628, ..., 0.93436946, 0.03001037,\n",
              "        0.44699197],\n",
              "       [0.04548618, 0.03384371, 0.31050485, ..., 0.90446809, 0.03004699,\n",
              "        0.42051843],\n",
              "       ...,\n",
              "       [0.00581624, 0.00468101, 0.3108304 , ..., 0.86696021, 0.03031055,\n",
              "        0.26407315],\n",
              "       [0.00581624, 0.00468101, 0.31048329, ..., 0.94915306, 0.03132125,\n",
              "        0.30264605],\n",
              "       [0.05695579, 0.0414443 , 0.31066471, ..., 0.93945997, 0.03082725,\n",
              "        0.33066802]])"
            ]
          },
          "metadata": {},
          "execution_count": 122
        }
      ],
      "source": [
        "X"
      ]
    },
    {
      "cell_type": "code",
      "execution_count": 123,
      "metadata": {
        "id": "e_W3-YIofb35"
      },
      "outputs": [],
      "source": [
        "WCSS = []"
      ]
    },
    {
      "cell_type": "code",
      "execution_count": 124,
      "metadata": {
        "id": "bYLylw4Cfb36"
      },
      "outputs": [],
      "source": [
        "for i in range (1,11):\n",
        "  kmeans = KMeans(n_clusters=i,random_state=0)\n",
        "  kmeans.fit(X)\n",
        "  WCSS.append(kmeans.inertia_)"
      ]
    },
    {
      "cell_type": "code",
      "execution_count": 125,
      "metadata": {
        "id": "L5ZXJnFXfb36",
        "colab": {
          "base_uri": "https://localhost:8080/",
          "height": 0
        },
        "outputId": "eb3e1478-bf7b-4df5-8fef-0c2ba73f45c5"
      },
      "outputs": [
        {
          "output_type": "execute_result",
          "data": {
            "text/plain": [
              "Text(0, 0.5, 'wcss')"
            ]
          },
          "metadata": {},
          "execution_count": 125
        },
        {
          "output_type": "display_data",
          "data": {
            "text/plain": [
              "<Figure size 1080x720 with 1 Axes>"
            ],
            "image/png": "[encoded data removed]"
          },
          "metadata": {
            "needs_background": "light"
          }
        }
      ],
      "source": [
        "plt.plot(range(1,11),WCSS)\n",
        "plt.xlabel('Numero de clusters')\n",
        "plt.ylabel('wcss')"
      ]
    },
    {
      "cell_type": "code",
      "execution_count": 126,
      "metadata": {
        "id": "emctBtZwfb37"
      },
      "outputs": [],
      "source": [
        "kmeans = KMeans(n_clusters=4, random_state=0)\n",
        "previsoes = kmeans.fit_predict(X)"
      ]
    },
    {
      "cell_type": "code",
      "execution_count": 127,
      "metadata": {
        "id": "ScUSjKPhfb39"
      },
      "outputs": [],
      "source": [
        "kmeans_output = pd.DataFrame(np.column_stack((kmeans_input, previsoes)))"
      ]
    },
    {
      "cell_type": "code",
      "execution_count": 128,
      "metadata": {
        "id": "LzNtirhrfb3-"
      },
      "outputs": [],
      "source": [
        "kmeans_output = kmeans_output.rename(columns={0:'x',1:'y',2:'Cluster'})"
      ]
    },
    {
      "cell_type": "code",
      "execution_count": 129,
      "metadata": {
        "id": "GPKS_TYKfb3_",
        "colab": {
          "base_uri": "https://localhost:8080/"
        },
        "outputId": "b91bd0b6-c27f-4796-9114-76104955444d"
      },
      "outputs": [
        {
          "output_type": "stream",
          "name": "stderr",
          "text": [
            "/usr/local/lib/python3.7/dist-packages/pandas/core/indexing.py:1732: SettingWithCopyWarning: \n",
            "A value is trying to be set on a copy of a slice from a DataFrame\n",
            "\n",
            "See the caveats in the documentation: https://pandas.pydata.org/pandas-docs/stable/user_guide/indexing.html#returning-a-view-versus-a-copy\n",
            "  self._setitem_single_block(indexer, value, name)\n"
          ]
        }
      ],
      "source": [
        "indicators_application['Cluster k-means'] = ''\n",
        "for i in range(0,len(indicators_application)):\n",
        "  cluster = int(kmeans_output['Cluster'].iloc[i])\n",
        "  indicators_application['Cluster k-means'].iloc[i] = int(cluster)"
      ]
    },
    {
      "cell_type": "code",
      "execution_count": 130,
      "metadata": {
        "id": "F-z5nj4hfb4A",
        "colab": {
          "base_uri": "https://localhost:8080/",
          "height": 0
        },
        "outputId": "bdbbaaa3-e818-4d57-dfe0-7a868004dd23"
      },
      "outputs": [
        {
          "output_type": "execute_result",
          "data": {
            "text/plain": [
              "           x    y\n",
              "Cluster          \n",
              "0.0      332  332\n",
              "1.0       19   19\n",
              "2.0        6    6\n",
              "3.0      201  201"
            ],
            "text/html": [
              "\n",
              "  <div id=\"df-cf0337ef-f524-4f21-a63f-c961612f89c4\">\n",
              "    <div class=\"colab-df-container\">\n",
              "      <div>\n",
              "<style scoped>\n",
              "    .dataframe tbody tr th:only-of-type {\n",
              "        vertical-align: middle;\n",
              "    }\n",
              "\n",
              "    .dataframe tbody tr th {\n",
              "        vertical-align: top;\n",
              "    }\n",
              "\n",
              "    .dataframe thead th {\n",
              "        text-align: right;\n",
              "    }\n",
              "</style>\n",
              "<table border=\"1\" class=\"dataframe\">\n",
              "  <thead>\n",
              "    <tr style=\"text-align: right;\">\n",
              "      <th></th>\n",
              "      <th>x</th>\n",
              "      <th>y</th>\n",
              "    </tr>\n",
              "    <tr>\n",
              "      <th>Cluster</th>\n",
              "      <th></th>\n",
              "      <th></th>\n",
              "    </tr>\n",
              "  </thead>\n",
              "  <tbody>\n",
              "    <tr>\n",
              "      <th>0.0</th>\n",
              "      <td>332</td>\n",
              "      <td>332</td>\n",
              "    </tr>\n",
              "    <tr>\n",
              "      <th>1.0</th>\n",
              "      <td>19</td>\n",
              "      <td>19</td>\n",
              "    </tr>\n",
              "    <tr>\n",
              "      <th>2.0</th>\n",
              "      <td>6</td>\n",
              "      <td>6</td>\n",
              "    </tr>\n",
              "    <tr>\n",
              "      <th>3.0</th>\n",
              "      <td>201</td>\n",
              "      <td>201</td>\n",
              "    </tr>\n",
              "  </tbody>\n",
              "</table>\n",
              "</div>\n",
              "      <button class=\"colab-df-convert\" onclick=\"convertToInteractive('df-cf0337ef-f524-4f21-a63f-c961612f89c4')\"\n",
              "              title=\"Convert this dataframe to an interactive table.\"\n",
              "              style=\"display:none;\">\n",
              "        \n",
              "  <svg xmlns=\"http://www.w3.org/2000/svg\" height=\"24px\"viewBox=\"0 0 24 24\"\n",
              "       width=\"24px\">\n",
              "    <path d=\"M0 0h24v24H0V0z\" fill=\"none\"/>\n",
              "    <path d=\"M18.56 5.44l.94 2.06.94-2.06 2.06-.94-2.06-.94-.94-2.06-.94 2.06-2.06.94zm-11 1L8.5 8.5l.94-2.06 2.06-.94-2.06-.94L8.5 2.5l-.94 2.06-2.06.94zm10 10l.94 2.06.94-2.06 2.06-.94-2.06-.94-.94-2.06-.94 2.06-2.06.94z\"/><path d=\"M17.41 7.96l-1.37-1.37c-.4-.4-.92-.59-1.43-.59-.52 0-1.04.2-1.43.59L10.3 9.45l-7.72 7.72c-.78.78-.78 2.05 0 2.83L4 21.41c.39.39.9.59 1.41.59.51 0 1.02-.2 1.41-.59l7.78-7.78 2.81-2.81c.8-.78.8-2.07 0-2.86zM5.41 20L4 18.59l7.72-7.72 1.47 1.35L5.41 20z\"/>\n",
              "  </svg>\n",
              "      </button>\n",
              "      \n",
              "  <style>\n",
              "    .colab-df-container {\n",
              "      display:flex;\n",
              "      flex-wrap:wrap;\n",
              "      gap: 12px;\n",
              "    }\n",
              "\n",
              "    .colab-df-convert {\n",
              "      background-color: #E8F0FE;\n",
              "      border: none;\n",
              "      border-radius: 50%;\n",
              "      cursor: pointer;\n",
              "      display: none;\n",
              "      fill: #1967D2;\n",
              "      height: 32px;\n",
              "      padding: 0 0 0 0;\n",
              "      width: 32px;\n",
              "    }\n",
              "\n",
              "    .colab-df-convert:hover {\n",
              "      background-color: #E2EBFA;\n",
              "      box-shadow: 0px 1px 2px rgba(60, 64, 67, 0.3), 0px 1px 3px 1px rgba(60, 64, 67, 0.15);\n",
              "      fill: #174EA6;\n",
              "    }\n",
              "\n",
              "    [theme=dark] .colab-df-convert {\n",
              "      background-color: #3B4455;\n",
              "      fill: #D2E3FC;\n",
              "    }\n",
              "\n",
              "    [theme=dark] .colab-df-convert:hover {\n",
              "      background-color: #434B5C;\n",
              "      box-shadow: 0px 1px 3px 1px rgba(0, 0, 0, 0.15);\n",
              "      filter: drop-shadow(0px 1px 2px rgba(0, 0, 0, 0.3));\n",
              "      fill: #FFFFFF;\n",
              "    }\n",
              "  </style>\n",
              "\n",
              "      <script>\n",
              "        const buttonEl =\n",
              "          document.querySelector('#df-cf0337ef-f524-4f21-a63f-c961612f89c4 button.colab-df-convert');\n",
              "        buttonEl.style.display =\n",
              "          google.colab.kernel.accessAllowed ? 'block' : 'none';\n",
              "\n",
              "        async function convertToInteractive(key) {\n",
              "          const element = document.querySelector('#df-cf0337ef-f524-4f21-a63f-c961612f89c4');\n",
              "          const dataTable =\n",
              "            await google.colab.kernel.invokeFunction('convertToInteractive',\n",
              "                                                     [key], {});\n",
              "          if (!dataTable) return;\n",
              "\n",
              "          const docLinkHtml = 'Like what you see? Visit the ' +\n",
              "            '<a target=\"_blank\" href=https://colab.research.google.com/notebooks/data_table.ipynb>data table notebook</a>'\n",
              "            + ' to learn more about interactive tables.';\n",
              "          element.innerHTML = '';\n",
              "          dataTable['output_type'] = 'display_data';\n",
              "          await google.colab.output.renderOutput(dataTable, element);\n",
              "          const docLink = document.createElement('div');\n",
              "          docLink.innerHTML = docLinkHtml;\n",
              "          element.appendChild(docLink);\n",
              "        }\n",
              "      </script>\n",
              "    </div>\n",
              "  </div>\n",
              "  "
            ]
          },
          "metadata": {},
          "execution_count": 130
        }
      ],
      "source": [
        "kmeans_output.groupby('Cluster',dropna=False).count()"
      ]
    },
    {
      "cell_type": "code",
      "source": [
        "indicators_application.columns"
      ],
      "metadata": {
        "id": "93CVvnDUceR7",
        "colab": {
          "base_uri": "https://localhost:8080/"
        },
        "outputId": "5069a8bd-6026-43eb-e97c-f90d6580fbb3"
      },
      "execution_count": 131,
      "outputs": [
        {
          "output_type": "execute_result",
          "data": {
            "text/plain": [
              "Index([' LiqCor  consolid:sim*', ' LiqSec  consolid:sim*',\n",
              "       ' Exig / PL  consolid:sim*', ' DivBr/Ebitda  de 3 meses  consolid:sim*',\n",
              "       ' Margem Liquida  de 3 meses  consolid:sim*', 'ROA de 3 meses',\n",
              "       'ROE de 3 meses', 'P/L de 3 meses ajust pela infl',\n",
              "       'Valor Mercado da empresa Em US Dollars em milhares',\n",
              "       ' Patrim Liq  Em US Dollars  em milhares  consolid:sim*',\n",
              "       'Price/Book ratio', 'EV Em US Dollars em milhares consolid:sim*',\n",
              "       'EV/EBITDA emp Em US Dollars de 3 meses consolid:sim*',\n",
              "       'P/FCF Em US Dollars de 3 meses consolid:sim*',\n",
              "       'Media do fechamento em 1 trimestre Em US Dollars ajust p/ prov',\n",
              "       'Beta', 'TIR média trimestral em 3 meses Em moeda orig',\n",
              "       'Bollinger 90/2 Média Em moeda orig',\n",
              "       'Volatilidade base trimestral 3 meses Em moeda orig', 'Sharpe',\n",
              "       'VAR % base diária confiança: 95% 3 meses Em moeda orig',\n",
              "       'Max Drd (c/rec) ajust p/ prov 3 meses Em moeda orig',\n",
              "       ' Data do Bal  consolid:sim*', 'Código', 'Setor NAICS', 'Indice',\n",
              "       'Sharpe Ratio', 'Código ajustado', 'Cluster UMAP K-Means',\n",
              "       'Cluster PAM', 'Cluster Hierarchical', 'Cluster k-means'],\n",
              "      dtype='object')"
            ]
          },
          "metadata": {},
          "execution_count": 131
        }
      ]
    },
    {
      "cell_type": "markdown",
      "metadata": {
        "id": "dn3dS4ZtakKa"
      },
      "source": [
        "##PAM"
      ]
    },
    {
      "cell_type": "code",
      "execution_count": 47,
      "metadata": {
        "id": "idnq-dwm4rgM",
        "colab": {
          "base_uri": "https://localhost:8080/"
        },
        "outputId": "ae543948-99e4-472b-b0e4-654a188530f9"
      },
      "outputs": [
        {
          "output_type": "stream",
          "name": "stdout",
          "text": [
            "Collecting scikit-learn-extra\n",
            "  Downloading scikit_learn_extra-0.2.0-cp37-cp37m-manylinux2010_x86_64.whl (1.7 MB)\n",
            "\u001b[?25l\r\u001b[K     |▏                               | 10 kB 23.3 MB/s eta 0:00:01\r\u001b[K     |▍                               | 20 kB 27.8 MB/s eta 0:00:01\r\u001b[K     |▋                               | 30 kB 31.6 MB/s eta 0:00:01\r\u001b[K     |▊                               | 40 kB 17.7 MB/s eta 0:00:01\r\u001b[K     |█                               | 51 kB 14.6 MB/s eta 0:00:01\r\u001b[K     |█▏                              | 61 kB 16.8 MB/s eta 0:00:01\r\u001b[K     |█▍                              | 71 kB 16.4 MB/s eta 0:00:01\r\u001b[K     |█▌                              | 81 kB 17.5 MB/s eta 0:00:01\r\u001b[K     |█▊                              | 92 kB 18.7 MB/s eta 0:00:01\r\u001b[K     |██                              | 102 kB 17.7 MB/s eta 0:00:01\r\u001b[K     |██                              | 112 kB 17.7 MB/s eta 0:00:01\r\u001b[K     |██▎                             | 122 kB 17.7 MB/s eta 0:00:01\r\u001b[K     |██▌                             | 133 kB 17.7 MB/s eta 0:00:01\r\u001b[K     |██▊                             | 143 kB 17.7 MB/s eta 0:00:01\r\u001b[K     |██▉                             | 153 kB 17.7 MB/s eta 0:00:01\r\u001b[K     |███                             | 163 kB 17.7 MB/s eta 0:00:01\r\u001b[K     |███▎                            | 174 kB 17.7 MB/s eta 0:00:01\r\u001b[K     |███▌                            | 184 kB 17.7 MB/s eta 0:00:01\r\u001b[K     |███▋                            | 194 kB 17.7 MB/s eta 0:00:01\r\u001b[K     |███▉                            | 204 kB 17.7 MB/s eta 0:00:01\r\u001b[K     |████                            | 215 kB 17.7 MB/s eta 0:00:01\r\u001b[K     |████▏                           | 225 kB 17.7 MB/s eta 0:00:01\r\u001b[K     |████▍                           | 235 kB 17.7 MB/s eta 0:00:01\r\u001b[K     |████▋                           | 245 kB 17.7 MB/s eta 0:00:01\r\u001b[K     |████▉                           | 256 kB 17.7 MB/s eta 0:00:01\r\u001b[K     |█████                           | 266 kB 17.7 MB/s eta 0:00:01\r\u001b[K     |█████▏                          | 276 kB 17.7 MB/s eta 0:00:01\r\u001b[K     |█████▍                          | 286 kB 17.7 MB/s eta 0:00:01\r\u001b[K     |█████▋                          | 296 kB 17.7 MB/s eta 0:00:01\r\u001b[K     |█████▊                          | 307 kB 17.7 MB/s eta 0:00:01\r\u001b[K     |██████                          | 317 kB 17.7 MB/s eta 0:00:01\r\u001b[K     |██████▏                         | 327 kB 17.7 MB/s eta 0:00:01\r\u001b[K     |██████▎                         | 337 kB 17.7 MB/s eta 0:00:01\r\u001b[K     |██████▌                         | 348 kB 17.7 MB/s eta 0:00:01\r\u001b[K     |██████▊                         | 358 kB 17.7 MB/s eta 0:00:01\r\u001b[K     |███████                         | 368 kB 17.7 MB/s eta 0:00:01\r\u001b[K     |███████                         | 378 kB 17.7 MB/s eta 0:00:01\r\u001b[K     |███████▎                        | 389 kB 17.7 MB/s eta 0:00:01\r\u001b[K     |███████▌                        | 399 kB 17.7 MB/s eta 0:00:01\r\u001b[K     |███████▋                        | 409 kB 17.7 MB/s eta 0:00:01\r\u001b[K     |███████▉                        | 419 kB 17.7 MB/s eta 0:00:01\r\u001b[K     |████████                        | 430 kB 17.7 MB/s eta 0:00:01\r\u001b[K     |████████▎                       | 440 kB 17.7 MB/s eta 0:00:01\r\u001b[K     |████████▍                       | 450 kB 17.7 MB/s eta 0:00:01\r\u001b[K     |████████▋                       | 460 kB 17.7 MB/s eta 0:00:01\r\u001b[K     |████████▉                       | 471 kB 17.7 MB/s eta 0:00:01\r\u001b[K     |█████████                       | 481 kB 17.7 MB/s eta 0:00:01\r\u001b[K     |█████████▏                      | 491 kB 17.7 MB/s eta 0:00:01\r\u001b[K     |█████████▍                      | 501 kB 17.7 MB/s eta 0:00:01\r\u001b[K     |█████████▋                      | 512 kB 17.7 MB/s eta 0:00:01\r\u001b[K     |█████████▊                      | 522 kB 17.7 MB/s eta 0:00:01\r\u001b[K     |██████████                      | 532 kB 17.7 MB/s eta 0:00:01\r\u001b[K     |██████████▏                     | 542 kB 17.7 MB/s eta 0:00:01\r\u001b[K     |██████████▍                     | 552 kB 17.7 MB/s eta 0:00:01\r\u001b[K     |██████████▌                     | 563 kB 17.7 MB/s eta 0:00:01\r\u001b[K     |██████████▊                     | 573 kB 17.7 MB/s eta 0:00:01\r\u001b[K     |███████████                     | 583 kB 17.7 MB/s eta 0:00:01\r\u001b[K     |███████████▏                    | 593 kB 17.7 MB/s eta 0:00:01\r\u001b[K     |███████████▎                    | 604 kB 17.7 MB/s eta 0:00:01\r\u001b[K     |███████████▌                    | 614 kB 17.7 MB/s eta 0:00:01\r\u001b[K     |███████████▊                    | 624 kB 17.7 MB/s eta 0:00:01\r\u001b[K     |███████████▉                    | 634 kB 17.7 MB/s eta 0:00:01\r\u001b[K     |████████████                    | 645 kB 17.7 MB/s eta 0:00:01\r\u001b[K     |████████████▎                   | 655 kB 17.7 MB/s eta 0:00:01\r\u001b[K     |████████████▌                   | 665 kB 17.7 MB/s eta 0:00:01\r\u001b[K     |████████████▋                   | 675 kB 17.7 MB/s eta 0:00:01\r\u001b[K     |████████████▉                   | 686 kB 17.7 MB/s eta 0:00:01\r\u001b[K     |█████████████                   | 696 kB 17.7 MB/s eta 0:00:01\r\u001b[K     |█████████████▏                  | 706 kB 17.7 MB/s eta 0:00:01\r\u001b[K     |█████████████▍                  | 716 kB 17.7 MB/s eta 0:00:01\r\u001b[K     |█████████████▋                  | 727 kB 17.7 MB/s eta 0:00:01\r\u001b[K     |█████████████▉                  | 737 kB 17.7 MB/s eta 0:00:01\r\u001b[K     |██████████████                  | 747 kB 17.7 MB/s eta 0:00:01\r\u001b[K     |██████████████▏                 | 757 kB 17.7 MB/s eta 0:00:01\r\u001b[K     |██████████████▍                 | 768 kB 17.7 MB/s eta 0:00:01\r\u001b[K     |██████████████▋                 | 778 kB 17.7 MB/s eta 0:00:01\r\u001b[K     |██████████████▊                 | 788 kB 17.7 MB/s eta 0:00:01\r\u001b[K     |███████████████                 | 798 kB 17.7 MB/s eta 0:00:01\r\u001b[K     |███████████████▏                | 808 kB 17.7 MB/s eta 0:00:01\r\u001b[K     |███████████████▎                | 819 kB 17.7 MB/s eta 0:00:01\r\u001b[K     |███████████████▌                | 829 kB 17.7 MB/s eta 0:00:01\r\u001b[K     |███████████████▊                | 839 kB 17.7 MB/s eta 0:00:01\r\u001b[K     |████████████████                | 849 kB 17.7 MB/s eta 0:00:01\r\u001b[K     |████████████████                | 860 kB 17.7 MB/s eta 0:00:01\r\u001b[K     |████████████████▎               | 870 kB 17.7 MB/s eta 0:00:01\r\u001b[K     |████████████████▌               | 880 kB 17.7 MB/s eta 0:00:01\r\u001b[K     |████████████████▊               | 890 kB 17.7 MB/s eta 0:00:01\r\u001b[K     |████████████████▉               | 901 kB 17.7 MB/s eta 0:00:01\r\u001b[K     |█████████████████               | 911 kB 17.7 MB/s eta 0:00:01\r\u001b[K     |█████████████████▎              | 921 kB 17.7 MB/s eta 0:00:01\r\u001b[K     |█████████████████▍              | 931 kB 17.7 MB/s eta 0:00:01\r\u001b[K     |█████████████████▋              | 942 kB 17.7 MB/s eta 0:00:01\r\u001b[K     |█████████████████▉              | 952 kB 17.7 MB/s eta 0:00:01\r\u001b[K     |██████████████████              | 962 kB 17.7 MB/s eta 0:00:01\r\u001b[K     |██████████████████▏             | 972 kB 17.7 MB/s eta 0:00:01\r\u001b[K     |██████████████████▍             | 983 kB 17.7 MB/s eta 0:00:01\r\u001b[K     |██████████████████▋             | 993 kB 17.7 MB/s eta 0:00:01\r\u001b[K     |██████████████████▊             | 1.0 MB 17.7 MB/s eta 0:00:01\r\u001b[K     |███████████████████             | 1.0 MB 17.7 MB/s eta 0:00:01\r\u001b[K     |███████████████████▏            | 1.0 MB 17.7 MB/s eta 0:00:01\r\u001b[K     |███████████████████▍            | 1.0 MB 17.7 MB/s eta 0:00:01\r\u001b[K     |███████████████████▌            | 1.0 MB 17.7 MB/s eta 0:00:01\r\u001b[K     |███████████████████▊            | 1.1 MB 17.7 MB/s eta 0:00:01\r\u001b[K     |████████████████████            | 1.1 MB 17.7 MB/s eta 0:00:01\r\u001b[K     |████████████████████▏           | 1.1 MB 17.7 MB/s eta 0:00:01\r\u001b[K     |████████████████████▎           | 1.1 MB 17.7 MB/s eta 0:00:01\r\u001b[K     |████████████████████▌           | 1.1 MB 17.7 MB/s eta 0:00:01\r\u001b[K     |████████████████████▊           | 1.1 MB 17.7 MB/s eta 0:00:01\r\u001b[K     |████████████████████▉           | 1.1 MB 17.7 MB/s eta 0:00:01\r\u001b[K     |█████████████████████           | 1.1 MB 17.7 MB/s eta 0:00:01\r\u001b[K     |█████████████████████▎          | 1.1 MB 17.7 MB/s eta 0:00:01\r\u001b[K     |█████████████████████▌          | 1.1 MB 17.7 MB/s eta 0:00:01\r\u001b[K     |█████████████████████▋          | 1.2 MB 17.7 MB/s eta 0:00:01\r\u001b[K     |█████████████████████▉          | 1.2 MB 17.7 MB/s eta 0:00:01\r\u001b[K     |██████████████████████          | 1.2 MB 17.7 MB/s eta 0:00:01\r\u001b[K     |██████████████████████▎         | 1.2 MB 17.7 MB/s eta 0:00:01\r\u001b[K     |██████████████████████▍         | 1.2 MB 17.7 MB/s eta 0:00:01\r\u001b[K     |██████████████████████▋         | 1.2 MB 17.7 MB/s eta 0:00:01\r\u001b[K     |██████████████████████▉         | 1.2 MB 17.7 MB/s eta 0:00:01\r\u001b[K     |███████████████████████         | 1.2 MB 17.7 MB/s eta 0:00:01\r\u001b[K     |███████████████████████▏        | 1.2 MB 17.7 MB/s eta 0:00:01\r\u001b[K     |███████████████████████▍        | 1.2 MB 17.7 MB/s eta 0:00:01\r\u001b[K     |███████████████████████▋        | 1.3 MB 17.7 MB/s eta 0:00:01\r\u001b[K     |███████████████████████▊        | 1.3 MB 17.7 MB/s eta 0:00:01\r\u001b[K     |████████████████████████        | 1.3 MB 17.7 MB/s eta 0:00:01\r\u001b[K     |████████████████████████▏       | 1.3 MB 17.7 MB/s eta 0:00:01\r\u001b[K     |████████████████████████▎       | 1.3 MB 17.7 MB/s eta 0:00:01\r\u001b[K     |████████████████████████▌       | 1.3 MB 17.7 MB/s eta 0:00:01\r\u001b[K     |████████████████████████▊       | 1.3 MB 17.7 MB/s eta 0:00:01\r\u001b[K     |█████████████████████████       | 1.3 MB 17.7 MB/s eta 0:00:01\r\u001b[K     |█████████████████████████       | 1.3 MB 17.7 MB/s eta 0:00:01\r\u001b[K     |█████████████████████████▎      | 1.4 MB 17.7 MB/s eta 0:00:01\r\u001b[K     |█████████████████████████▌      | 1.4 MB 17.7 MB/s eta 0:00:01\r\u001b[K     |█████████████████████████▊      | 1.4 MB 17.7 MB/s eta 0:00:01\r\u001b[K     |█████████████████████████▉      | 1.4 MB 17.7 MB/s eta 0:00:01\r\u001b[K     |██████████████████████████      | 1.4 MB 17.7 MB/s eta 0:00:01\r\u001b[K     |██████████████████████████▎     | 1.4 MB 17.7 MB/s eta 0:00:01\r\u001b[K     |██████████████████████████▍     | 1.4 MB 17.7 MB/s eta 0:00:01\r\u001b[K     |██████████████████████████▋     | 1.4 MB 17.7 MB/s eta 0:00:01\r\u001b[K     |██████████████████████████▉     | 1.4 MB 17.7 MB/s eta 0:00:01\r\u001b[K     |███████████████████████████     | 1.4 MB 17.7 MB/s eta 0:00:01\r\u001b[K     |███████████████████████████▏    | 1.5 MB 17.7 MB/s eta 0:00:01\r\u001b[K     |███████████████████████████▍    | 1.5 MB 17.7 MB/s eta 0:00:01\r\u001b[K     |███████████████████████████▋    | 1.5 MB 17.7 MB/s eta 0:00:01\r\u001b[K     |███████████████████████████▉    | 1.5 MB 17.7 MB/s eta 0:00:01\r\u001b[K     |████████████████████████████    | 1.5 MB 17.7 MB/s eta 0:00:01\r\u001b[K     |████████████████████████████▏   | 1.5 MB 17.7 MB/s eta 0:00:01\r\u001b[K     |████████████████████████████▍   | 1.5 MB 17.7 MB/s eta 0:00:01\r\u001b[K     |████████████████████████████▌   | 1.5 MB 17.7 MB/s eta 0:00:01\r\u001b[K     |████████████████████████████▊   | 1.5 MB 17.7 MB/s eta 0:00:01\r\u001b[K     |█████████████████████████████   | 1.5 MB 17.7 MB/s eta 0:00:01\r\u001b[K     |█████████████████████████████▏  | 1.6 MB 17.7 MB/s eta 0:00:01\r\u001b[K     |█████████████████████████████▎  | 1.6 MB 17.7 MB/s eta 0:00:01\r\u001b[K     |█████████████████████████████▌  | 1.6 MB 17.7 MB/s eta 0:00:01\r\u001b[K     |█████████████████████████████▊  | 1.6 MB 17.7 MB/s eta 0:00:01\r\u001b[K     |█████████████████████████████▉  | 1.6 MB 17.7 MB/s eta 0:00:01\r\u001b[K     |██████████████████████████████  | 1.6 MB 17.7 MB/s eta 0:00:01\r\u001b[K     |██████████████████████████████▎ | 1.6 MB 17.7 MB/s eta 0:00:01\r\u001b[K     |██████████████████████████████▌ | 1.6 MB 17.7 MB/s eta 0:00:01\r\u001b[K     |██████████████████████████████▋ | 1.6 MB 17.7 MB/s eta 0:00:01\r\u001b[K     |██████████████████████████████▉ | 1.6 MB 17.7 MB/s eta 0:00:01\r\u001b[K     |███████████████████████████████ | 1.7 MB 17.7 MB/s eta 0:00:01\r\u001b[K     |███████████████████████████████▎| 1.7 MB 17.7 MB/s eta 0:00:01\r\u001b[K     |███████████████████████████████▍| 1.7 MB 17.7 MB/s eta 0:00:01\r\u001b[K     |███████████████████████████████▋| 1.7 MB 17.7 MB/s eta 0:00:01\r\u001b[K     |███████████████████████████████▉| 1.7 MB 17.7 MB/s eta 0:00:01\r\u001b[K     |████████████████████████████████| 1.7 MB 17.7 MB/s eta 0:00:01\r\u001b[K     |████████████████████████████████| 1.7 MB 17.7 MB/s \n",
            "\u001b[?25hRequirement already satisfied: scikit-learn>=0.23.0 in /usr/local/lib/python3.7/dist-packages (from scikit-learn-extra) (1.0.2)\n",
            "Requirement already satisfied: scipy>=0.19.1 in /usr/local/lib/python3.7/dist-packages (from scikit-learn-extra) (1.4.1)\n",
            "Requirement already satisfied: numpy>=1.13.3 in /usr/local/lib/python3.7/dist-packages (from scikit-learn-extra) (1.21.5)\n",
            "Requirement already satisfied: threadpoolctl>=2.0.0 in /usr/local/lib/python3.7/dist-packages (from scikit-learn>=0.23.0->scikit-learn-extra) (3.1.0)\n",
            "Requirement already satisfied: joblib>=0.11 in /usr/local/lib/python3.7/dist-packages (from scikit-learn>=0.23.0->scikit-learn-extra) (1.1.0)\n",
            "Installing collected packages: scikit-learn-extra\n",
            "Successfully installed scikit-learn-extra-0.2.0\n"
          ]
        }
      ],
      "source": [
        "!pip install scikit-learn-extra"
      ]
    },
    {
      "cell_type": "code",
      "execution_count": 48,
      "metadata": {
        "id": "cbus5D4n5xxV"
      },
      "outputs": [],
      "source": [
        "# — — — — — — -Importing Packages — — — — — — — — — — — -\n",
        "from sklearn_extra.cluster import KMedoids"
      ]
    },
    {
      "cell_type": "code",
      "source": [
        "X = kmeans_input.iloc[:,[0,1]].values"
      ],
      "metadata": {
        "id": "7VZq70Jfktt7"
      },
      "execution_count": 49,
      "outputs": []
    },
    {
      "cell_type": "code",
      "execution_count": 50,
      "metadata": {
        "id": "7cm3t3Ss7Cok"
      },
      "outputs": [],
      "source": [
        "kmedoids = KMedoids(n_clusters=4, random_state=0).fit(X)"
      ]
    },
    {
      "cell_type": "code",
      "execution_count": 51,
      "metadata": {
        "id": "wVb-t05d7y8y"
      },
      "outputs": [],
      "source": [
        "import random"
      ]
    },
    {
      "cell_type": "code",
      "source": [
        "kmeans_input"
      ],
      "metadata": {
        "id": "UHZza80okvFV",
        "colab": {
          "base_uri": "https://localhost:8080/",
          "height": 424
        },
        "outputId": "e8c02578-6fcc-4214-ca76-6c13ef7bbef9"
      },
      "execution_count": 52,
      "outputs": [
        {
          "output_type": "execute_result",
          "data": {
            "text/plain": [
              "            x         y\n",
              "0    0.823101  0.893530\n",
              "1    0.542764  0.119875\n",
              "2    0.599959  0.250778\n",
              "3    0.368077  0.384298\n",
              "4    0.724193  0.185742\n",
              "..        ...       ...\n",
              "553  0.865016  0.546076\n",
              "554  0.751867  0.066472\n",
              "555  0.629967  0.904080\n",
              "556  0.702695  0.756679\n",
              "557  0.688670  0.659720\n",
              "\n",
              "[558 rows x 2 columns]"
            ],
            "text/html": [
              "\n",
              "  <div id=\"df-e2225d63-0211-4edb-9402-cd5c384db533\">\n",
              "    <div class=\"colab-df-container\">\n",
              "      <div>\n",
              "<style scoped>\n",
              "    .dataframe tbody tr th:only-of-type {\n",
              "        vertical-align: middle;\n",
              "    }\n",
              "\n",
              "    .dataframe tbody tr th {\n",
              "        vertical-align: top;\n",
              "    }\n",
              "\n",
              "    .dataframe thead th {\n",
              "        text-align: right;\n",
              "    }\n",
              "</style>\n",
              "<table border=\"1\" class=\"dataframe\">\n",
              "  <thead>\n",
              "    <tr style=\"text-align: right;\">\n",
              "      <th></th>\n",
              "      <th>x</th>\n",
              "      <th>y</th>\n",
              "    </tr>\n",
              "  </thead>\n",
              "  <tbody>\n",
              "    <tr>\n",
              "      <th>0</th>\n",
              "      <td>0.823101</td>\n",
              "      <td>0.893530</td>\n",
              "    </tr>\n",
              "    <tr>\n",
              "      <th>1</th>\n",
              "      <td>0.542764</td>\n",
              "      <td>0.119875</td>\n",
              "    </tr>\n",
              "    <tr>\n",
              "      <th>2</th>\n",
              "      <td>0.599959</td>\n",
              "      <td>0.250778</td>\n",
              "    </tr>\n",
              "    <tr>\n",
              "      <th>3</th>\n",
              "      <td>0.368077</td>\n",
              "      <td>0.384298</td>\n",
              "    </tr>\n",
              "    <tr>\n",
              "      <th>4</th>\n",
              "      <td>0.724193</td>\n",
              "      <td>0.185742</td>\n",
              "    </tr>\n",
              "    <tr>\n",
              "      <th>...</th>\n",
              "      <td>...</td>\n",
              "      <td>...</td>\n",
              "    </tr>\n",
              "    <tr>\n",
              "      <th>553</th>\n",
              "      <td>0.865016</td>\n",
              "      <td>0.546076</td>\n",
              "    </tr>\n",
              "    <tr>\n",
              "      <th>554</th>\n",
              "      <td>0.751867</td>\n",
              "      <td>0.066472</td>\n",
              "    </tr>\n",
              "    <tr>\n",
              "      <th>555</th>\n",
              "      <td>0.629967</td>\n",
              "      <td>0.904080</td>\n",
              "    </tr>\n",
              "    <tr>\n",
              "      <th>556</th>\n",
              "      <td>0.702695</td>\n",
              "      <td>0.756679</td>\n",
              "    </tr>\n",
              "    <tr>\n",
              "      <th>557</th>\n",
              "      <td>0.688670</td>\n",
              "      <td>0.659720</td>\n",
              "    </tr>\n",
              "  </tbody>\n",
              "</table>\n",
              "<p>558 rows × 2 columns</p>\n",
              "</div>\n",
              "      <button class=\"colab-df-convert\" onclick=\"convertToInteractive('df-e2225d63-0211-4edb-9402-cd5c384db533')\"\n",
              "              title=\"Convert this dataframe to an interactive table.\"\n",
              "              style=\"display:none;\">\n",
              "        \n",
              "  <svg xmlns=\"http://www.w3.org/2000/svg\" height=\"24px\"viewBox=\"0 0 24 24\"\n",
              "       width=\"24px\">\n",
              "    <path d=\"M0 0h24v24H0V0z\" fill=\"none\"/>\n",
              "    <path d=\"M18.56 5.44l.94 2.06.94-2.06 2.06-.94-2.06-.94-.94-2.06-.94 2.06-2.06.94zm-11 1L8.5 8.5l.94-2.06 2.06-.94-2.06-.94L8.5 2.5l-.94 2.06-2.06.94zm10 10l.94 2.06.94-2.06 2.06-.94-2.06-.94-.94-2.06-.94 2.06-2.06.94z\"/><path d=\"M17.41 7.96l-1.37-1.37c-.4-.4-.92-.59-1.43-.59-.52 0-1.04.2-1.43.59L10.3 9.45l-7.72 7.72c-.78.78-.78 2.05 0 2.83L4 21.41c.39.39.9.59 1.41.59.51 0 1.02-.2 1.41-.59l7.78-7.78 2.81-2.81c.8-.78.8-2.07 0-2.86zM5.41 20L4 18.59l7.72-7.72 1.47 1.35L5.41 20z\"/>\n",
              "  </svg>\n",
              "      </button>\n",
              "      \n",
              "  <style>\n",
              "    .colab-df-container {\n",
              "      display:flex;\n",
              "      flex-wrap:wrap;\n",
              "      gap: 12px;\n",
              "    }\n",
              "\n",
              "    .colab-df-convert {\n",
              "      background-color: #E8F0FE;\n",
              "      border: none;\n",
              "      border-radius: 50%;\n",
              "      cursor: pointer;\n",
              "      display: none;\n",
              "      fill: #1967D2;\n",
              "      height: 32px;\n",
              "      padding: 0 0 0 0;\n",
              "      width: 32px;\n",
              "    }\n",
              "\n",
              "    .colab-df-convert:hover {\n",
              "      background-color: #E2EBFA;\n",
              "      box-shadow: 0px 1px 2px rgba(60, 64, 67, 0.3), 0px 1px 3px 1px rgba(60, 64, 67, 0.15);\n",
              "      fill: #174EA6;\n",
              "    }\n",
              "\n",
              "    [theme=dark] .colab-df-convert {\n",
              "      background-color: #3B4455;\n",
              "      fill: #D2E3FC;\n",
              "    }\n",
              "\n",
              "    [theme=dark] .colab-df-convert:hover {\n",
              "      background-color: #434B5C;\n",
              "      box-shadow: 0px 1px 3px 1px rgba(0, 0, 0, 0.15);\n",
              "      filter: drop-shadow(0px 1px 2px rgba(0, 0, 0, 0.3));\n",
              "      fill: #FFFFFF;\n",
              "    }\n",
              "  </style>\n",
              "\n",
              "      <script>\n",
              "        const buttonEl =\n",
              "          document.querySelector('#df-e2225d63-0211-4edb-9402-cd5c384db533 button.colab-df-convert');\n",
              "        buttonEl.style.display =\n",
              "          google.colab.kernel.accessAllowed ? 'block' : 'none';\n",
              "\n",
              "        async function convertToInteractive(key) {\n",
              "          const element = document.querySelector('#df-e2225d63-0211-4edb-9402-cd5c384db533');\n",
              "          const dataTable =\n",
              "            await google.colab.kernel.invokeFunction('convertToInteractive',\n",
              "                                                     [key], {});\n",
              "          if (!dataTable) return;\n",
              "\n",
              "          const docLinkHtml = 'Like what you see? Visit the ' +\n",
              "            '<a target=\"_blank\" href=https://colab.research.google.com/notebooks/data_table.ipynb>data table notebook</a>'\n",
              "            + ' to learn more about interactive tables.';\n",
              "          element.innerHTML = '';\n",
              "          dataTable['output_type'] = 'display_data';\n",
              "          await google.colab.output.renderOutput(dataTable, element);\n",
              "          const docLink = document.createElement('div');\n",
              "          docLink.innerHTML = docLinkHtml;\n",
              "          element.appendChild(docLink);\n",
              "        }\n",
              "      </script>\n",
              "    </div>\n",
              "  </div>\n",
              "  "
            ]
          },
          "metadata": {},
          "execution_count": 52
        }
      ]
    },
    {
      "cell_type": "code",
      "execution_count": 53,
      "metadata": {
        "id": "T-DaUEP67Kf7",
        "colab": {
          "base_uri": "https://localhost:8080/"
        },
        "outputId": "1dbca67e-b279-46d8-89bf-b0c95ae6bd05"
      },
      "outputs": [
        {
          "output_type": "execute_result",
          "data": {
            "text/plain": [
              "array([0.60220367, 0.702304  ], dtype=float32)"
            ]
          },
          "metadata": {},
          "execution_count": 53
        }
      ],
      "source": [
        "X[random.randint(0, len(X))]"
      ]
    },
    {
      "cell_type": "code",
      "execution_count": 54,
      "metadata": {
        "id": "P-4p1b_D7G1L",
        "colab": {
          "base_uri": "https://localhost:8080/"
        },
        "outputId": "15515b5f-a07a-4240-cd78-9f7172a7e92f"
      },
      "outputs": [
        {
          "output_type": "execute_result",
          "data": {
            "text/plain": [
              "array([0, 2, 0, 1])"
            ]
          },
          "metadata": {},
          "execution_count": 54
        }
      ],
      "source": [
        "kmedoids.predict([X[random.randint(0, len(X))],\n",
        "                  X[random.randint(0, len(X))],\n",
        "                  X[random.randint(0, len(X))],\n",
        "                  X[random.randint(0, len(X))]])"
      ]
    },
    {
      "cell_type": "code",
      "execution_count": 55,
      "metadata": {
        "id": "eymJlNJA9kp4",
        "colab": {
          "base_uri": "https://localhost:8080/"
        },
        "outputId": "cad5bfb5-57cf-4505-a967-4ec8ed6f26bf"
      },
      "outputs": [
        {
          "output_type": "execute_result",
          "data": {
            "text/plain": [
              "array([[0.6170809 , 0.21531668],\n",
              "       [0.7188121 , 0.86940974],\n",
              "       [0.7759817 , 0.5506548 ],\n",
              "       [0.3655027 , 0.6268532 ]], dtype=float32)"
            ]
          },
          "metadata": {},
          "execution_count": 55
        }
      ],
      "source": [
        "kmedoids.cluster_centers_"
      ]
    },
    {
      "cell_type": "code",
      "execution_count": 56,
      "metadata": {
        "id": "oa57TPni9jfk",
        "colab": {
          "base_uri": "https://localhost:8080/"
        },
        "outputId": "86a9aa15-e821-4d3f-949f-da3f35c1dc53"
      },
      "outputs": [
        {
          "output_type": "execute_result",
          "data": {
            "text/plain": [
              "90.637344"
            ]
          },
          "metadata": {},
          "execution_count": 56
        }
      ],
      "source": [
        "kmedoids.inertia_"
      ]
    },
    {
      "cell_type": "code",
      "execution_count": 57,
      "metadata": {
        "id": "4bai_vq59Lb9",
        "colab": {
          "base_uri": "https://localhost:8080/",
          "height": 624
        },
        "outputId": "43b11215-d998-4cfa-8c1b-5aa9cfdc5afa"
      },
      "outputs": [
        {
          "output_type": "execute_result",
          "data": {
            "text/plain": [
              "Text(0.5, 1.0, 'KMedoids clustering. Medoids are represented in cyan.')"
            ]
          },
          "metadata": {},
          "execution_count": 57
        },
        {
          "output_type": "display_data",
          "data": {
            "text/plain": [
              "<Figure size 1080x720 with 1 Axes>"
            ],
            "image/png": "[encoded data removed]"
          },
          "metadata": {
            "needs_background": "light"
          }
        }
      ],
      "source": [
        "labels = kmedoids.labels_\n",
        "\n",
        "unique_labels = set(labels)\n",
        "colors = [\n",
        "    plt.cm.Spectral(each) for each in np.linspace(0, 1, len(unique_labels))\n",
        "]\n",
        "for k, col in zip(unique_labels, colors):\n",
        "\n",
        "    class_member_mask = labels == k\n",
        "\n",
        "    xy = X[class_member_mask]\n",
        "    plt.plot(\n",
        "        xy[:, 0],\n",
        "        xy[:, 1],\n",
        "        \"o\",\n",
        "        markerfacecolor=tuple(col),\n",
        "        markeredgecolor=\"k\",\n",
        "        markersize=6,\n",
        "    )\n",
        "\n",
        "plt.plot(\n",
        "    kmedoids.cluster_centers_[:, 0],\n",
        "    kmedoids.cluster_centers_[:, 1],\n",
        "    \"o\",\n",
        "    markerfacecolor=\"cyan\",\n",
        "    markeredgecolor=\"k\",\n",
        "    markersize=6,\n",
        ")\n",
        "\n",
        "plt.title(\"KMedoids clustering. Medoids are represented in cyan.\")"
      ]
    },
    {
      "cell_type": "code",
      "execution_count": 58,
      "metadata": {
        "id": "UXjdo1e28B-F",
        "colab": {
          "base_uri": "https://localhost:8080/"
        },
        "outputId": "02a848c4-24c2-434e-9e79-0e1cad47d483"
      },
      "outputs": [
        {
          "output_type": "execute_result",
          "data": {
            "text/plain": [
              "array([[0.6170809 , 0.21531668],\n",
              "       [0.7188121 , 0.86940974],\n",
              "       [0.7759817 , 0.5506548 ],\n",
              "       [0.3655027 , 0.6268532 ]], dtype=float32)"
            ]
          },
          "metadata": {},
          "execution_count": 58
        }
      ],
      "source": [
        "kmedoids.cluster_centers_"
      ]
    },
    {
      "cell_type": "code",
      "execution_count": 59,
      "metadata": {
        "id": "KA1JZLn-8pmw",
        "colab": {
          "base_uri": "https://localhost:8080/"
        },
        "outputId": "bc47ec8c-5f41-4eda-908e-902b05c14b6e"
      },
      "outputs": [
        {
          "output_type": "execute_result",
          "data": {
            "text/plain": [
              "0"
            ]
          },
          "metadata": {},
          "execution_count": 59
        }
      ],
      "source": [
        "kmedoids.labels_[100]"
      ]
    },
    {
      "cell_type": "code",
      "source": [
        "len(kmedoids.labels_) - len(indicators_application)"
      ],
      "metadata": {
        "id": "fTdeRzyPktww",
        "colab": {
          "base_uri": "https://localhost:8080/"
        },
        "outputId": "862f50bc-b335-4ad7-9143-d61162b47349"
      },
      "execution_count": 60,
      "outputs": [
        {
          "output_type": "execute_result",
          "data": {
            "text/plain": [
              "0"
            ]
          },
          "metadata": {},
          "execution_count": 60
        }
      ]
    },
    {
      "cell_type": "code",
      "source": [
        "indicators_application['Cluster PAM'] = ''\n",
        "for i in range(0,len(indicators_application)):\n",
        "  cluster = int(kmedoids.labels_[i])\n",
        "  indicators_application['Cluster PAM'].iloc[i] = int(cluster)"
      ],
      "metadata": {
        "id": "yp1pxxEwkOuZ",
        "colab": {
          "base_uri": "https://localhost:8080/"
        },
        "outputId": "b76a1d86-b111-4fe9-ec07-6b39efb6c630"
      },
      "execution_count": 61,
      "outputs": [
        {
          "output_type": "stream",
          "name": "stderr",
          "text": [
            "/usr/local/lib/python3.7/dist-packages/pandas/core/indexing.py:1732: SettingWithCopyWarning: \n",
            "A value is trying to be set on a copy of a slice from a DataFrame\n",
            "\n",
            "See the caveats in the documentation: https://pandas.pydata.org/pandas-docs/stable/user_guide/indexing.html#returning-a-view-versus-a-copy\n",
            "  self._setitem_single_block(indexer, value, name)\n"
          ]
        }
      ]
    },
    {
      "cell_type": "markdown",
      "source": [
        "#Hierarchical Clustering and Networks\n",
        "\n"
      ],
      "metadata": {
        "id": "oFw8f6bD0HI1"
      }
    },
    {
      "cell_type": "code",
      "source": [
        "pip install Riskfolio-Lib"
      ],
      "metadata": {
        "id": "LRWh8rrL0IVf"
      },
      "execution_count": null,
      "outputs": []
    },
    {
      "cell_type": "code",
      "source": [
        "pip install -U matplotlib"
      ],
      "metadata": {
        "id": "wXPvq5dr0N8n"
      },
      "execution_count": null,
      "outputs": []
    },
    {
      "cell_type": "code",
      "source": [
        "Y = kmeans_input\n",
        "Y"
      ],
      "metadata": {
        "colab": {
          "base_uri": "https://localhost:8080/",
          "height": 424
        },
        "id": "L1OlsQQ90RR3",
        "outputId": "4f009443-93aa-4d87-e1c2-5c3128c8b613"
      },
      "execution_count": 72,
      "outputs": [
        {
          "output_type": "execute_result",
          "data": {
            "text/plain": [
              "            x         y\n",
              "0    0.823101  0.893530\n",
              "1    0.542764  0.119875\n",
              "2    0.599959  0.250778\n",
              "3    0.368077  0.384298\n",
              "4    0.724193  0.185742\n",
              "..        ...       ...\n",
              "553  0.865016  0.546076\n",
              "554  0.751867  0.066472\n",
              "555  0.629967  0.904080\n",
              "556  0.702695  0.756679\n",
              "557  0.688670  0.659720\n",
              "\n",
              "[558 rows x 2 columns]"
            ],
            "text/html": [
              "\n",
              "  <div id=\"df-478d2f9e-b172-4c96-ac8e-cb8b5e79d09c\">\n",
              "    <div class=\"colab-df-container\">\n",
              "      <div>\n",
              "<style scoped>\n",
              "    .dataframe tbody tr th:only-of-type {\n",
              "        vertical-align: middle;\n",
              "    }\n",
              "\n",
              "    .dataframe tbody tr th {\n",
              "        vertical-align: top;\n",
              "    }\n",
              "\n",
              "    .dataframe thead th {\n",
              "        text-align: right;\n",
              "    }\n",
              "</style>\n",
              "<table border=\"1\" class=\"dataframe\">\n",
              "  <thead>\n",
              "    <tr style=\"text-align: right;\">\n",
              "      <th></th>\n",
              "      <th>x</th>\n",
              "      <th>y</th>\n",
              "    </tr>\n",
              "  </thead>\n",
              "  <tbody>\n",
              "    <tr>\n",
              "      <th>0</th>\n",
              "      <td>0.823101</td>\n",
              "      <td>0.893530</td>\n",
              "    </tr>\n",
              "    <tr>\n",
              "      <th>1</th>\n",
              "      <td>0.542764</td>\n",
              "      <td>0.119875</td>\n",
              "    </tr>\n",
              "    <tr>\n",
              "      <th>2</th>\n",
              "      <td>0.599959</td>\n",
              "      <td>0.250778</td>\n",
              "    </tr>\n",
              "    <tr>\n",
              "      <th>3</th>\n",
              "      <td>0.368077</td>\n",
              "      <td>0.384298</td>\n",
              "    </tr>\n",
              "    <tr>\n",
              "      <th>4</th>\n",
              "      <td>0.724193</td>\n",
              "      <td>0.185742</td>\n",
              "    </tr>\n",
              "    <tr>\n",
              "      <th>...</th>\n",
              "      <td>...</td>\n",
              "      <td>...</td>\n",
              "    </tr>\n",
              "    <tr>\n",
              "      <th>553</th>\n",
              "      <td>0.865016</td>\n",
              "      <td>0.546076</td>\n",
              "    </tr>\n",
              "    <tr>\n",
              "      <th>554</th>\n",
              "      <td>0.751867</td>\n",
              "      <td>0.066472</td>\n",
              "    </tr>\n",
              "    <tr>\n",
              "      <th>555</th>\n",
              "      <td>0.629967</td>\n",
              "      <td>0.904080</td>\n",
              "    </tr>\n",
              "    <tr>\n",
              "      <th>556</th>\n",
              "      <td>0.702695</td>\n",
              "      <td>0.756679</td>\n",
              "    </tr>\n",
              "    <tr>\n",
              "      <th>557</th>\n",
              "      <td>0.688670</td>\n",
              "      <td>0.659720</td>\n",
              "    </tr>\n",
              "  </tbody>\n",
              "</table>\n",
              "<p>558 rows × 2 columns</p>\n",
              "</div>\n",
              "      <button class=\"colab-df-convert\" onclick=\"convertToInteractive('df-478d2f9e-b172-4c96-ac8e-cb8b5e79d09c')\"\n",
              "              title=\"Convert this dataframe to an interactive table.\"\n",
              "              style=\"display:none;\">\n",
              "        \n",
              "  <svg xmlns=\"http://www.w3.org/2000/svg\" height=\"24px\"viewBox=\"0 0 24 24\"\n",
              "       width=\"24px\">\n",
              "    <path d=\"M0 0h24v24H0V0z\" fill=\"none\"/>\n",
              "    <path d=\"M18.56 5.44l.94 2.06.94-2.06 2.06-.94-2.06-.94-.94-2.06-.94 2.06-2.06.94zm-11 1L8.5 8.5l.94-2.06 2.06-.94-2.06-.94L8.5 2.5l-.94 2.06-2.06.94zm10 10l.94 2.06.94-2.06 2.06-.94-2.06-.94-.94-2.06-.94 2.06-2.06.94z\"/><path d=\"M17.41 7.96l-1.37-1.37c-.4-.4-.92-.59-1.43-.59-.52 0-1.04.2-1.43.59L10.3 9.45l-7.72 7.72c-.78.78-.78 2.05 0 2.83L4 21.41c.39.39.9.59 1.41.59.51 0 1.02-.2 1.41-.59l7.78-7.78 2.81-2.81c.8-.78.8-2.07 0-2.86zM5.41 20L4 18.59l7.72-7.72 1.47 1.35L5.41 20z\"/>\n",
              "  </svg>\n",
              "      </button>\n",
              "      \n",
              "  <style>\n",
              "    .colab-df-container {\n",
              "      display:flex;\n",
              "      flex-wrap:wrap;\n",
              "      gap: 12px;\n",
              "    }\n",
              "\n",
              "    .colab-df-convert {\n",
              "      background-color: #E8F0FE;\n",
              "      border: none;\n",
              "      border-radius: 50%;\n",
              "      cursor: pointer;\n",
              "      display: none;\n",
              "      fill: #1967D2;\n",
              "      height: 32px;\n",
              "      padding: 0 0 0 0;\n",
              "      width: 32px;\n",
              "    }\n",
              "\n",
              "    .colab-df-convert:hover {\n",
              "      background-color: #E2EBFA;\n",
              "      box-shadow: 0px 1px 2px rgba(60, 64, 67, 0.3), 0px 1px 3px 1px rgba(60, 64, 67, 0.15);\n",
              "      fill: #174EA6;\n",
              "    }\n",
              "\n",
              "    [theme=dark] .colab-df-convert {\n",
              "      background-color: #3B4455;\n",
              "      fill: #D2E3FC;\n",
              "    }\n",
              "\n",
              "    [theme=dark] .colab-df-convert:hover {\n",
              "      background-color: #434B5C;\n",
              "      box-shadow: 0px 1px 3px 1px rgba(0, 0, 0, 0.15);\n",
              "      filter: drop-shadow(0px 1px 2px rgba(0, 0, 0, 0.3));\n",
              "      fill: #FFFFFF;\n",
              "    }\n",
              "  </style>\n",
              "\n",
              "      <script>\n",
              "        const buttonEl =\n",
              "          document.querySelector('#df-478d2f9e-b172-4c96-ac8e-cb8b5e79d09c button.colab-df-convert');\n",
              "        buttonEl.style.display =\n",
              "          google.colab.kernel.accessAllowed ? 'block' : 'none';\n",
              "\n",
              "        async function convertToInteractive(key) {\n",
              "          const element = document.querySelector('#df-478d2f9e-b172-4c96-ac8e-cb8b5e79d09c');\n",
              "          const dataTable =\n",
              "            await google.colab.kernel.invokeFunction('convertToInteractive',\n",
              "                                                     [key], {});\n",
              "          if (!dataTable) return;\n",
              "\n",
              "          const docLinkHtml = 'Like what you see? Visit the ' +\n",
              "            '<a target=\"_blank\" href=https://colab.research.google.com/notebooks/data_table.ipynb>data table notebook</a>'\n",
              "            + ' to learn more about interactive tables.';\n",
              "          element.innerHTML = '';\n",
              "          dataTable['output_type'] = 'display_data';\n",
              "          await google.colab.output.renderOutput(dataTable, element);\n",
              "          const docLink = document.createElement('div');\n",
              "          docLink.innerHTML = docLinkHtml;\n",
              "          element.appendChild(docLink);\n",
              "        }\n",
              "      </script>\n",
              "    </div>\n",
              "  </div>\n",
              "  "
            ]
          },
          "metadata": {},
          "execution_count": 72
        }
      ]
    },
    {
      "cell_type": "code",
      "source": [
        "import scipy.cluster.hierarchy as sc\n",
        "\n",
        "# Plot dendrogram\n",
        "plt.figure(figsize=(20, 7))  \n",
        "plt.title(\"Dendrograms\")  \n",
        "\n",
        "# Create dendrogram\n",
        "sc.dendrogram(sc.linkage(Y, method='ward'))\n",
        "\n",
        "plt.title('Dendrogram - Hierarchical Clustering')\n",
        "plt.xlabel('Código')\n",
        "plt.ylabel('Euclidean distance')\n",
        "plt.figure(figsize = (300, 300))"
      ],
      "metadata": {
        "colab": {
          "base_uri": "https://localhost:8080/",
          "height": 494
        },
        "id": "RiwAkvSg3iCQ",
        "outputId": "45d48218-3071-46d6-f43f-1538cf027719"
      },
      "execution_count": 109,
      "outputs": [
        {
          "output_type": "execute_result",
          "data": {
            "text/plain": [
              "<Figure size 21600x21600 with 0 Axes>"
            ]
          },
          "metadata": {},
          "execution_count": 109
        },
        {
          "output_type": "display_data",
          "data": {
            "text/plain": [
              "<Figure size 1440x504 with 1 Axes>"
            ],
            "image/png": "[encoded data removed]"
          },
          "metadata": {
            "needs_background": "light"
          }
        },
        {
          "output_type": "display_data",
          "data": {
            "text/plain": [
              "<Figure size 21600x21600 with 0 Axes>"
            ]
          },
          "metadata": {}
        }
      ]
    },
    {
      "cell_type": "code",
      "source": [
        "from sklearn.cluster import AgglomerativeClustering\n",
        "\n",
        "cluster = AgglomerativeClustering(\n",
        "    n_clusters=3, affinity='euclidean', linkage='ward')\n",
        "\n",
        "cluster.fit(Y)\n",
        "labels = cluster.labels_\n",
        "labels"
      ],
      "metadata": {
        "colab": {
          "base_uri": "https://localhost:8080/"
        },
        "id": "9aQEOB8X4f60",
        "outputId": "73a6e8a0-11d8-479e-9a13-37ca7697e63a"
      },
      "execution_count": 82,
      "outputs": [
        {
          "output_type": "execute_result",
          "data": {
            "text/plain": [
              "array([2, 0, 0, 0, 0, 0, 0, 0, 0, 1, 1, 0, 2, 2, 0, 0, 2, 0, 0, 0, 0, 0,\n",
              "       0, 2, 0, 0, 0, 0, 0, 0, 0, 0, 0, 2, 0, 0, 0, 0, 0, 0, 1, 1, 0, 1,\n",
              "       0, 1, 1, 1, 1, 1, 0, 2, 1, 1, 1, 0, 1, 0, 1, 1, 1, 0, 1, 1, 0, 2,\n",
              "       0, 1, 1, 1, 1, 1, 1, 1, 1, 1, 2, 1, 2, 1, 0, 1, 1, 1, 2, 0, 1, 1,\n",
              "       1, 0, 1, 0, 2, 2, 2, 0, 1, 1, 1, 1, 0, 1, 1, 1, 1, 1, 1, 0, 0, 1,\n",
              "       0, 1, 1, 1, 1, 1, 0, 1, 1, 0, 0, 1, 1, 1, 1, 1, 1, 1, 0, 1, 1, 1,\n",
              "       0, 0, 1, 1, 1, 2, 2, 1, 0, 1, 1, 1, 1, 1, 1, 2, 0, 0, 0, 1, 0, 0,\n",
              "       2, 0, 0, 0, 1, 1, 0, 0, 2, 0, 2, 1, 1, 2, 0, 1, 1, 0, 2, 0, 1, 1,\n",
              "       0, 1, 2, 0, 0, 0, 2, 1, 2, 1, 0, 0, 2, 0, 0, 0, 0, 2, 0, 0, 1, 0,\n",
              "       1, 0, 2, 0, 2, 0, 0, 0, 1, 1, 1, 1, 0, 2, 2, 0, 1, 0, 2, 0, 2, 2,\n",
              "       0, 0, 1, 0, 0, 0, 0, 1, 1, 2, 2, 0, 0, 1, 0, 0, 0, 0, 0, 1, 2, 1,\n",
              "       0, 0, 1, 0, 0, 0, 1, 0, 0, 0, 0, 0, 0, 1, 0, 0, 2, 1, 0, 0, 2, 0,\n",
              "       2, 1, 2, 1, 0, 0, 0, 0, 0, 0, 0, 0, 1, 1, 1, 0, 1, 0, 1, 0, 0, 0,\n",
              "       0, 0, 0, 0, 0, 0, 0, 1, 0, 2, 1, 0, 2, 0, 0, 1, 1, 0, 0, 0, 2, 0,\n",
              "       0, 0, 1, 2, 0, 2, 0, 0, 0, 1, 0, 0, 0, 0, 1, 1, 0, 0, 0, 0, 2, 1,\n",
              "       2, 0, 0, 1, 0, 0, 0, 1, 0, 0, 2, 0, 0, 2, 0, 0, 0, 0, 0, 1, 1, 2,\n",
              "       2, 0, 0, 0, 1, 0, 0, 0, 0, 1, 1, 2, 0, 0, 1, 2, 0, 0, 1, 1, 0, 0,\n",
              "       2, 0, 2, 1, 0, 0, 0, 0, 0, 1, 0, 0, 0, 0, 2, 1, 2, 0, 0, 0, 1, 0,\n",
              "       0, 2, 1, 1, 0, 1, 1, 1, 1, 2, 0, 0, 1, 1, 0, 1, 0, 1, 2, 0, 1, 1,\n",
              "       0, 0, 0, 2, 0, 0, 0, 1, 1, 0, 0, 1, 0, 1, 0, 0, 0, 0, 0, 0, 2, 2,\n",
              "       0, 2, 1, 0, 0, 1, 0, 0, 0, 1, 0, 2, 2, 0, 0, 1, 1, 1, 0, 0, 0, 0,\n",
              "       0, 1, 2, 0, 0, 0, 0, 0, 1, 0, 0, 1, 1, 0, 1, 2, 0, 0, 0, 0, 2, 0,\n",
              "       0, 0, 0, 2, 1, 0, 0, 0, 0, 0, 1, 0, 0, 2, 1, 0, 1, 0, 2, 2, 2, 1,\n",
              "       2, 1, 1, 1, 1, 0, 1, 0, 1, 0, 1, 2, 0, 2, 0, 0, 0, 1, 0, 0, 0, 0,\n",
              "       0, 1, 0, 0, 0, 0, 1, 2, 1, 0, 0, 0, 0, 0, 1, 0, 2, 0, 1, 2, 1, 2,\n",
              "       1, 0, 0, 0, 0, 1, 1, 1])"
            ]
          },
          "metadata": {},
          "execution_count": 82
        }
      ]
    },
    {
      "cell_type": "code",
      "source": [
        "indicators = indicators_application.values\n",
        "\n",
        "plt.figure(figsize=(10, 7))\n",
        "plt.scatter(indicators[labels == 0, 0], indicators[labels == 0, 1], s = 100, c = 'blue', label = 'Cluster 1')\n",
        "plt.scatter(indicators[labels == 1, 0], indicators[labels == 1, 1], s = 100, c = 'yellow', label = 'Cluster 2')\n",
        "plt.scatter(indicators[labels == 2, 0], indicators[labels == 2, 1], s = 100, c = 'green', label = 'Cluster 3')\n",
        "plt.legend()\n",
        "plt.show()"
      ],
      "metadata": {
        "colab": {
          "base_uri": "https://localhost:8080/",
          "height": 428
        },
        "id": "370SoDQX4uSR",
        "outputId": "024a9773-d600-4d1a-9429-19e7597f3c16"
      },
      "execution_count": 94,
      "outputs": [
        {
          "output_type": "display_data",
          "data": {
            "text/plain": [
              "<Figure size 720x504 with 1 Axes>"
            ],
            "image/png": "[encoded data removed]"
          },
          "metadata": {
            "needs_background": "light"
          }
        }
      ]
    },
    {
      "cell_type": "code",
      "source": [
        "indicators_application['Cluster Hierarchical'] = ''\n",
        "for i in range(0,len(indicators_application)):\n",
        "  cluster = int(kmedoids.labels_[i])\n",
        "  indicators_application['Cluster Hierarchical'].iloc[i] = int(cluster)"
      ],
      "metadata": {
        "colab": {
          "base_uri": "https://localhost:8080/"
        },
        "id": "5594RF3X9dDX",
        "outputId": "093907b3-6e18-4564-a484-69c263bfc89e"
      },
      "execution_count": 112,
      "outputs": [
        {
          "output_type": "stream",
          "name": "stderr",
          "text": [
            "/usr/local/lib/python3.7/dist-packages/pandas/core/indexing.py:1732: SettingWithCopyWarning: \n",
            "A value is trying to be set on a copy of a slice from a DataFrame\n",
            "\n",
            "See the caveats in the documentation: https://pandas.pydata.org/pandas-docs/stable/user_guide/indexing.html#returning-a-view-versus-a-copy\n",
            "  self._setitem_single_block(indexer, value, name)\n"
          ]
        }
      ]
    },
    {
      "cell_type": "markdown",
      "source": [
        "## Consolidação"
      ],
      "metadata": {
        "id": "c9iovdkQs1SO"
      }
    },
    {
      "cell_type": "code",
      "source": [
        "df_indicators.columns"
      ],
      "metadata": {
        "id": "L1x5CCots4vM",
        "colab": {
          "base_uri": "https://localhost:8080/"
        },
        "outputId": "55247ee8-6eaa-437d-98f8-35708ba4845e"
      },
      "execution_count": 113,
      "outputs": [
        {
          "output_type": "execute_result",
          "data": {
            "text/plain": [
              "Index([' LiqCor  consolid:sim*', ' LiqSec  consolid:sim*',\n",
              "       ' Exig / PL  consolid:sim*', ' DivBr/Ebitda  de 3 meses  consolid:sim*',\n",
              "       ' Margem Liquida  de 3 meses  consolid:sim*', 'ROA de 3 meses',\n",
              "       'ROE de 3 meses', 'P/L de 3 meses ajust pela infl',\n",
              "       'Valor Mercado da empresa Em US Dollars em milhares',\n",
              "       ' Patrim Liq  Em US Dollars  em milhares  consolid:sim*',\n",
              "       'Price/Book ratio', 'EV Em US Dollars em milhares consolid:sim*',\n",
              "       'EV/EBITDA emp Em US Dollars de 3 meses consolid:sim*',\n",
              "       'P/FCF Em US Dollars de 3 meses consolid:sim*',\n",
              "       'Media do fechamento em 1 trimestre Em US Dollars ajust p/ prov',\n",
              "       'Beta', 'TIR média trimestral em 3 meses Em moeda orig',\n",
              "       'Bollinger 90/2 Média Em moeda orig',\n",
              "       'Volatilidade base trimestral 3 meses Em moeda orig', 'Sharpe',\n",
              "       'VAR % base diária confiança: 95% 3 meses Em moeda orig',\n",
              "       'Max Drd (c/rec) ajust p/ prov 3 meses Em moeda orig',\n",
              "       ' Data do Bal  consolid:sim*', 'Código', 'Setor NAICS', 'Indice',\n",
              "       'Sharpe Ratio', 'Código ajustado', 'Cluster UMAP K-Means',\n",
              "       'Cluster k-means', 'Cluster PAM'],\n",
              "      dtype='object')"
            ]
          },
          "metadata": {},
          "execution_count": 113
        }
      ]
    },
    {
      "cell_type": "code",
      "source": [
        "len(indicators_application) - len(df_indicators)"
      ],
      "metadata": {
        "id": "T_jhMrbItJ2S",
        "colab": {
          "base_uri": "https://localhost:8080/"
        },
        "outputId": "c4ea0c5c-933c-4255-a196-fc8e771908fc"
      },
      "execution_count": 114,
      "outputs": [
        {
          "output_type": "execute_result",
          "data": {
            "text/plain": [
              "-12378"
            ]
          },
          "metadata": {},
          "execution_count": 114
        }
      ]
    },
    {
      "cell_type": "code",
      "source": [
        "df_indicators['Cluster UMAP K-Means'] = ''\n",
        "df_indicators['Cluster k-means'] = ''\n",
        "df_indicators['Cluster PAM'] = ''\n",
        "df_indicators['Cluster Hierarchical'] = ''"
      ],
      "metadata": {
        "id": "j_0qk_D2EZFL"
      },
      "execution_count": 115,
      "outputs": []
    },
    {
      "cell_type": "code",
      "source": [
        "df_indicators.loc[(df_indicators[' Data do Bal  consolid:sim*'].astype(str)>='2021-10-01') & (df_indicators[' Data do Bal  consolid:sim*'].astype(str)<='2021-12-31'),'Cluster UMAP K-Means'] = indicators_application['Cluster UMAP K-Means'].astype(float)\n",
        "df_indicators.loc[(df_indicators[' Data do Bal  consolid:sim*'].astype(str)>='2021-10-01') & (df_indicators[' Data do Bal  consolid:sim*'].astype(str)<='2021-12-31'),'Cluster k-means'] = indicators_application['Cluster k-means'].astype(float)\n",
        "df_indicators.loc[(df_indicators[' Data do Bal  consolid:sim*'].astype(str)>='2021-10-01') & (df_indicators[' Data do Bal  consolid:sim*'].astype(str)<='2021-12-31'),'Cluster PAM'] = indicators_application['Cluster PAM'].astype(float)\n",
        "df_indicators.loc[(df_indicators[' Data do Bal  consolid:sim*'].astype(str)>='2021-10-01') & (df_indicators[' Data do Bal  consolid:sim*'].astype(str)<='2021-12-31'),'Cluster Hierarchical'] = indicators_application['Cluster Hierarchical'].astype(float)"
      ],
      "metadata": {
        "id": "AinDonZUEZFL"
      },
      "execution_count": 132,
      "outputs": []
    },
    {
      "cell_type": "code",
      "source": [
        "df_indicators_dtref = df_indicators.loc[(df_indicators[' Data do Bal  consolid:sim*'].astype(str)>='2021-10-01') & (df_indicators[' Data do Bal  consolid:sim*'].astype(str)<='2021-12-31')]"
      ],
      "metadata": {
        "id": "Je1_ngSJEZFM"
      },
      "execution_count": 133,
      "outputs": []
    },
    {
      "cell_type": "code",
      "source": [
        "df_indicators_dtref[['Cluster UMAP K-Means', 'Cluster k-means', 'Cluster PAM','Cluster Hierarchical']] = df_indicators_dtref[['Cluster UMAP K-Means', 'Cluster k-means', 'Cluster PAM','Cluster Hierarchical']].astype(float)"
      ],
      "metadata": {
        "colab": {
          "base_uri": "https://localhost:8080/"
        },
        "outputId": "7b3215c6-4424-454a-a61d-7f781053fa2d",
        "id": "fDH73LA2EZFM"
      },
      "execution_count": 135,
      "outputs": [
        {
          "output_type": "stream",
          "name": "stderr",
          "text": [
            "/usr/local/lib/python3.7/dist-packages/pandas/core/frame.py:3641: SettingWithCopyWarning: \n",
            "A value is trying to be set on a copy of a slice from a DataFrame.\n",
            "Try using .loc[row_indexer,col_indexer] = value instead\n",
            "\n",
            "See the caveats in the documentation: https://pandas.pydata.org/pandas-docs/stable/user_guide/indexing.html#returning-a-view-versus-a-copy\n",
            "  self[k1] = value[k2]\n"
          ]
        }
      ]
    },
    {
      "cell_type": "markdown",
      "metadata": {
        "id": "l0oN6zBz0ODp"
      },
      "source": [
        "# IBOVESPA"
      ]
    },
    {
      "cell_type": "markdown",
      "metadata": {
        "id": "XttWjZTm0ODq"
      },
      "source": [
        "##Models Applications"
      ]
    },
    {
      "cell_type": "markdown",
      "metadata": {
        "id": "PCWSAE1B0ODq"
      },
      "source": [
        "##UMAP testing"
      ]
    },
    {
      "cell_type": "code",
      "source": [
        "ibov_application = df_ibov.loc[(df_ibov[' Data do Bal  consolid:sim*'].astype(str)>='2021-10-01') & (df_ibov[' Data do Bal  consolid:sim*'].astype(str)<='2021-12-31')].drop(['Data','Código', ' Data do Bal  consolid:sim*','Indice'],axis='columns').replace('-',0).astype(float)\n",
        "ibov_application = ibov_application.fillna(0)"
      ],
      "metadata": {
        "id": "RFLRwMC8KLGA"
      },
      "execution_count": null,
      "outputs": []
    },
    {
      "cell_type": "code",
      "source": [
        "ibov_application.columns"
      ],
      "metadata": {
        "id": "lL820-YemFOb"
      },
      "execution_count": null,
      "outputs": []
    },
    {
      "cell_type": "code",
      "execution_count": null,
      "metadata": {
        "id": "mXdpwsBW0ODr"
      },
      "outputs": [],
      "source": [
        "columns = [#'Fechamento ajust p/ prov Em moeda orig',\n",
        "       #' Ativo Tot  ajust por infl  em milhares  consolid:sim*',\n",
        "      ' LiqCor  consolid:sim*', ' LiqSec  consolid:sim*',\n",
        "       ' Exig / PL  consolid:sim*', ' DivBr/Ebitda  de 3 meses  consolid:sim*',\n",
        "       ' Margem Liquida  de 3 meses  consolid:sim*', 'ROA de 3 meses',\n",
        "       'ROE de 3 meses', 'P/L de 3 meses ajust pela infl',\n",
        "       'Valor Mercado da empresa Em US Dollars em milhares',\n",
        "       ' Patrim Liq  Em US Dollars  em milhares  consolid:sim*',\n",
        "       'Price/Book ratio', 'EV Em US Dollars em milhares consolid:sim*',\n",
        "       'EV/EBITDA emp Em US Dollars de 3 meses consolid:sim*',\n",
        "       'P/FCF Em US Dollars de 3 meses consolid:sim*',\n",
        "       'Media do fechamento em 1 trimestre Em US Dollars ajust p/ prov',\n",
        "       'Beta Ibov', 'TIR média trimestral em 3 meses Em moeda orig',\n",
        "       'Bollinger 90/2 Média Em moeda orig',\n",
        "       'Volatilidade base trimestral 3 meses Em moeda orig', 'Sharpe Ibov',\n",
        "       'VAR % base diária confiança: 95% 3 meses Em moeda orig',\n",
        "       'Max Drd (c/rec) ajust p/ prov 3 meses Em moeda orig']\n",
        "\n",
        "for column in columns:\n",
        "  ibov_application[column] = (ibov_application[column]-min(ibov_application[column].dropna())) /(max(ibov_application[column].dropna())-min(ibov_application[column].dropna()))"
      ]
    },
    {
      "cell_type": "code",
      "execution_count": null,
      "metadata": {
        "id": "fESD-O7-0ODr"
      },
      "outputs": [],
      "source": [
        "#ibov_application = ibov_application.fillna(0)"
      ]
    },
    {
      "cell_type": "code",
      "execution_count": null,
      "metadata": {
        "id": "jLL8W2r70ODr"
      },
      "outputs": [],
      "source": [
        "ibov_data = ibov_application[columns].values\n",
        "scaled_ibov_data_data = StandardScaler().fit_transform(ibov_data)"
      ]
    },
    {
      "cell_type": "code",
      "execution_count": null,
      "metadata": {
        "id": "2k5OKSeX0ODs"
      },
      "outputs": [],
      "source": [
        "ibov_data.shape"
      ]
    },
    {
      "cell_type": "code",
      "execution_count": null,
      "metadata": {
        "id": "E3DQAQtW0ODs"
      },
      "outputs": [],
      "source": [
        "reducer = umap.UMAP()"
      ]
    },
    {
      "cell_type": "code",
      "execution_count": null,
      "metadata": {
        "id": "rz5GRup90ODs"
      },
      "outputs": [],
      "source": [
        "embedding_ibov = reducer.fit_transform(ibov_data)\n",
        "embedding_ibov.shape "
      ]
    },
    {
      "cell_type": "code",
      "execution_count": null,
      "metadata": {
        "id": "yuzxwrbF0ODs"
      },
      "outputs": [],
      "source": [
        "plt.scatter(embedding_ibov[:,0], embedding_ibov[:,1])"
      ]
    },
    {
      "cell_type": "code",
      "execution_count": null,
      "metadata": {
        "id": "tN1Nwch10ODs"
      },
      "outputs": [],
      "source": [
        "plt.scatter(\n",
        "    embedding_ibov[:, 0],\n",
        "    embedding_ibov[:, 1],\n",
        "    #c=indicators_data\n",
        "    )\n",
        "plt.gca().set_aspect('equal', 'datalim')\n",
        "plt.colorbar(boundaries=np.arange(11)-0.5).set_ticks(np.arange(10))\n",
        "plt.title('UMAP projection of the S&P500 and Ibov Index', fontsize=24)"
      ]
    },
    {
      "cell_type": "code",
      "source": [
        "data = ibov_data"
      ],
      "metadata": {
        "id": "3DoDGu6Vm1pK"
      },
      "execution_count": null,
      "outputs": []
    },
    {
      "cell_type": "code",
      "execution_count": null,
      "metadata": {
        "id": "2mUsOVaH0ODs"
      },
      "outputs": [],
      "source": [
        "def draw_umap(n_neighbors=15, min_dist=0.1, n_components=2, metric='euclidean', title=''):\n",
        "    fit = umap.UMAP(\n",
        "        n_neighbors=n_neighbors,\n",
        "        min_dist=min_dist,\n",
        "        n_components=n_components,\n",
        "        metric=metric\n",
        "    )\n",
        "    u = fit.fit_transform(data);\n",
        "    fig = plt.figure()\n",
        "    if n_components == 1:\n",
        "        ax = fig.add_subplot(111)\n",
        "        ax.scatter(u[:,0], \n",
        "                   range(len(u)), \n",
        "                   #c=data\n",
        "                   )\n",
        "    if n_components == 2:\n",
        "        ax = fig.add_subplot(111)\n",
        "        ax.scatter(u[:,0], \n",
        "                   u[:,1], \n",
        "                   #c=data\n",
        "                   )\n",
        "    if n_components == 3:\n",
        "        ax = fig.add_subplot(111, projection='3d')\n",
        "        ax.scatter(u[:,0], \n",
        "                   u[:,1], \n",
        "                   u[:,2], \n",
        "                   #c=data\n",
        "                   )\n",
        "    plt.title(title, fontsize=18)"
      ]
    },
    {
      "cell_type": "code",
      "execution_count": null,
      "metadata": {
        "id": "G1MPZWmf0ODt"
      },
      "outputs": [],
      "source": [
        "#for n in (2, 5, 10, 20, 50, 100, 200):\n",
        "#    draw_umap(n_neighbors=n, title='n_neighbors = {}'.format(n))"
      ]
    },
    {
      "cell_type": "code",
      "execution_count": null,
      "metadata": {
        "id": "o-XF-Aw_0ODt"
      },
      "outputs": [],
      "source": [
        "#for d in (0.0, 0.1, 0.25, 0.5, 0.8, 0.99):\n",
        "#    draw_umap(min_dist=d, title='min_dist = {}'.format(d))"
      ]
    },
    {
      "cell_type": "code",
      "execution_count": null,
      "metadata": {
        "id": "TA-fWVRJ0ODt"
      },
      "outputs": [],
      "source": [
        "draw_umap(n_components=3,n_neighbors=500, title='n_components = 3, n_neighbors = 500')"
      ]
    },
    {
      "cell_type": "markdown",
      "metadata": {
        "id": "ORrFdzcf0ODt"
      },
      "source": [
        "##K-Means application for UMAP output"
      ]
    },
    {
      "cell_type": "code",
      "execution_count": null,
      "metadata": {
        "id": "9cxi-Pxa0ODt"
      },
      "outputs": [],
      "source": [
        "kmeans_input_ibov = pd.DataFrame(embedding_ibov)\n",
        "kmeans_input_ibov.rename(columns={0:'x',1:'y'},inplace=True)"
      ]
    },
    {
      "cell_type": "code",
      "execution_count": null,
      "metadata": {
        "id": "OqEUeBcT0ODt"
      },
      "outputs": [],
      "source": [
        "columns = ['x','y']\n",
        "#Normalização dos dados\n",
        "for column in columns:\n",
        "  kmeans_input_ibov[column] = (kmeans_input_ibov[column]-min(kmeans_input_ibov[column].dropna()))/(max(kmeans_input_ibov[column].dropna())-min(kmeans_input_ibov[column].dropna()))"
      ]
    },
    {
      "cell_type": "code",
      "execution_count": null,
      "metadata": {
        "id": "gWcd98Wm0ODt"
      },
      "outputs": [],
      "source": [
        "X = kmeans_input_ibov.iloc[:,[0,1]].values"
      ]
    },
    {
      "cell_type": "code",
      "execution_count": null,
      "metadata": {
        "id": "zygnqe620ODu"
      },
      "outputs": [],
      "source": [
        "import pandas as pd\n",
        "import matplotlib as plt\n",
        "from sklearn.preprocessing import LabelEncoder, OneHotEncoder\n",
        "labelencoder_X = LabelEncoder()\n",
        "from sklearn.cluster import KMeans\n",
        "import numpy as np\n",
        "import matplotlib.pylab as plt\n",
        "%matplotlib inline\n",
        "from matplotlib.pylab import rcParams\n",
        "rcParams['figure.figsize'] = 15,10\n",
        "from pandas.plotting import register_matplotlib_converters\n",
        "\n",
        "from matplotlib import pyplot\n",
        "\n",
        "from sklearn.metrics import mean_squared_error\n",
        "from math import sqrt"
      ]
    },
    {
      "cell_type": "code",
      "execution_count": null,
      "metadata": {
        "id": "V5vFMk1o0ODu"
      },
      "outputs": [],
      "source": [
        "WCSS = []"
      ]
    },
    {
      "cell_type": "code",
      "execution_count": null,
      "metadata": {
        "id": "bN9K2Pi40ODu"
      },
      "outputs": [],
      "source": [
        "for i in range (1,11):\n",
        "  kmeans_ibov = KMeans(n_clusters=i,random_state=0)\n",
        "  kmeans_ibov.fit(X)\n",
        "  WCSS.append(kmeans_ibov.inertia_)"
      ]
    },
    {
      "cell_type": "code",
      "execution_count": null,
      "metadata": {
        "id": "YXUJ-7r60ODu"
      },
      "outputs": [],
      "source": [
        "plt.plot(range(1,11),WCSS)\n",
        "plt.xlabel('Numero de clusters')\n",
        "plt.ylabel('wcss')"
      ]
    },
    {
      "cell_type": "code",
      "execution_count": null,
      "metadata": {
        "id": "piNLA0Ce0ODu"
      },
      "outputs": [],
      "source": [
        "kmeans_ibov = KMeans(n_clusters=4, random_state=0)\n",
        "previsoes = kmeans_ibov.fit_predict(X)"
      ]
    },
    {
      "cell_type": "code",
      "execution_count": null,
      "metadata": {
        "id": "CXMJLDYf0ODu"
      },
      "outputs": [],
      "source": [
        "plt.scatter(X[previsoes == 0,0], X[previsoes == 0,1],s=100, c='red', label = 'Cluster 1')\n",
        "plt.scatter(X[previsoes == 1,0], X[previsoes == 1,1],s=100, c='green', label = 'Cluster 2')\n",
        "plt.scatter(X[previsoes == 2,0], X[previsoes == 2,1],s=100, c='blue', label = 'Cluster 3')\n",
        "plt.scatter(X[previsoes == 3,0], X[previsoes == 3,1],s=100, c='yellow', label = 'Cluster 4')\n",
        "#plt.scatter(X[previsoes == 4,0], X[previsoes == 4,1],s=100, c='yellow', label = 'Cluster 5')"
      ]
    },
    {
      "cell_type": "code",
      "execution_count": null,
      "metadata": {
        "id": "9m1WS1KL0ODv"
      },
      "outputs": [],
      "source": [
        "kmeans_output_ibov = pd.DataFrame(np.column_stack((kmeans_input_ibov, previsoes)))"
      ]
    },
    {
      "cell_type": "code",
      "execution_count": null,
      "metadata": {
        "id": "unfffedm0ODv"
      },
      "outputs": [],
      "source": [
        "kmeans_output_ibov"
      ]
    },
    {
      "cell_type": "code",
      "execution_count": null,
      "metadata": {
        "id": "W4DLZ0IY0ODv"
      },
      "outputs": [],
      "source": [
        "kmeans_output_ibov = kmeans_output_ibov.rename(columns={0:'x',1:'y',2:'Cluster'})"
      ]
    },
    {
      "cell_type": "code",
      "execution_count": null,
      "metadata": {
        "id": "VB8SqJha0ODv"
      },
      "outputs": [],
      "source": [
        "#preenchendo a coluna de clusters no dataframe principal\n",
        "ibov_application['Cluster UMAP K-Means'] = ''\n",
        "for i in range(0,len(ibov_application)):\n",
        "  cluster = int(kmeans_output_ibov['Cluster'].iloc[i])\n",
        "  ibov_application['Cluster UMAP K-Means'].iloc[i] = int(cluster)"
      ]
    },
    {
      "cell_type": "code",
      "execution_count": null,
      "metadata": {
        "id": "r0qAf3Dk0ODv"
      },
      "outputs": [],
      "source": [
        "kmeans_output_ibov.groupby('Cluster',dropna=False).count()"
      ]
    },
    {
      "cell_type": "markdown",
      "metadata": {
        "id": "jLah8L1z0ODx"
      },
      "source": [
        "##K-Means application for the same features used in UMAP"
      ]
    },
    {
      "cell_type": "code",
      "execution_count": null,
      "metadata": {
        "id": "ax50CAUK0ODx"
      },
      "outputs": [],
      "source": [
        "ibov_data.shape"
      ]
    },
    {
      "cell_type": "code",
      "execution_count": null,
      "metadata": {
        "id": "eJdlaT7f0ODx"
      },
      "outputs": [],
      "source": [
        "X = ibov_data#.iloc[:,[0,13]].values"
      ]
    },
    {
      "cell_type": "code",
      "execution_count": null,
      "metadata": {
        "id": "eGgfwl_D0ODx"
      },
      "outputs": [],
      "source": [
        "import pandas as pd\n",
        "import matplotlib as plt\n",
        "from sklearn.preprocessing import LabelEncoder, OneHotEncoder\n",
        "labelencoder_X = LabelEncoder()\n",
        "from sklearn.cluster import KMeans\n",
        "import numpy as np\n",
        "import matplotlib.pylab as plt\n",
        "%matplotlib inline\n",
        "from matplotlib.pylab import rcParams\n",
        "rcParams['figure.figsize'] = 30,12\n",
        "from pandas.plotting import register_matplotlib_converters\n",
        "\n",
        "from matplotlib import pyplot\n",
        "\n",
        "from sklearn.metrics import mean_squared_error\n",
        "from math import sqrt"
      ]
    },
    {
      "cell_type": "code",
      "execution_count": null,
      "metadata": {
        "id": "0EeEjaqQ0ODx"
      },
      "outputs": [],
      "source": [
        "X"
      ]
    },
    {
      "cell_type": "code",
      "execution_count": null,
      "metadata": {
        "id": "1Kqeo3H60ODx"
      },
      "outputs": [],
      "source": [
        "WCSS = []"
      ]
    },
    {
      "cell_type": "code",
      "execution_count": null,
      "metadata": {
        "id": "xPK8UnmK0ODx"
      },
      "outputs": [],
      "source": [
        "for i in range (1,11):\n",
        "  kmeans_ibov = KMeans(n_clusters=i,random_state=0)\n",
        "  kmeans_ibov.fit(X)\n",
        "  WCSS.append(kmeans_ibov.inertia_)"
      ]
    },
    {
      "cell_type": "code",
      "execution_count": null,
      "metadata": {
        "id": "EeY2A2m70ODy"
      },
      "outputs": [],
      "source": [
        "plt.plot(range(1,11),WCSS)\n",
        "plt.xlabel('Numero de clusters')\n",
        "plt.ylabel('wcss')"
      ]
    },
    {
      "cell_type": "code",
      "execution_count": null,
      "metadata": {
        "id": "g2yY8GPd0ODy"
      },
      "outputs": [],
      "source": [
        "kmeans_ibov = KMeans(n_clusters=3, random_state=0)\n",
        "previsoes = kmeans_ibov.fit_predict(X)"
      ]
    },
    {
      "cell_type": "code",
      "execution_count": null,
      "metadata": {
        "id": "byMCV8i10ODy"
      },
      "outputs": [],
      "source": [
        "kmeans_output_ibov = pd.DataFrame(np.column_stack((kmeans_input_ibov, previsoes)))"
      ]
    },
    {
      "cell_type": "code",
      "execution_count": null,
      "metadata": {
        "id": "-6cE4V6r0ODy"
      },
      "outputs": [],
      "source": [
        "kmeans_output_ibov = kmeans_output_ibov.rename(columns={0:'x',1:'y',2:'Cluster'})"
      ]
    },
    {
      "cell_type": "code",
      "execution_count": null,
      "metadata": {
        "id": "FpnSzyMK0ODy"
      },
      "outputs": [],
      "source": [
        "ibov_application['Cluster k-means'] = ''\n",
        "for i in range(0,len(ibov_application)):\n",
        "  cluster = int(kmeans_output_ibov['Cluster'].iloc[i])\n",
        "  ibov_application['Cluster k-means'].iloc[i] = int(cluster)"
      ]
    },
    {
      "cell_type": "code",
      "execution_count": null,
      "metadata": {
        "id": "Azy54G880ODy"
      },
      "outputs": [],
      "source": [
        "kmeans_output_ibov.groupby('Cluster',dropna=False).count()"
      ]
    },
    {
      "cell_type": "code",
      "execution_count": null,
      "metadata": {
        "id": "xPBdH5cK0ODz"
      },
      "outputs": [],
      "source": [
        "ibov_application"
      ]
    },
    {
      "cell_type": "markdown",
      "metadata": {
        "id": "lGg3ji1H0ODz"
      },
      "source": [
        "##PAM"
      ]
    },
    {
      "cell_type": "code",
      "execution_count": null,
      "metadata": {
        "id": "8MUoPmSu0ODz"
      },
      "outputs": [],
      "source": [
        "!pip install scikit-learn-extra"
      ]
    },
    {
      "cell_type": "code",
      "execution_count": null,
      "metadata": {
        "id": "px3ttjTC0ODz"
      },
      "outputs": [],
      "source": [
        "# — — — — — — -Importing Packages — — — — — — — — — — — -\n",
        "from sklearn_extra.cluster import KMedoids"
      ]
    },
    {
      "cell_type": "code",
      "execution_count": null,
      "metadata": {
        "id": "TkpKYUhBwoyE"
      },
      "outputs": [],
      "source": [
        "PAM_input_ibov = pd.DataFrame(embedding_ibov)\n",
        "PAM_input_ibov.rename(columns={0:'x',1:'y'},inplace=True)"
      ]
    },
    {
      "cell_type": "code",
      "execution_count": null,
      "metadata": {
        "id": "HCq8hXiKwoyF"
      },
      "outputs": [],
      "source": [
        "columns = ['x','y']\n",
        "#Normalização dos dados\n",
        "for column in columns:\n",
        "  PAM_input_ibov[column] = (PAM_input_ibov[column]-min(PAM_input_ibov[column].dropna()))/(max(PAM_input_ibov[column].dropna())-min(PAM_input_ibov[column].dropna()))"
      ]
    },
    {
      "cell_type": "code",
      "execution_count": null,
      "metadata": {
        "id": "2YwcNNPYwoyF"
      },
      "outputs": [],
      "source": [
        "X = PAM_input_ibov.iloc[:,[0,1]].values"
      ]
    },
    {
      "cell_type": "code",
      "execution_count": null,
      "metadata": {
        "id": "VIjSp33V0ODz"
      },
      "outputs": [],
      "source": [
        "kmedoids = KMedoids(n_clusters=4, random_state=0).fit(X)"
      ]
    },
    {
      "cell_type": "code",
      "execution_count": null,
      "metadata": {
        "id": "qgf4ixKm0ODz"
      },
      "outputs": [],
      "source": [
        "import random"
      ]
    },
    {
      "cell_type": "code",
      "execution_count": null,
      "metadata": {
        "id": "v8GsODnK0ODz"
      },
      "outputs": [],
      "source": [
        "X[random.randint(0, len(kmeans_input_ibov.iloc[:,[0,1]].values))]"
      ]
    },
    {
      "cell_type": "code",
      "execution_count": null,
      "metadata": {
        "id": "5OprUB410OD0"
      },
      "outputs": [],
      "source": [
        "kmedoids.predict([X[random.randint(0, len(X))],\n",
        "                  X[random.randint(0, len(X))],\n",
        "                  X[random.randint(0, len(X))],\n",
        "                  X[random.randint(0, len(X))]])"
      ]
    },
    {
      "cell_type": "code",
      "execution_count": null,
      "metadata": {
        "id": "sKrrHFak0OD0"
      },
      "outputs": [],
      "source": [
        "kmedoids.cluster_centers_"
      ]
    },
    {
      "cell_type": "code",
      "execution_count": null,
      "metadata": {
        "id": "IZoPkssu0OD0"
      },
      "outputs": [],
      "source": [
        "kmedoids.inertia_"
      ]
    },
    {
      "cell_type": "code",
      "execution_count": null,
      "metadata": {
        "id": "lK2CQkOD0OD0"
      },
      "outputs": [],
      "source": [
        "labels = kmedoids.labels_\n",
        "\n",
        "unique_labels = set(labels)\n",
        "colors = [\n",
        "    plt.cm.Spectral(each) for each in np.linspace(0, 1, len(unique_labels))\n",
        "]\n",
        "for k, col in zip(unique_labels, colors):\n",
        "\n",
        "    class_member_mask = labels == k\n",
        "\n",
        "    xy = X[class_member_mask]\n",
        "    plt.plot(\n",
        "        xy[:, 0],\n",
        "        xy[:, 1],\n",
        "        \"o\",\n",
        "        markerfacecolor=tuple(col),\n",
        "        markeredgecolor=\"k\",\n",
        "        markersize=6,\n",
        "    )\n",
        "\n",
        "plt.plot(\n",
        "    kmedoids.cluster_centers_[:, 0],\n",
        "    kmedoids.cluster_centers_[:, 1],\n",
        "    \"o\",\n",
        "    markerfacecolor=\"cyan\",\n",
        "    markeredgecolor=\"k\",\n",
        "    markersize=6,\n",
        ")\n",
        "\n",
        "plt.title(\"KMedoids clustering. Medoids are represented in cyan.\")"
      ]
    },
    {
      "cell_type": "code",
      "execution_count": null,
      "metadata": {
        "id": "D2Uxf8bH0OD0"
      },
      "outputs": [],
      "source": [
        "kmedoids.cluster_centers_"
      ]
    },
    {
      "cell_type": "code",
      "execution_count": null,
      "metadata": {
        "id": "TlSPSEQS0OD0"
      },
      "outputs": [],
      "source": [
        "kmedoids.labels_"
      ]
    },
    {
      "cell_type": "code",
      "source": [
        "ibov_application['Cluster PAM'] = ''\n",
        "for i in range(0,len(ibov_application)):\n",
        "  cluster = int(kmedoids.labels_[i])\n",
        "  ibov_application['Cluster PAM'].iloc[i] = int(cluster)"
      ],
      "metadata": {
        "id": "4c2EgB6qxS3r"
      },
      "execution_count": null,
      "outputs": []
    },
    {
      "cell_type": "markdown",
      "source": [
        "## Consolidação"
      ],
      "metadata": {
        "id": "YXyuJHZ0txmC"
      }
    },
    {
      "cell_type": "code",
      "source": [
        "ibov_application.columns"
      ],
      "metadata": {
        "id": "d88mzxfEtxmC"
      },
      "execution_count": null,
      "outputs": []
    },
    {
      "cell_type": "code",
      "source": [
        "len(ibov_application) - len(df_ibov)"
      ],
      "metadata": {
        "id": "CJ58-o7AtxmC"
      },
      "execution_count": null,
      "outputs": []
    },
    {
      "cell_type": "code",
      "source": [
        ""
      ],
      "metadata": {
        "id": "gEt3tvk1KaJi"
      },
      "execution_count": null,
      "outputs": []
    },
    {
      "cell_type": "code",
      "source": [
        "df_ibov['Cluster UMAP K-Means'] = ''\n",
        "df_ibov['Cluster k-means'] = ''\n",
        "df_ibov['Cluster PAM'] = ''"
      ],
      "metadata": {
        "id": "j79qhTU_KaRk"
      },
      "execution_count": null,
      "outputs": []
    },
    {
      "cell_type": "code",
      "source": [
        "df_ibov.loc[(df_ibov[' Data do Bal  consolid:sim*'].astype(str)>='2021-10-01') & (df_ibov[' Data do Bal  consolid:sim*'].astype(str)<='2021-12-31'),'Cluster UMAP K-Means'] = ibov_application['Cluster UMAP K-Means'].astype(float)\n",
        "df_ibov.loc[(df_ibov[' Data do Bal  consolid:sim*'].astype(str)>='2021-10-01') & (df_ibov[' Data do Bal  consolid:sim*'].astype(str)<='2021-12-31'),'Cluster k-means'] = ibov_application['Cluster k-means'].astype(float)\n",
        "df_ibov.loc[(df_ibov[' Data do Bal  consolid:sim*'].astype(str)>='2021-10-01') & (df_ibov[' Data do Bal  consolid:sim*'].astype(str)<='2021-12-31'),'Cluster PAM'] = ibov_application['Cluster PAM'].astype(float)"
      ],
      "metadata": {
        "id": "IjVnpOwrKaRl"
      },
      "execution_count": null,
      "outputs": []
    },
    {
      "cell_type": "code",
      "source": [
        "ibov_dtref = df_ibov.loc[(df_ibov[' Data do Bal  consolid:sim*'].astype(str)>='2021-10-01') & (df_ibov[' Data do Bal  consolid:sim*'].astype(str)<='2021-12-31')]"
      ],
      "metadata": {
        "id": "QUMs4eljKaRm"
      },
      "execution_count": null,
      "outputs": []
    },
    {
      "cell_type": "code",
      "source": [
        "ibov_dtref[['Cluster UMAP K-Means', 'Cluster k-means', 'Cluster PAM']] = ibov_dtref[['Cluster UMAP K-Means', 'Cluster k-means', 'Cluster PAM']].astype(float)"
      ],
      "metadata": {
        "id": "LzhM6QUlKaRm"
      },
      "execution_count": null,
      "outputs": []
    },
    {
      "cell_type": "code",
      "source": [
        "ibov_dtref.loc[(ibov_dtref[' Data do Bal  consolid:sim*'].astype(str)>='2021-12-01') & (ibov_dtref[' Data do Bal  consolid:sim*'].astype(str)<='2021-12-31')][' Data do Bal  consolid:sim*'].drop_duplicates().reset_index().sort_values(by=' Data do Bal  consolid:sim*')"
      ],
      "metadata": {
        "id": "ymGNdr9NKaRn"
      },
      "execution_count": null,
      "outputs": []
    },
    {
      "cell_type": "code",
      "source": [
        "ibov_dtref.loc[(ibov_dtref[' Data do Bal  consolid:sim*'].astype(str)>='2021-10-01') & (ibov_dtref[' Data do Bal  consolid:sim*'].astype(str)<='2021-12-31')]['Código'].drop_duplicates().reset_index().sort_values(by='Código')"
      ],
      "metadata": {
        "id": "x8Rmn0Q6KaRn"
      },
      "execution_count": null,
      "outputs": []
    },
    {
      "cell_type": "markdown",
      "metadata": {
        "id": "NpP7xKz2xTLp"
      },
      "source": [
        "# S&P500"
      ]
    },
    {
      "cell_type": "markdown",
      "metadata": {
        "id": "We6wOSgwxTLr"
      },
      "source": [
        "##Models Applications"
      ]
    },
    {
      "cell_type": "markdown",
      "metadata": {
        "id": "TCyzECS7xTLr"
      },
      "source": [
        "##UMAP testing"
      ]
    },
    {
      "cell_type": "code",
      "source": [
        "df_sp500 = pd.read_excel('/content/drive/MyDrive/IC ITA/df_SP500_Final.xlsx')\n",
        "df_sp500['Indice'] = 'S&P500'"
      ],
      "metadata": {
        "id": "V1qgMVjdV_mA"
      },
      "execution_count": null,
      "outputs": []
    },
    {
      "cell_type": "code",
      "execution_count": null,
      "metadata": {
        "id": "AsiY9wsvxTLr"
      },
      "outputs": [],
      "source": [
        "sp500_application = df_sp500.loc[(df_sp500[' Data do Bal  consolid:sim*'].astype(str)>='2021-10-01') & (df_sp500[' Data do Bal  consolid:sim*'].astype(str)<='2021-12-31')].drop(['Data','Código', ' Data do Bal  consolid:sim*','Indice'],axis='columns').replace('-',0).astype(float)\n",
        "sp500_application = sp500_application.fillna(0)"
      ]
    },
    {
      "cell_type": "code",
      "source": [
        "df_sp500.loc[(df_sp500[' Data do Bal  consolid:sim*'].astype(str)>='2021-10-01') & (df_sp500[' Data do Bal  consolid:sim*'].astype(str)<='2021-12-31')].drop(['Data','Código', ' Data do Bal  consolid:sim*','Indice'],axis='columns').replace('-',0).astype(float)"
      ],
      "metadata": {
        "id": "beRNb-MUVuec"
      },
      "execution_count": null,
      "outputs": []
    },
    {
      "cell_type": "code",
      "source": [
        "df_sp500.dtypes"
      ],
      "metadata": {
        "id": "DV3OwXWDVx63"
      },
      "execution_count": null,
      "outputs": []
    },
    {
      "cell_type": "code",
      "source": [
        "sp500_application.columns"
      ],
      "metadata": {
        "id": "BOezXPWnxTLs"
      },
      "execution_count": null,
      "outputs": []
    },
    {
      "cell_type": "code",
      "execution_count": null,
      "metadata": {
        "id": "R107m5USxTLs"
      },
      "outputs": [],
      "source": [
        "columns = [' LiqCor  consolid:sim*', ' LiqSec  consolid:sim*',\n",
        "       ' Exig / PL  consolid:sim*', ' DivBr/Ebitda  de 3 meses  consolid:sim*',\n",
        "       ' Margem Liquida  de 3 meses  consolid:sim*', 'ROA de 3 meses',\n",
        "       'ROE de 3 meses', 'P/L de 3 meses ajust pela infl',\n",
        "       'Valor Mercado da empresa Em US Dollars em milhares',\n",
        "       ' Patrim Liq  Em US Dollars  em milhares  consolid:sim*',\n",
        "       'Price/Book ratio', 'EV Em US Dollars em milhares consolid:sim*',\n",
        "       'EV/EBITDA emp Em US Dollars de 3 meses consolid:sim*',\n",
        "       'P/FCF Em US Dollars de 3 meses consolid:sim*',\n",
        "       'Media do fechamento em 1 trimestre Em US Dollars ajust p/ prov',\n",
        "       'Beta sp500', 'TIR média trimestral em 3 meses Em moeda orig',\n",
        "       'Bollinger 90/2 Média Em moeda orig',\n",
        "       'Volatilidade base trimestral 3 meses Em moeda orig', 'Sharpe SP500',\n",
        "       'VAR % base diária confiança: 95% 3 meses Em moeda orig',\n",
        "       'Max Drd (c/rec) ajust p/ prov 3 meses Em moeda orig']\n",
        "\n",
        "for column in columns:\n",
        "  sp500_application[column] = (sp500_application[column]-min(sp500_application[column].dropna())) /(max(sp500_application[column].dropna())-min(sp500_application[column].dropna()))"
      ]
    },
    {
      "cell_type": "code",
      "execution_count": null,
      "metadata": {
        "id": "NKUVnmLBxTLs"
      },
      "outputs": [],
      "source": [
        "sp500_application = sp500_application.fillna(0)"
      ]
    },
    {
      "cell_type": "code",
      "execution_count": null,
      "metadata": {
        "id": "aY_7PPuvxTLs"
      },
      "outputs": [],
      "source": [
        "sp500_data = sp500_application[columns].values\n",
        "scaled_sp500_data_data = StandardScaler().fit_transform(sp500_data)"
      ]
    },
    {
      "cell_type": "code",
      "execution_count": null,
      "metadata": {
        "id": "4Doch5kPxTLs"
      },
      "outputs": [],
      "source": [
        "sp500_data.shape"
      ]
    },
    {
      "cell_type": "code",
      "execution_count": null,
      "metadata": {
        "id": "7MIkOhczxTLt"
      },
      "outputs": [],
      "source": [
        "reducer = umap.UMAP(n_neighbors=200)"
      ]
    },
    {
      "cell_type": "code",
      "execution_count": null,
      "metadata": {
        "id": "M-SQJxkdxTLt"
      },
      "outputs": [],
      "source": [
        "embedding_sp500 = reducer.fit_transform(sp500_data)\n",
        "embedding_sp500.shape "
      ]
    },
    {
      "cell_type": "code",
      "execution_count": null,
      "metadata": {
        "id": "0D8Gmn9exTLt"
      },
      "outputs": [],
      "source": [
        "plt.scatter(embedding_sp500[:,0], embedding_sp500[:,1])"
      ]
    },
    {
      "cell_type": "code",
      "execution_count": null,
      "metadata": {
        "id": "j-hK7qugxTLt"
      },
      "outputs": [],
      "source": [
        "plt.scatter(\n",
        "    embedding_sp500[:, 0],\n",
        "    embedding_sp500[:, 1],\n",
        "    #c=indicators_data\n",
        "    )\n",
        "plt.gca().set_aspect('equal', 'datalim')\n",
        "plt.colorbar(boundaries=np.arange(11)-0.5).set_ticks(np.arange(10))\n",
        "plt.title('UMAP projection of the S&P500 and sp500 Index', fontsize=24)"
      ]
    },
    {
      "cell_type": "code",
      "source": [
        "data = sp500_data"
      ],
      "metadata": {
        "id": "Y7j4dqH9xTLt"
      },
      "execution_count": null,
      "outputs": []
    },
    {
      "cell_type": "code",
      "execution_count": null,
      "metadata": {
        "id": "31ae1TcoxTLu"
      },
      "outputs": [],
      "source": [
        "def draw_umap(n_neighbors=15, min_dist=0.1, n_components=2, metric='euclidean', title=''):\n",
        "    fit = umap.UMAP(\n",
        "        n_neighbors=n_neighbors,\n",
        "        min_dist=min_dist,\n",
        "        n_components=n_components,\n",
        "        metric=metric\n",
        "    )\n",
        "    u = fit.fit_transform(data);\n",
        "    fig = plt.figure()\n",
        "    if n_components == 1:\n",
        "        ax = fig.add_subplot(111)\n",
        "        ax.scatter(u[:,0], \n",
        "                   range(len(u)), \n",
        "                   #c=data\n",
        "                   )\n",
        "    if n_components == 2:\n",
        "        ax = fig.add_subplot(111)\n",
        "        ax.scatter(u[:,0], \n",
        "                   u[:,1], \n",
        "                   #c=data\n",
        "                   )\n",
        "    if n_components == 3:\n",
        "        ax = fig.add_subplot(111, projection='3d')\n",
        "        ax.scatter(u[:,0], \n",
        "                   u[:,1], \n",
        "                   u[:,2], \n",
        "                   #c=data\n",
        "                   )\n",
        "    plt.title(title, fontsize=18)"
      ]
    },
    {
      "cell_type": "code",
      "execution_count": null,
      "metadata": {
        "id": "3m0CL1xAxTLu"
      },
      "outputs": [],
      "source": [
        "#for n in (2, 5, 10, 20, 50, 100, 200,500):\n",
        "#    draw_umap(n_neighbors=n, title='n_neighbors = {}'.format(n))"
      ]
    },
    {
      "cell_type": "code",
      "execution_count": null,
      "metadata": {
        "id": "6u7uDHaAxTLu"
      },
      "outputs": [],
      "source": [
        "#for d in (0.0, 0.1, 0.25, 0.5, 0.8, 0.99):\n",
        "#    draw_umap(min_dist=d, title='min_dist = {}'.format(d))"
      ]
    },
    {
      "cell_type": "code",
      "execution_count": null,
      "metadata": {
        "id": "d31rKb7CxTLu"
      },
      "outputs": [],
      "source": [
        "draw_umap(n_components=3,n_neighbors=500, title='n_components = 3, n_neighbors = 500')"
      ]
    },
    {
      "cell_type": "markdown",
      "metadata": {
        "id": "L-66HpEfxTLv"
      },
      "source": [
        "##K-Means application for UMAP output"
      ]
    },
    {
      "cell_type": "code",
      "execution_count": null,
      "metadata": {
        "id": "H21Qf_z7xTLv"
      },
      "outputs": [],
      "source": [
        "kmeans_input_sp500 = pd.DataFrame(embedding_sp500)\n",
        "kmeans_input_sp500.rename(columns={0:'x',1:'y'},inplace=True)"
      ]
    },
    {
      "cell_type": "code",
      "execution_count": null,
      "metadata": {
        "id": "s1hTxpzBxTLv"
      },
      "outputs": [],
      "source": [
        "columns = ['x','y']\n",
        "#Normalização dos dados\n",
        "for column in columns:\n",
        "  kmeans_input_sp500[column] = (kmeans_input_sp500[column]-min(kmeans_input_sp500[column].dropna()))/(max(kmeans_input_sp500[column].dropna())-min(kmeans_input_sp500[column].dropna()))"
      ]
    },
    {
      "cell_type": "code",
      "execution_count": null,
      "metadata": {
        "id": "nepqU8yhxTLv"
      },
      "outputs": [],
      "source": [
        "X = kmeans_input_sp500.iloc[:,[0,1]].values"
      ]
    },
    {
      "cell_type": "code",
      "execution_count": null,
      "metadata": {
        "id": "zqBoPk2wxTLv"
      },
      "outputs": [],
      "source": [
        "import pandas as pd\n",
        "import matplotlib as plt\n",
        "from sklearn.preprocessing import LabelEncoder, OneHotEncoder\n",
        "labelencoder_X = LabelEncoder()\n",
        "from sklearn.cluster import KMeans\n",
        "import numpy as np\n",
        "import matplotlib.pylab as plt\n",
        "%matplotlib inline\n",
        "from matplotlib.pylab import rcParams\n",
        "rcParams['figure.figsize'] = 15,10\n",
        "from pandas.plotting import register_matplotlib_converters\n",
        "\n",
        "from matplotlib import pyplot\n",
        "\n",
        "from sklearn.metrics import mean_squared_error\n",
        "from math import sqrt"
      ]
    },
    {
      "cell_type": "code",
      "execution_count": null,
      "metadata": {
        "id": "g2LEaE3LxTLw"
      },
      "outputs": [],
      "source": [
        "WCSS = []"
      ]
    },
    {
      "cell_type": "code",
      "execution_count": null,
      "metadata": {
        "id": "LqFl7WeaxTLw"
      },
      "outputs": [],
      "source": [
        "for i in range (1,11):\n",
        "  kmeans_sp500 = KMeans(n_clusters=i,random_state=0)\n",
        "  kmeans_sp500.fit(X)\n",
        "  WCSS.append(kmeans_sp500.inertia_)"
      ]
    },
    {
      "cell_type": "code",
      "execution_count": null,
      "metadata": {
        "id": "w2P29kLuxTLw"
      },
      "outputs": [],
      "source": [
        "plt.plot(range(1,11),WCSS)\n",
        "plt.xlabel('Numero de clusters')\n",
        "plt.ylabel('wcss')"
      ]
    },
    {
      "cell_type": "code",
      "execution_count": null,
      "metadata": {
        "id": "yJ-APp17xTLw"
      },
      "outputs": [],
      "source": [
        "kmeans_sp500 = KMeans(n_clusters=5, random_state=0)\n",
        "previsoes = kmeans_sp500.fit_predict(X)"
      ]
    },
    {
      "cell_type": "code",
      "execution_count": null,
      "metadata": {
        "id": "KnadeOWixTLw"
      },
      "outputs": [],
      "source": [
        "plt.scatter(X[previsoes == 0,0], X[previsoes == 0,1],s=100, c='red', label = 'Cluster 1')\n",
        "plt.scatter(X[previsoes == 1,0], X[previsoes == 1,1],s=100, c='green', label = 'Cluster 2')\n",
        "plt.scatter(X[previsoes == 2,0], X[previsoes == 2,1],s=100, c='blue', label = 'Cluster 3')\n",
        "plt.scatter(X[previsoes == 3,0], X[previsoes == 3,1],s=100, c='yellow', label = 'Cluster 4')\n",
        "plt.scatter(X[previsoes == 4,0], X[previsoes == 4,1],s=100, c='orange', label = 'Cluster 5')"
      ]
    },
    {
      "cell_type": "code",
      "execution_count": null,
      "metadata": {
        "id": "CdW-NaBNxTLw"
      },
      "outputs": [],
      "source": [
        "kmeans_output_sp500 = pd.DataFrame(np.column_stack((kmeans_input_sp500, previsoes)))"
      ]
    },
    {
      "cell_type": "code",
      "execution_count": null,
      "metadata": {
        "id": "sth4TwypxTLx"
      },
      "outputs": [],
      "source": [
        "kmeans_output_sp500"
      ]
    },
    {
      "cell_type": "code",
      "execution_count": null,
      "metadata": {
        "id": "NuR_yiMPxTLx"
      },
      "outputs": [],
      "source": [
        "kmeans_output_sp500 = kmeans_output_sp500.rename(columns={0:'x',1:'y',2:'Cluster'})"
      ]
    },
    {
      "cell_type": "code",
      "execution_count": null,
      "metadata": {
        "id": "vqWpbQKNxTLx"
      },
      "outputs": [],
      "source": [
        "#preenchendo a coluna de clusters no dataframe principal\n",
        "sp500_application['Cluster UMAP K-Means'] = ''\n",
        "for i in range(0,len(sp500_application)):\n",
        "  cluster = int(kmeans_output_sp500['Cluster'].iloc[i])\n",
        "  sp500_application['Cluster UMAP K-Means'].iloc[i] = int(cluster)"
      ]
    },
    {
      "cell_type": "code",
      "execution_count": null,
      "metadata": {
        "id": "TSvu78imxTLx"
      },
      "outputs": [],
      "source": [
        "kmeans_output_sp500.groupby('Cluster',dropna=False).count()"
      ]
    },
    {
      "cell_type": "markdown",
      "metadata": {
        "id": "lzD3H7SoxTLx"
      },
      "source": [
        "##K-Means application for the same features used in UMAP"
      ]
    },
    {
      "cell_type": "code",
      "execution_count": null,
      "metadata": {
        "id": "hP2O8LIixTLy"
      },
      "outputs": [],
      "source": [
        "sp500_data.shape"
      ]
    },
    {
      "cell_type": "code",
      "execution_count": null,
      "metadata": {
        "id": "j8SLhurLxTLy"
      },
      "outputs": [],
      "source": [
        "X = sp500_data#.iloc[:,[0,13]].values"
      ]
    },
    {
      "cell_type": "code",
      "execution_count": null,
      "metadata": {
        "id": "N5d8cmlyxTLy"
      },
      "outputs": [],
      "source": [
        "import pandas as pd\n",
        "import matplotlib as plt\n",
        "from sklearn.preprocessing import LabelEncoder, OneHotEncoder\n",
        "labelencoder_X = LabelEncoder()\n",
        "from sklearn.cluster import KMeans\n",
        "import numpy as np\n",
        "import matplotlib.pylab as plt\n",
        "%matplotlib inline\n",
        "from matplotlib.pylab import rcParams\n",
        "rcParams['figure.figsize'] = 30,12\n",
        "from pandas.plotting import register_matplotlib_converters\n",
        "\n",
        "from matplotlib import pyplot\n",
        "\n",
        "from sklearn.metrics import mean_squared_error\n",
        "from math import sqrt"
      ]
    },
    {
      "cell_type": "code",
      "execution_count": null,
      "metadata": {
        "id": "fXhdNEYdxTLy"
      },
      "outputs": [],
      "source": [
        "X"
      ]
    },
    {
      "cell_type": "code",
      "execution_count": null,
      "metadata": {
        "id": "cl2rcLfgxTLy"
      },
      "outputs": [],
      "source": [
        "WCSS = []"
      ]
    },
    {
      "cell_type": "code",
      "execution_count": null,
      "metadata": {
        "id": "bkk2RlhXxTLy"
      },
      "outputs": [],
      "source": [
        "for i in range (1,11):\n",
        "  kmeans_sp500 = KMeans(n_clusters=i,random_state=0)\n",
        "  kmeans_sp500.fit(X)\n",
        "  WCSS.append(kmeans_sp500.inertia_)"
      ]
    },
    {
      "cell_type": "code",
      "execution_count": null,
      "metadata": {
        "id": "ev_MmNOAxTLz"
      },
      "outputs": [],
      "source": [
        "plt.plot(range(1,11),WCSS)\n",
        "plt.xlabel('Numero de clusters')\n",
        "plt.ylabel('wcss')"
      ]
    },
    {
      "cell_type": "code",
      "execution_count": null,
      "metadata": {
        "id": "D30lbqVMxTLz"
      },
      "outputs": [],
      "source": [
        "kmeans_sp500 = KMeans(n_clusters=4, random_state=0)\n",
        "previsoes = kmeans_sp500.fit_predict(X)"
      ]
    },
    {
      "cell_type": "code",
      "execution_count": null,
      "metadata": {
        "id": "Av95VT8JxTLz"
      },
      "outputs": [],
      "source": [
        "kmeans_output_sp500 = pd.DataFrame(np.column_stack((kmeans_input_sp500, previsoes)))"
      ]
    },
    {
      "cell_type": "code",
      "execution_count": null,
      "metadata": {
        "id": "rJmMZ8orxTLz"
      },
      "outputs": [],
      "source": [
        "kmeans_output_sp500 = kmeans_output_sp500.rename(columns={0:'x',1:'y',2:'Cluster'})"
      ]
    },
    {
      "cell_type": "code",
      "execution_count": null,
      "metadata": {
        "id": "YGBfAicWxTLz"
      },
      "outputs": [],
      "source": [
        "sp500_application['Cluster k-means'] = ''\n",
        "for i in range(0,len(sp500_application)):\n",
        "  cluster = int(kmeans_output_sp500['Cluster'].iloc[i])\n",
        "  sp500_application['Cluster k-means'].iloc[i] = int(cluster)"
      ]
    },
    {
      "cell_type": "code",
      "execution_count": null,
      "metadata": {
        "id": "kBJhz6rMxTL0"
      },
      "outputs": [],
      "source": [
        "kmeans_output_sp500.groupby('Cluster',dropna=False).count()"
      ]
    },
    {
      "cell_type": "code",
      "execution_count": null,
      "metadata": {
        "id": "ZFNyecepxTL0"
      },
      "outputs": [],
      "source": [
        "sp500_application"
      ]
    },
    {
      "cell_type": "markdown",
      "metadata": {
        "id": "yGWs22u0xTL1"
      },
      "source": [
        "##PAM"
      ]
    },
    {
      "cell_type": "code",
      "execution_count": null,
      "metadata": {
        "id": "zKtaPh7VxTL1"
      },
      "outputs": [],
      "source": [
        "!pip install scikit-learn-extra"
      ]
    },
    {
      "cell_type": "code",
      "execution_count": null,
      "metadata": {
        "id": "jGk3DXeUxTL1"
      },
      "outputs": [],
      "source": [
        "# — — — — — — -Importing Packages — — — — — — — — — — — -\n",
        "import matplotlib.pyplot as plt\n",
        "import numpy as np\n",
        "from sklearn_extra.cluster import KMedoids"
      ]
    },
    {
      "cell_type": "code",
      "execution_count": null,
      "metadata": {
        "id": "mg4XRTl4xTL1"
      },
      "outputs": [],
      "source": [
        "PAM_input_sp500 = pd.DataFrame(embedding_sp500)\n",
        "PAM_input_sp500.rename(columns={0:'x',1:'y'},inplace=True)"
      ]
    },
    {
      "cell_type": "code",
      "execution_count": null,
      "metadata": {
        "id": "US2MT3DuxTL1"
      },
      "outputs": [],
      "source": [
        "columns = ['x','y']\n",
        "#Normalização dos dados\n",
        "for column in columns:\n",
        "  PAM_input_sp500[column] = (PAM_input_sp500[column]-min(PAM_input_sp500[column].dropna()))/(max(PAM_input_sp500[column].dropna())-min(PAM_input_sp500[column].dropna()))"
      ]
    },
    {
      "cell_type": "code",
      "execution_count": null,
      "metadata": {
        "id": "p3WBxfMuxTL1"
      },
      "outputs": [],
      "source": [
        "X = PAM_input_sp500.iloc[:,[0,1]].values"
      ]
    },
    {
      "cell_type": "code",
      "execution_count": null,
      "metadata": {
        "id": "HQ1E8uQwxTL2"
      },
      "outputs": [],
      "source": [
        "kmedoids = KMedoids(n_clusters=5, random_state=0).fit(X)"
      ]
    },
    {
      "cell_type": "code",
      "execution_count": null,
      "metadata": {
        "id": "ITRbjlANxTL2"
      },
      "outputs": [],
      "source": [
        "import random"
      ]
    },
    {
      "cell_type": "code",
      "execution_count": null,
      "metadata": {
        "id": "1NUHyaeKxTL2"
      },
      "outputs": [],
      "source": [
        "X[random.randint(0, len(kmeans_input_sp500.iloc[:,[0,1]].values))]"
      ]
    },
    {
      "cell_type": "code",
      "execution_count": null,
      "metadata": {
        "id": "QcjIV88oxTL2"
      },
      "outputs": [],
      "source": [
        "kmedoids.predict([X[random.randint(0, len(X))],\n",
        "                  X[random.randint(0, len(X))],\n",
        "                  X[random.randint(0, len(X))],\n",
        "                  X[random.randint(0, len(X))],\n",
        "                  X[random.randint(0, len(X))]])"
      ]
    },
    {
      "cell_type": "code",
      "execution_count": null,
      "metadata": {
        "id": "1O7IOedfxTL2"
      },
      "outputs": [],
      "source": [
        "kmedoids.cluster_centers_"
      ]
    },
    {
      "cell_type": "code",
      "execution_count": null,
      "metadata": {
        "id": "NDZ2IdVPxTL3"
      },
      "outputs": [],
      "source": [
        "kmedoids.inertia_"
      ]
    },
    {
      "cell_type": "code",
      "execution_count": null,
      "metadata": {
        "id": "3yEB8cFjxTL3"
      },
      "outputs": [],
      "source": [
        "labels = kmedoids.labels_\n",
        "\n",
        "unique_labels = set(labels)\n",
        "colors = [\n",
        "    plt.cm.Spectral(each) for each in np.linspace(0, 1, len(unique_labels))\n",
        "]\n",
        "for k, col in zip(unique_labels, colors):\n",
        "\n",
        "    class_member_mask = labels == k\n",
        "\n",
        "    xy = X[class_member_mask]\n",
        "    plt.plot(\n",
        "        xy[:, 0],\n",
        "        xy[:, 1],\n",
        "        \"o\",\n",
        "        markerfacecolor=tuple(col),\n",
        "        markeredgecolor=\"k\",\n",
        "        markersize=6,\n",
        "    )\n",
        "\n",
        "plt.plot(\n",
        "    kmedoids.cluster_centers_[:, 0],\n",
        "    kmedoids.cluster_centers_[:, 1],\n",
        "    \"o\",\n",
        "    markerfacecolor=\"cyan\",\n",
        "    markeredgecolor=\"k\",\n",
        "    markersize=6,\n",
        ")\n",
        "\n",
        "plt.title(\"KMedoids clustering. Medoids are represented in cyan.\")"
      ]
    },
    {
      "cell_type": "code",
      "execution_count": null,
      "metadata": {
        "id": "-tcFXPFUxTL3"
      },
      "outputs": [],
      "source": [
        "kmedoids.cluster_centers_"
      ]
    },
    {
      "cell_type": "code",
      "execution_count": null,
      "metadata": {
        "id": "3KiHHyhtxTL3"
      },
      "outputs": [],
      "source": [
        "kmedoids.labels_"
      ]
    },
    {
      "cell_type": "code",
      "source": [
        "sp500_application['Cluster PAM'] = ''\n",
        "for i in range(0,len(sp500_application)):\n",
        "  cluster = int(kmedoids.labels_[i])\n",
        "  sp500_application['Cluster PAM'].iloc[i] = int(cluster)"
      ],
      "metadata": {
        "id": "7ED5-ASpzLu-"
      },
      "execution_count": null,
      "outputs": []
    },
    {
      "cell_type": "markdown",
      "source": [
        "## Consolidação"
      ],
      "metadata": {
        "id": "UaGWFJKguC3F"
      }
    },
    {
      "cell_type": "code",
      "source": [
        "sp500_application.columns"
      ],
      "metadata": {
        "id": "10sQIzyHuC3G"
      },
      "execution_count": null,
      "outputs": []
    },
    {
      "cell_type": "code",
      "source": [
        "len(sp500_application) - len(df_sp500)"
      ],
      "metadata": {
        "id": "sE8ky4fCuC3H"
      },
      "execution_count": null,
      "outputs": []
    },
    {
      "cell_type": "code",
      "source": [
        "df_sp500['Cluster UMAP K-Means'] = ''\n",
        "df_sp500['Cluster k-means'] = ''\n",
        "df_sp500['Cluster PAM'] = ''"
      ],
      "metadata": {
        "id": "vGPCW_S5IQ-h"
      },
      "execution_count": null,
      "outputs": []
    },
    {
      "cell_type": "code",
      "source": [
        "df_sp500.loc[(df_sp500[' Data do Bal  consolid:sim*'].astype(str)>='2021-10-01') & (df_sp500[' Data do Bal  consolid:sim*'].astype(str)<='2021-12-31'),'Cluster UMAP K-Means'] = sp500_application['Cluster UMAP K-Means'].astype(float)\n",
        "df_sp500.loc[(df_sp500[' Data do Bal  consolid:sim*'].astype(str)>='2021-10-01') & (df_sp500[' Data do Bal  consolid:sim*'].astype(str)<='2021-12-31'),'Cluster k-means'] = sp500_application['Cluster k-means'].astype(float)\n",
        "df_sp500.loc[(df_sp500[' Data do Bal  consolid:sim*'].astype(str)>='2021-10-01') & (df_sp500[' Data do Bal  consolid:sim*'].astype(str)<='2021-12-31'),'Cluster PAM'] = sp500_application['Cluster PAM'].astype(float)"
      ],
      "metadata": {
        "id": "tckN6QPw6TKE"
      },
      "execution_count": null,
      "outputs": []
    },
    {
      "cell_type": "code",
      "source": [
        "sp500_dtref = df_sp500.loc[(df_sp500[' Data do Bal  consolid:sim*'].astype(str)>='2021-10-01') & (df_sp500[' Data do Bal  consolid:sim*'].astype(str)<='2021-12-31')]"
      ],
      "metadata": {
        "id": "WWoQtKCERWEH"
      },
      "execution_count": null,
      "outputs": []
    },
    {
      "cell_type": "code",
      "source": [
        "sp500_dtref[['Cluster UMAP K-Means', 'Cluster k-means', 'Cluster PAM']] = sp500_dtref[['Cluster UMAP K-Means', 'Cluster k-means', 'Cluster PAM']].astype(float)"
      ],
      "metadata": {
        "id": "N64yPQCURbSZ"
      },
      "execution_count": null,
      "outputs": []
    },
    {
      "cell_type": "code",
      "source": [
        "df_sp500.loc[(df_sp500[' Data do Bal  consolid:sim*'].astype(str)>='2021-12-01') & (df_sp500[' Data do Bal  consolid:sim*'].astype(str)<='2021-12-31')][' Data do Bal  consolid:sim*'].drop_duplicates().reset_index().sort_values(by=' Data do Bal  consolid:sim*')"
      ],
      "metadata": {
        "id": "uTiwM48oUHMP"
      },
      "execution_count": null,
      "outputs": []
    },
    {
      "cell_type": "code",
      "source": [
        "df_sp500.loc[(df_sp500[' Data do Bal  consolid:sim*'].astype(str)>='2021-10-01') & (df_sp500[' Data do Bal  consolid:sim*'].astype(str)<='2021-12-31')]['Código'].drop_duplicates().reset_index().sort_values(by='Código')"
      ],
      "metadata": {
        "id": "Vzb-in2KU-CS"
      },
      "execution_count": null,
      "outputs": []
    },
    {
      "cell_type": "markdown",
      "source": [
        "# Analysis"
      ],
      "metadata": {
        "id": "5I3-3cFvp4YB"
      }
    },
    {
      "cell_type": "markdown",
      "source": [
        "-----------------------------------------------------------\n",
        "##Análise da distribuição de ações por cluster em cada modelo\n",
        "-----------------------------------------------------------"
      ],
      "metadata": {
        "id": "7FxXlvKOLziD"
      }
    },
    {
      "cell_type": "code",
      "source": [
        "import seaborn as sns\n",
        "## Figure and plot defaults\n",
        "plt.rcParams['figure.figsize'] = (18,6) # Increase the default size of plots\n",
        "plt.subplots_adjust(wspace = 1.5)"
      ],
      "metadata": {
        "id": "fgo7aUWS9FY5"
      },
      "execution_count": null,
      "outputs": []
    },
    {
      "cell_type": "code",
      "source": [
        "sns.histplot(sp500_dtref['Cluster UMAP K-Means'], color='blue',bins=5)"
      ],
      "metadata": {
        "id": "Pm0OaPUT88xe"
      },
      "execution_count": null,
      "outputs": []
    },
    {
      "cell_type": "code",
      "source": [
        "sns.histplot(sp500_dtref['Cluster PAM'], color='blue',bins=5)"
      ],
      "metadata": {
        "id": "EVY08Rfk9VnK"
      },
      "execution_count": null,
      "outputs": []
    },
    {
      "cell_type": "code",
      "source": [
        "sns.histplot(sp500_dtref['Cluster k-means'], color='blue',bins=4)"
      ],
      "metadata": {
        "id": "ZAmqCFjx9fJC"
      },
      "execution_count": null,
      "outputs": []
    },
    {
      "cell_type": "code",
      "source": [
        "sns.lmplot(x ='Cluster UMAP K-Means', y ='Cluster PAM', data = sp500_dtref)"
      ],
      "metadata": {
        "id": "9BYClmgM-lap"
      },
      "execution_count": null,
      "outputs": []
    },
    {
      "cell_type": "code",
      "source": [
        "sp500_dtref[['Cluster UMAP K-Means', 'Cluster PAM', 'Cluster k-means']].corr()"
      ],
      "metadata": {
        "id": "zkTxfxUM_I9l"
      },
      "execution_count": null,
      "outputs": []
    },
    {
      "cell_type": "code",
      "source": [
        "g = sns.heatmap(\n",
        "    sp500_dtref[[' LiqCor  consolid:sim*', ' LiqSec  consolid:sim*',\n",
        "       ' Exig / PL  consolid:sim*', ' DivBr/Ebitda  de 3 meses  consolid:sim*',\n",
        "       ' Margem Liquida  de 3 meses  consolid:sim*', 'ROA de 3 meses',\n",
        "       'ROE de 3 meses', 'P/L de 3 meses ajust pela infl',\n",
        "       'Valor Mercado da empresa Em US Dollars em milhares',\n",
        "       ' Patrim Liq  Em US Dollars  em milhares  consolid:sim*',\n",
        "       'Price/Book ratio', 'EV Em US Dollars em milhares consolid:sim*',\n",
        "       'EV/EBITDA emp Em US Dollars de 3 meses consolid:sim*',\n",
        "       'P/FCF Em US Dollars de 3 meses consolid:sim*',\n",
        "       'Media do fechamento em 1 trimestre Em US Dollars ajust p/ prov',\n",
        "       'Beta sp500', 'TIR média trimestral em 3 meses Em moeda orig',\n",
        "       'Bollinger 90/2 Média Em moeda orig',\n",
        "       'Volatilidade base trimestral 3 meses Em moeda orig', 'Sharpe SP500',\n",
        "       'VAR % base diária confiança: 95% 3 meses Em moeda orig',\n",
        "       'Max Drd (c/rec) ajust p/ prov 3 meses Em moeda orig'  ]].corr(), \n",
        "    annot = True, \n",
        "    fmt=\n",
        "    '.2g',\n",
        "    cmap= 'seismic')"
      ],
      "metadata": {
        "id": "iGBKyZGVeurY"
      },
      "execution_count": null,
      "outputs": []
    },
    {
      "cell_type": "markdown",
      "source": [
        "-----------------------------------------------------------\n",
        "##Seleção dos clusters ótimos e ensemble\n",
        "\n",
        "\n",
        "---\n",
        "Equação de seleção do cluster ótimo:\n",
        "\n",
        "\\begin{equation}\n",
        "\\ cluster ótimo \\ = max(\\frac{Liq. Corrente + Liq. Seca + Margem Líq. + ROA + ROE + TIR + Sharpe}{(\\frac{Dívida}{EBITDA}\\ + \\frac{P}{L}\\ + \\frac{EV}{EBITDA}\\ + \\frac{P}{FCF}\\ + Volatilidade + Variância + Máx. Drawdoun + \\frac{Exigível}{PL}\\ + \\frac{Price}{Book Ratio}\\ + Beta})\\\n",
        "\\end{equation}\n",
        "\n"
      ],
      "metadata": {
        "id": "9BumulLxMS0p"
      }
    },
    {
      "cell_type": "markdown",
      "source": [
        "###Concatenado"
      ],
      "metadata": {
        "id": "omn8J7MARcT5"
      }
    },
    {
      "cell_type": "code",
      "source": [
        "df_indicators_dtref.sort_values(by='Cluster_select',ascending=False).head(10)"
      ],
      "metadata": {
        "id": "WhFaUtJ9D6O5"
      },
      "execution_count": null,
      "outputs": []
    },
    {
      "cell_type": "code",
      "source": [
        "df_indicators_dtref['max'] = df_indicators_dtref[' LiqCor  consolid:sim*']+df_indicators_dtref[' LiqSec  consolid:sim*']+df_indicators_dtref[' Margem Liquida  de 3 meses  consolid:sim*']+df_indicators_dtref['ROA de 3 meses']+df_indicators_dtref['ROE de 3 meses']+df_indicators_dtref['TIR média trimestral em 3 meses Em moeda orig']+df_indicators_dtref['Sharpe Ratio']"
      ],
      "metadata": {
        "id": "MTFBGMJfGHnH"
      },
      "execution_count": null,
      "outputs": []
    },
    {
      "cell_type": "code",
      "source": [
        "df_indicators_dtref['min'] = df_indicators_dtref[' DivBr/Ebitda  de 3 meses  consolid:sim*']+df_indicators_dtref['P/L de 3 meses ajust pela infl']+df_indicators_dtref['EV/EBITDA emp Em US Dollars de 3 meses consolid:sim*']+df_indicators_dtref['P/FCF Em US Dollars de 3 meses consolid:sim*']+df_indicators_dtref['Volatilidade base trimestral 3 meses Em moeda orig']+df_indicators_dtref['VAR % base diária confiança: 95% 3 meses Em moeda orig']+df_indicators_dtref['Max Drd (c/rec) ajust p/ prov 3 meses Em moeda orig']+df_indicators_dtref[' Exig / PL  consolid:sim*']+df_indicators_dtref['Price/Book ratio']+df_indicators_dtref['Beta']"
      ],
      "metadata": {
        "id": "o13-YMrpGHnJ"
      },
      "execution_count": null,
      "outputs": []
    },
    {
      "cell_type": "code",
      "source": [
        "df_indicators_dtref['Cluster_select'] = df_indicators_dtref['max']/df_indicators_dtref['min']"
      ],
      "metadata": {
        "id": "OGXdE7TGGHnK"
      },
      "execution_count": null,
      "outputs": []
    },
    {
      "cell_type": "code",
      "source": [
        "df_indicators_dtref.groupby(['Cluster UMAP K-Means'],dropna=False).mean().sort_values(by='Cluster_select',ascending=False)"
      ],
      "metadata": {
        "id": "PtR4Tne4GHnL"
      },
      "execution_count": null,
      "outputs": []
    },
    {
      "cell_type": "code",
      "source": [
        "stocks_kmeans = df_indicators_dtref.loc[df_indicators_dtref['Cluster UMAP K-Means'].astype(int)==0]"
      ],
      "metadata": {
        "id": "xci1cIfUGHnL"
      },
      "execution_count": null,
      "outputs": []
    },
    {
      "cell_type": "code",
      "source": [
        "df_indicators_dtref.groupby(['Cluster PAM'],dropna=False).mean().sort_values(by='Cluster_select',ascending=False)"
      ],
      "metadata": {
        "id": "DVioiNGdGHnM"
      },
      "execution_count": null,
      "outputs": []
    },
    {
      "cell_type": "code",
      "source": [
        "stocks_pam = df_indicators_dtref.loc[df_indicators_dtref['Cluster PAM'].astype(int)==0]"
      ],
      "metadata": {
        "id": "4oB0ROQIGHnM"
      },
      "execution_count": null,
      "outputs": []
    },
    {
      "cell_type": "code",
      "source": [
        "mv_input_total = pd.merge(stocks_kmeans['Código'],stocks_pam['Código'],on='Código',how='inner')\n",
        "mv_input_total = pd.merge(mv_input_total,df_indicators_dtref,on='Código',how='inner')"
      ],
      "metadata": {
        "id": "kPnB0ZG8GHnM"
      },
      "execution_count": null,
      "outputs": []
    },
    {
      "cell_type": "code",
      "source": [
        "df_indicators_dtref.groupby('Indice',dropna=False).count()"
      ],
      "metadata": {
        "id": "VrJJD3u3HUZJ"
      },
      "execution_count": null,
      "outputs": []
    },
    {
      "cell_type": "code",
      "source": [
        "mv_input_total.groupby('Indice',dropna=False).count()"
      ],
      "metadata": {
        "id": "r5rug_19GzaF"
      },
      "execution_count": null,
      "outputs": []
    },
    {
      "cell_type": "markdown",
      "source": [
        "###S&P500"
      ],
      "metadata": {
        "id": "LQvcrE8jRXtA"
      }
    },
    {
      "cell_type": "code",
      "source": [
        "duvida =  '''\n",
        "sp500_dtref['Valor Mercado da empresa Em US Dollars em milhares'],\n",
        "sp500_dtref[' Patrim Liq  Em US Dollars  em milhares  consolid:sim*'],\n",
        "sp500_dtref['EV Em US Dollars em milhares consolid:sim*'],\n",
        "sp500_dtref['Media do fechamento em 1 trimestre Em US Dollars ajust p/ prov'],\n",
        "sp500_dtref['Bollinger 90/2 Média Em moeda orig'],\n",
        "'''"
      ],
      "metadata": {
        "id": "xiBWjipdotqE"
      },
      "execution_count": null,
      "outputs": []
    },
    {
      "cell_type": "code",
      "source": [
        "sp500_dtref['max'] = sp500_dtref[' LiqCor  consolid:sim*']+sp500_dtref[' LiqSec  consolid:sim*']+sp500_dtref[' Margem Liquida  de 3 meses  consolid:sim*']+sp500_dtref['ROA de 3 meses']+sp500_dtref['ROE de 3 meses']+sp500_dtref['TIR média trimestral em 3 meses Em moeda orig']+sp500_dtref['Sharpe SP500']"
      ],
      "metadata": {
        "id": "9tHQ8EHKlu4W"
      },
      "execution_count": null,
      "outputs": []
    },
    {
      "cell_type": "code",
      "source": [
        "sp500_dtref['min'] = sp500_dtref[' DivBr/Ebitda  de 3 meses  consolid:sim*']+sp500_dtref['P/L de 3 meses ajust pela infl']+sp500_dtref['EV/EBITDA emp Em US Dollars de 3 meses consolid:sim*']+sp500_dtref['P/FCF Em US Dollars de 3 meses consolid:sim*']+sp500_dtref['Volatilidade base trimestral 3 meses Em moeda orig']+sp500_dtref['VAR % base diária confiança: 95% 3 meses Em moeda orig']+sp500_dtref['Max Drd (c/rec) ajust p/ prov 3 meses Em moeda orig']+sp500_dtref[' Exig / PL  consolid:sim*']+sp500_dtref['Price/Book ratio']+sp500_dtref['Beta sp500']"
      ],
      "metadata": {
        "id": "KQ1wgtF_mlsr"
      },
      "execution_count": null,
      "outputs": []
    },
    {
      "cell_type": "code",
      "source": [
        "sp500_dtref['Cluster_select'] = sp500_dtref['max']/sp500_dtref['min']"
      ],
      "metadata": {
        "id": "DhCDvSzMo7yu"
      },
      "execution_count": null,
      "outputs": []
    },
    {
      "cell_type": "code",
      "source": [
        "sp500_dtref.groupby(['Cluster UMAP K-Means'],dropna=False).mean().sort_values(by='Cluster_select',ascending=False)"
      ],
      "metadata": {
        "id": "ON7cBQyhCCFO"
      },
      "execution_count": null,
      "outputs": []
    },
    {
      "cell_type": "code",
      "source": [
        "stocks_kmeans = sp500_dtref.loc[sp500_dtref['Cluster UMAP K-Means'].astype(int)==4]"
      ],
      "metadata": {
        "id": "mcaOJZlnCMcP"
      },
      "execution_count": null,
      "outputs": []
    },
    {
      "cell_type": "code",
      "source": [
        "sp500_dtref.groupby(['Cluster PAM'],dropna=False).mean().sort_values(by='Cluster_select',ascending=False)"
      ],
      "metadata": {
        "id": "uOF4SWicCE1o"
      },
      "execution_count": null,
      "outputs": []
    },
    {
      "cell_type": "code",
      "source": [
        "stocks_pam = sp500_dtref.loc[sp500_dtref['Cluster PAM'].astype(int)==1]"
      ],
      "metadata": {
        "id": "3llW7jyrCrK2"
      },
      "execution_count": null,
      "outputs": []
    },
    {
      "cell_type": "code",
      "source": [
        "mv_input_sp500 = pd.merge(stocks_kmeans['Código'],stocks_pam['Código'],on='Código',how='inner')\n",
        "mv_input_sp500 = pd.merge(mv_input,df_indicators_dtref,on='Código',how='inner')"
      ],
      "metadata": {
        "id": "NHDQm9KLCxnT"
      },
      "execution_count": null,
      "outputs": []
    },
    {
      "cell_type": "markdown",
      "source": [
        "###Ibovespa"
      ],
      "metadata": {
        "id": "EMJDXIhMRga_"
      }
    },
    {
      "cell_type": "code",
      "source": [
        "ibov_dtref['max'] = ibov_dtref[' LiqCor  consolid:sim*']+ibov_dtref[' LiqSec  consolid:sim*']+ibov_dtref[' Margem Liquida  de 3 meses  consolid:sim*']+ibov_dtref['ROA de 3 meses']+ibov_dtref['ROE de 3 meses']+ibov_dtref['TIR média trimestral em 3 meses Em moeda orig']+ibov_dtref['Sharpe Ibov']"
      ],
      "metadata": {
        "id": "2x46CFjhK7A2"
      },
      "execution_count": null,
      "outputs": []
    },
    {
      "cell_type": "code",
      "source": [
        "ibov_dtref['min'] = ibov_dtref[' DivBr/Ebitda  de 3 meses  consolid:sim*']+ibov_dtref['P/L de 3 meses ajust pela infl']+ibov_dtref['EV/EBITDA emp Em US Dollars de 3 meses consolid:sim*']+ibov_dtref['P/FCF Em US Dollars de 3 meses consolid:sim*']+ibov_dtref['Volatilidade base trimestral 3 meses Em moeda orig']+ibov_dtref['VAR % base diária confiança: 95% 3 meses Em moeda orig']+ibov_dtref['Max Drd (c/rec) ajust p/ prov 3 meses Em moeda orig']+ibov_dtref[' Exig / PL  consolid:sim*']+ibov_dtref['Price/Book ratio']+ibov_dtref['Beta Ibov']"
      ],
      "metadata": {
        "id": "F_2WShSZK7A3"
      },
      "execution_count": null,
      "outputs": []
    },
    {
      "cell_type": "code",
      "source": [
        "ibov_dtref['Cluster_select'] = ibov_dtref['max']/ibov_dtref['min']"
      ],
      "metadata": {
        "id": "375lsKt0K7A3"
      },
      "execution_count": null,
      "outputs": []
    },
    {
      "cell_type": "code",
      "source": [
        "ibov_dtref.groupby(['Cluster UMAP K-Means'],dropna=False).mean().sort_values(by='Cluster_select',ascending=False)"
      ],
      "metadata": {
        "id": "aT8awADvK7A4"
      },
      "execution_count": null,
      "outputs": []
    },
    {
      "cell_type": "code",
      "source": [
        "stocks_kmeans = ibov_dtref.loc[ibov_dtref['Cluster UMAP K-Means'].astype(int)==1]"
      ],
      "metadata": {
        "id": "xwJ0sxUqK7A4"
      },
      "execution_count": null,
      "outputs": []
    },
    {
      "cell_type": "code",
      "source": [
        "ibov_dtref.groupby(['Cluster PAM'],dropna=False).mean().sort_values(by='Cluster_select',ascending=False)"
      ],
      "metadata": {
        "id": "W5eB7XjjK7A5"
      },
      "execution_count": null,
      "outputs": []
    },
    {
      "cell_type": "code",
      "source": [
        "stocks_pam = ibov_dtref.loc[ibov_dtref['Cluster PAM'].astype(int)==1]"
      ],
      "metadata": {
        "id": "0EkrTYYdK7A5"
      },
      "execution_count": null,
      "outputs": []
    },
    {
      "cell_type": "code",
      "source": [
        "mv_input_ibov = pd.merge(stocks_kmeans['Código'],stocks_pam['Código'],on='Código',how='inner')\n",
        "mv_input_ibov = pd.merge(mv_input_ibov,df_indicators_dtref,on='Código',how='inner')"
      ],
      "metadata": {
        "id": "3JuEemQ4K7A5"
      },
      "execution_count": null,
      "outputs": []
    }
  ]
}