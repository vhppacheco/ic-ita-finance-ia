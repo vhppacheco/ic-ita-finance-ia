{
  "nbformat": 4,
  "nbformat_minor": 0,
  "metadata": {
    "colab": {
      "name": "DFs_Economatica.ipynb",
      "private_outputs": true,
      "provenance": [],
      "include_colab_link": true
    },
    "kernelspec": {
      "name": "python3",
      "display_name": "Python 3"
    },
    "language_info": {
      "name": "python"
    }
  },
  "cells": [
    {
      "cell_type": "markdown",
      "metadata": {
        "id": "view-in-github",
        "colab_type": "text"
      },
      "source": [
        "<a href=\"https://colab.research.google.com/github/vhppacheco/ic-ita-finance-ia/blob/main/data/DFs_Economatica.ipynb\" target=\"_parent\"><img src=\"https://colab.research.google.com/assets/colab-badge.svg\" alt=\"Open In Colab\"/></a>"
      ]
    },
    {
      "cell_type": "markdown",
      "source": [
        "#Bibliotecas"
      ],
      "metadata": {
        "id": "TpK1Q57rULrJ"
      }
    },
    {
      "cell_type": "code",
      "source": [
        "!pip install -q tsfeatures"
      ],
      "metadata": {
        "id": "P44BuzlMT1yd"
      },
      "execution_count": null,
      "outputs": []
    },
    {
      "cell_type": "code",
      "execution_count": null,
      "metadata": {
        "id": "XsBQaxhR8QHM"
      },
      "outputs": [],
      "source": [
        "import pandas as pd\n",
        "import numpy as np\n",
        "\n",
        "from google.colab import drive\n",
        "drive.mount('/content/drive')"
      ]
    },
    {
      "cell_type": "markdown",
      "source": [
        "#Função de Construção do DataFrame"
      ],
      "metadata": {
        "id": "z59b7LEal6n7"
      }
    },
    {
      "cell_type": "markdown",
      "source": [
        "### A função ***build_df*** tem por objetivo realizar um processo de construção de DataFrames dos **índices Ibovespa e S&P500** através de Screenings e Matrizes constuídas na Plataforma **Economatica**\n",
        "### Seu único parâmetro é uma *string* (\"Ibov\" ou \"SP500\")"
      ],
      "metadata": {
        "id": "QtCKlVlSUfVz"
      }
    },
    {
      "cell_type": "code",
      "source": [
        "def build_df(indice):\n",
        "\n",
        "  #Screening\n",
        "  scr = pd.read_excel(f'/content/drive/MyDrive/IC ITA/Projeto de Pesquisa - IC ITA/Economatica/Bases de Dados/Screening_{indice}.xlsx', skiprows = 3)\n",
        "  codigos= scr['Código']\n",
        "\n",
        "  #Indicadores\n",
        "  df0 = pd.read_excel(f'/content/drive/MyDrive/IC ITA/Projeto de Pesquisa - IC ITA/Economatica/Bases de Dados/Matrixx_Indicadores_{indice}.xlsx', sheet_name= None, skiprows = 3)\n",
        "\n",
        "  df = pd.DataFrame()\n",
        "\n",
        "  for cod in codigos:\n",
        "    df_temp = df0[cod]\n",
        "    print(cod)\n",
        "    df_temp['Código'] = cod\n",
        "    df = df.replace('-', np.nan).fillna(method='ffill')\n",
        "    df = df.fillna(method='bfill')\n",
        "    df = df.append(df_temp)\n",
        "    # df = df.replace('-', np.nan).fillna(method='bfill')\n",
        "    # df = df.fillna(method='ffill')\n",
        "\n",
        "  #Screening + Indicadores\n",
        "  df = pd.merge(df,scr, how = 'left', on = 'Código').set_index('Data')\n",
        "  df.columns = df.columns.str.replace('\\\\n',' ', regex=True)\n",
        "  df = df.drop(df.iloc[:,23:38], axis = 1)\n",
        "\n",
        "  #Cotação Média Trimestral\n",
        "  cotacao0= pd.read_excel(f'/content/drive/MyDrive/IC ITA/Projeto de Pesquisa - IC ITA/Economatica/Bases de Dados/Matrixx_Cotacao_{indice}.xlsx', sheet_name= None, skiprows = 3)\n",
        "\n",
        "  cotacao_temp0 = pd.DataFrame()\n",
        "\n",
        "  for cod in codigos:\n",
        "    cotacao_temp1 = cotacao0[cod]\n",
        "    print(cod)\n",
        "    cotacao_temp1['Código'] = cod\n",
        "    cotacao1 = cotacao_temp1[['Beta Ibov', 'Beta sp500',\n",
        "       'TIR\\nmédia trimestral\\nem 3 meses\\nEm moeda orig',\n",
        "       'Bollinger\\n90/2\\nMédia\\nEm moeda orig',\n",
        "       'Volatilidade\\nbase trimestral\\n3 meses\\nEm moeda orig', 'Sharpe Ibov',\n",
        "       'Sharpe SP500',\n",
        "       'VAR %\\nbase diária\\nconfiança: 95%\\n3 meses\\nEm moeda orig',\n",
        "       'Max Drd (c/rec)\\najust p/ prov\\n3 meses\\nEm moeda orig']].replace('-', np.nan).fillna(method='ffill')\n",
        "\n",
        "    cotacao1 = cotacao1.fillna(method='bfill')\n",
        "\n",
        "    cotacao_temp = cotacao_temp1[['Data','Media\\ndo fechamento\\nem 1 trimestre\\nEm US Dollars\\najust p/ prov','Fechamento\\najust p/ prov\\nEm moeda orig',' Data do Bal\\n consolid:sim*','Código']]\n",
        "\n",
        "    cotacao_temp[' Data do Bal\\n consolid:sim*'].iloc[:1] = cotacao_temp['Data'].iloc[:1]\n",
        "    cotacao_temp['Fechamento\\najust p/ prov\\nEm moeda orig'] = cotacao_temp['Fechamento\\najust p/ prov\\nEm moeda orig'].replace('-', np.nan)\n",
        "    cotacao_temp['Fechamento\\najust p/ prov\\nEm moeda orig'] = cotacao_temp['Fechamento\\najust p/ prov\\nEm moeda orig'].fillna(method='ffill')\n",
        "    cotacao_temp['Fechamento\\najust p/ prov\\nEm moeda orig _temp'] = cotacao_temp['Fechamento\\najust p/ prov\\nEm moeda orig'].fillna(method='bfill').iloc[:1]\n",
        "    cotacao_temp['Fechamento\\najust p/ prov\\nEm moeda orig'].iloc[:1] = cotacao_temp['Fechamento\\najust p/ prov\\nEm moeda orig _temp'].iloc[:1]\n",
        "    cotacao_temp = cotacao_temp.replace(\"-\",np.nan)\n",
        "\n",
        "    cotacao_temp2 = pd.concat([cotacao_temp,cotacao1], axis=1)\n",
        "    cotacao_temp2 = cotacao_temp2[cotacao_temp2[' Data do Bal\\n consolid:sim*'].notnull()]\n",
        "\n",
        "    cotacao_temp2['Log Retornos Trimestral'] = (cotacao_temp2['Fechamento\\najust p/ prov\\nEm moeda orig'].pct_change(axis=0)).apply(np.log1p)\n",
        "    cotacao_temp2 = cotacao_temp2[cotacao_temp2['Log Retornos Trimestral'].notnull()]\n",
        "\n",
        "    cotacao_temp0 = cotacao_temp0.append(cotacao_temp2)\n",
        "\n",
        "  #DataFrame de Datas + Filtro\n",
        "  cotacao_temp0['Qdate'] = [date - pd.tseries.offsets.DateOffset(days=1) + pd.tseries.offsets.QuarterEnd() for date in  cotacao_temp0.Data]\n",
        "  datas = cotacao_temp0['Qdate'].unique()\n",
        "  datas = np.sort(datas)\n",
        "\n",
        "  count_release = cotacao_temp0['Código'].groupby(cotacao_temp0['Código']).count().sort_values(ascending=False)\n",
        "  count_release = pd.DataFrame(count_release)\n",
        "  print(\"VER AQUI\",count_release)\n",
        "  count_release = count_release[(count_release['Código'] == 24)]\n",
        "\n",
        "  trimestre = df.index.unique()\n",
        "\n",
        "  df_datas = list(zip(datas, trimestre))\n",
        "  df_datas = pd.DataFrame(df_datas, columns=['Data', 'Trimestres'])\n",
        "\n",
        "  #Log Retornos Trimestrais + Datas\n",
        "  log_returns = cotacao_temp0[cotacao_temp0.Código.isin(count_release.index)]\n",
        "  log_returns = log_returns.fillna(method='ffill')\n",
        "  log_returns = log_returns.set_index('Data')\n",
        "  log_returns = pd.merge(df_datas, log_returns, how='inner', left_on = 'Data', right_on= 'Qdate').set_index('Trimestres')\n",
        "\n",
        "  #DataFrame Final\n",
        "  log = log_returns.reset_index()\n",
        "  df_final = df.reset_index()\n",
        "  log = log[['Trimestres','Log Retornos Trimestral','Beta Ibov','Beta sp500','TIR\\nmédia trimestral\\nem 3 meses\\nEm moeda orig','Bollinger\\n90/2\\nMédia\\nEm moeda orig','Volatilidade\\nbase trimestral\\n3 meses\\nEm moeda orig', 'Sharpe Ibov','Sharpe SP500','VAR %\\nbase diária\\nconfiança: 95%\\n3 meses\\nEm moeda orig','Max Drd (c/rec)\\najust p/ prov\\n3 meses\\nEm moeda orig',' Data do Bal\\n consolid:sim*','Código']]\n",
        "  df_final = pd.merge(df_final,log, how= 'inner', left_on= ['Código','Data'], right_on = ['Código','Trimestres']).set_index('Data')\n",
        "  df_final.columns = df_final.columns.str.replace('\\\\n',' ', regex=True)\n",
        "  df_final = df_final.replace('-', np.NaN).fillna(method='bfill')\n",
        "  df_final = df_final.replace('-', np.NaN).fillna(method='ffill')\n",
        "  df_final = df_final.sort_values(by=['Código',' Data do Bal  consolid:sim*'], ascending = True)\n",
        "  df_final = df_final.drop(['Beta 3 tri Em US Dollars',\n",
        "       'Media nulos = 0 do volume$ em 1 trimestre Em US Dollars em milhares',\n",
        "       'TIR média trimestral em 1 trimestre Em US Dollars',\n",
        "       'Bollinger 1/2 Média Em US Dollars',\n",
        "       'Volatilidade base trimestral 1 anos Em US Dollars',\n",
        "       'Correlacao 24 tri Em US Dollars', 'Sharpe 24 tri Em US Dollars','Unnamed: 0', 'Trimestres'], axis = 1)\n",
        "\n",
        "  return df_final"
      ],
      "metadata": {
        "id": "noiT3huni5K9"
      },
      "execution_count": null,
      "outputs": []
    },
    {
      "cell_type": "markdown",
      "source": [
        "# Ibovespa"
      ],
      "metadata": {
        "id": "BdDtaaEAD5yG"
      }
    },
    {
      "cell_type": "code",
      "source": [
        "df_ibov = build_df(indice='Ibov')"
      ],
      "metadata": {
        "id": "ZpgPGbI_lPKR"
      },
      "execution_count": null,
      "outputs": []
    },
    {
      "cell_type": "code",
      "source": [
        "df_ibov"
      ],
      "metadata": {
        "id": "3TVb54jpDL-5"
      },
      "execution_count": null,
      "outputs": []
    },
    {
      "cell_type": "code",
      "source": [
        "df_ibov.columns"
      ],
      "metadata": {
        "id": "CI1NliN-Q2mK"
      },
      "execution_count": null,
      "outputs": []
    },
    {
      "cell_type": "code",
      "source": [
        "s = df_ibov.pop('Código')\n",
        "df_ibov = pd.concat([df_ibov, s], 1)\n",
        "df_ibov = df_ibov.drop(['Beta sp500','Sharpe SP500'], axis = 1)\n",
        "df_ibov"
      ],
      "metadata": {
        "id": "C9j7TWHUiX3j"
      },
      "execution_count": null,
      "outputs": []
    },
    {
      "cell_type": "code",
      "source": [
        "df_ibov.to_excel('df_Ibov_Final.xlsx')"
      ],
      "metadata": {
        "id": "gbJG2mR9vezM"
      },
      "execution_count": null,
      "outputs": []
    },
    {
      "cell_type": "markdown",
      "source": [
        "### Log Retornos Médio Trimestrais"
      ],
      "metadata": {
        "id": "hMGCDCdoKe9A"
      }
    },
    {
      "cell_type": "code",
      "source": [
        "df_ibov_log = df_ibov[['Media do fechamento em 1 trimestre Em US Dollars ajust p/ prov','Código']]\n",
        "df_ibov_log = df_ibov.pivot_table(index=df_ibov.index, columns='Código',values= 'Media do fechamento em 1 trimestre Em US Dollars ajust p/ prov', aggfunc='first')\n",
        "df_ibov_log = (df_ibov_log.pct_change(axis=0)).apply(np.log1p)\n",
        "df_ibov_log= df_ibov_log.iloc[1:,:]\n",
        "df_ibov_log"
      ],
      "metadata": {
        "id": "NGoPi_qNKjqS"
      },
      "execution_count": null,
      "outputs": []
    },
    {
      "cell_type": "code",
      "source": [
        "df_nan = pd.DataFrame(df_ibov_log.isna().sum())\n",
        "df_nan"
      ],
      "metadata": {
        "id": "BpqIZ4I9P3GA"
      },
      "execution_count": null,
      "outputs": []
    },
    {
      "cell_type": "code",
      "source": [
        "plt.rcParams.update({'font.size': 15})\n",
        "plt.rc('legend', fontsize=7.45) \n",
        "df_ibov_log.plot(figsize=(30,17))\n",
        "plt.ylabel('Retornos Logarítmicos')\n",
        "plt.xlabel('Data')\n",
        "plt.show()"
      ],
      "metadata": {
        "id": "7esQptXsOyTa"
      },
      "execution_count": null,
      "outputs": []
    },
    {
      "cell_type": "code",
      "source": [
        "df_ibov_log.plot.hist(bins=100,figsize=(20,17));"
      ],
      "metadata": {
        "id": "5okk7KMQPJY9"
      },
      "execution_count": null,
      "outputs": []
    },
    {
      "cell_type": "markdown",
      "source": [
        "### Reprocesing - Ts Features"
      ],
      "metadata": {
        "id": "6POrCb57UCYP"
      }
    },
    {
      "cell_type": "code",
      "source": [
        "from tsfeatures import tsfeatures as tf"
      ],
      "metadata": {
        "id": "Yx2gnkPuUIKS"
      },
      "execution_count": null,
      "outputs": []
    },
    {
      "cell_type": "code",
      "source": [
        "df_ibov_log.index.name = 'Data'\n",
        "df_ts = df_ibov_log.reset_index().melt('Data', var_name=['unique_id'])\n",
        "df_ts = df_ts.rename(columns={\"Data\":\"ds\",\"value\":\"y\"})\n",
        "df_ts = df_ts[['unique_id','ds','y']]\n",
        "df_ts"
      ],
      "metadata": {
        "id": "HQRK_L9lUPDz"
      },
      "execution_count": null,
      "outputs": []
    },
    {
      "cell_type": "code",
      "source": [
        "df_ts = df_ts[np.isfinite(df_ts['y']) == True]"
      ],
      "metadata": {
        "id": "hykVVqc5UiGp"
      },
      "execution_count": null,
      "outputs": []
    },
    {
      "cell_type": "code",
      "source": [
        "from pandas.core.arrays.numeric import T\n",
        "df_features = tf(df_ts, freq=7)\n",
        "df_features"
      ],
      "metadata": {
        "id": "OiLrQDtwUkbz"
      },
      "execution_count": null,
      "outputs": []
    },
    {
      "cell_type": "code",
      "source": [
        "df_features = df_features.rename(columns={\"unique_id\":\"Código\"})\n",
        "df_features.columns"
      ],
      "metadata": {
        "id": "eNCjSMSwU5Bx"
      },
      "execution_count": null,
      "outputs": []
    },
    {
      "cell_type": "code",
      "source": [
        "df_ibov_features = df_features.fillna(0)\n",
        "df_ibov_features"
      ],
      "metadata": {
        "id": "VhTv1Mdli_3-"
      },
      "execution_count": null,
      "outputs": []
    },
    {
      "cell_type": "code",
      "source": [
        "df_ibov_features.to_excel('df_Features_Ibov.xlsx')"
      ],
      "metadata": {
        "id": "YzNujmZMvpDq"
      },
      "execution_count": null,
      "outputs": []
    },
    {
      "cell_type": "markdown",
      "source": [
        "# S&P500"
      ],
      "metadata": {
        "id": "J-Yck6LZED9J"
      }
    },
    {
      "cell_type": "code",
      "source": [
        "df_sp = build_df(indice='SP500')"
      ],
      "metadata": {
        "id": "wrI1WwYWEIDQ"
      },
      "execution_count": null,
      "outputs": []
    },
    {
      "cell_type": "code",
      "source": [
        "df_sp"
      ],
      "metadata": {
        "id": "lNFKryZPInm6"
      },
      "execution_count": null,
      "outputs": []
    },
    {
      "cell_type": "code",
      "source": [
        "sp = df_sp.pop('Código')\n",
        "df_sp = pd.concat([df_sp, sp], 1)\n",
        "df_sp = df_sp.drop(['Beta Ibov','Sharpe Ibov'], axis = 1)\n",
        "df_sp"
      ],
      "metadata": {
        "id": "9e-ELO0VyAWk"
      },
      "execution_count": null,
      "outputs": []
    },
    {
      "cell_type": "code",
      "source": [
        "tri = ['1T2016','2T2016','3T2016','4T2016','1T2017','2T2017','3T2017','4T2017','1T2018','2T2018','3T2018','4T2018','1T2019','2T2019','3T2019','4T2019','1T2020','2T2020','3T2020','4T2020','1T2021','2T2021','3T2021','4T2021']\n",
        "\n",
        "tempList = list(tri)\n",
        "\n",
        "for i in range(464):\n",
        "    for element in tempList:\n",
        "        tri.append(element)\n",
        "\n",
        "df_sp['Data'] = tri\n",
        "df_sp = df_sp.set_index('Data')\n",
        "df_sp"
      ],
      "metadata": {
        "id": "eTDbBWOZ0NCz"
      },
      "execution_count": null,
      "outputs": []
    },
    {
      "cell_type": "code",
      "source": [
        "df_sp.info()"
      ],
      "metadata": {
        "id": "iDCRKkNcxzUX"
      },
      "execution_count": null,
      "outputs": []
    },
    {
      "cell_type": "markdown",
      "source": [
        "#### Caso de Empresa com Balaços não enquadrados no trimestre"
      ],
      "metadata": {
        "id": "XBYJnreyBIi5"
      }
    },
    {
      "cell_type": "code",
      "source": [
        "df_aap = df_sp[df_sp['Código']=='AAP']\n",
        "df_aap"
      ],
      "metadata": {
        "id": "Xv5kmQKcRz_y"
      },
      "execution_count": null,
      "outputs": []
    },
    {
      "cell_type": "code",
      "source": [
        "df_sp.to_excel('df_SP500_Final.xlsx')"
      ],
      "metadata": {
        "id": "xriLv9NNCPYT"
      },
      "execution_count": null,
      "outputs": []
    },
    {
      "cell_type": "markdown",
      "source": [
        "### Log Retornos Médio Trimestrais"
      ],
      "metadata": {
        "id": "_2Nj3m8BPhmP"
      }
    },
    {
      "cell_type": "code",
      "source": [
        "df_sp_log = df_sp[['Media do fechamento em 1 trimestre Em US Dollars ajust p/ prov','Código']]\n",
        "df_sp_log = df_sp.pivot_table(index=df_sp.index, columns='Código',values='Media do fechamento em 1 trimestre Em US Dollars ajust p/ prov', aggfunc='first')\n",
        "df_sp_log = (df_sp_log.pct_change(axis=0)).apply(np.log1p)\n",
        "df_sp_log= df_sp_log.iloc[1:,:]\n",
        "df_sp_log"
      ],
      "metadata": {
        "id": "tFg03OSGPiMh"
      },
      "execution_count": null,
      "outputs": []
    },
    {
      "cell_type": "code",
      "source": [
        "df_nan = pd.DataFrame(df_sp_log.isna().sum())\n",
        "df_nan_sum = df_nan[df_nan[0]>0]\n",
        "df_nan_sum"
      ],
      "metadata": {
        "id": "sJ8NL1ukQCe-"
      },
      "execution_count": null,
      "outputs": []
    },
    {
      "cell_type": "code",
      "source": [
        "plt.rcParams.update({'font.size': 15})\n",
        "plt.rc('legend', fontsize=7.45) \n",
        "df_sp_log.plot(figsize=(30,17))\n",
        "plt.ylabel('Retornos Logarítmicos')\n",
        "plt.xlabel('Data')\n",
        "plt.show()"
      ],
      "metadata": {
        "id": "A_mo4pmIB4rl"
      },
      "execution_count": null,
      "outputs": []
    },
    {
      "cell_type": "code",
      "source": [
        "df_sp_log.plot.hist(bins=100,figsize=(20,17));"
      ],
      "metadata": {
        "id": "o0CJoq8wCBo7"
      },
      "execution_count": null,
      "outputs": []
    },
    {
      "cell_type": "markdown",
      "source": [
        "### Reprocesing - Ts Features"
      ],
      "metadata": {
        "id": "W7C9dzDdlAAz"
      }
    },
    {
      "cell_type": "code",
      "source": [
        "df_sp_log.index.name = 'Data'\n",
        "df_ts = df_sp_log.reset_index().melt('Data', var_name=['unique_id'])\n",
        "df_ts = df_ts.rename(columns={\"Data\":\"ds\",\"value\":\"y\"})\n",
        "df_ts = df_ts[['unique_id','ds','y']]\n",
        "df_ts"
      ],
      "metadata": {
        "id": "0NUkfPJjlHxr"
      },
      "execution_count": null,
      "outputs": []
    },
    {
      "cell_type": "code",
      "source": [
        "df_ts = df_ts[np.isfinite(df_ts['y']) == True]"
      ],
      "metadata": {
        "id": "ekW9zN8mlRng"
      },
      "execution_count": null,
      "outputs": []
    },
    {
      "cell_type": "code",
      "source": [
        "from pandas.core.arrays.numeric import T\n",
        "df_features = tf(df_ts, freq=7)\n",
        "df_features"
      ],
      "metadata": {
        "id": "xcY1yANflWYe"
      },
      "execution_count": null,
      "outputs": []
    },
    {
      "cell_type": "code",
      "source": [
        "df_sp_features = df_features.fillna(0)\n",
        "df_sp_features"
      ],
      "metadata": {
        "id": "dxR-LzYS515M"
      },
      "execution_count": null,
      "outputs": []
    },
    {
      "cell_type": "code",
      "source": [
        "df_sp_features.to_excel('df_Features_SP500.xlsx')"
      ],
      "metadata": {
        "id": "H9R2iIMjCYzg"
      },
      "execution_count": null,
      "outputs": []
    }
  ]
}