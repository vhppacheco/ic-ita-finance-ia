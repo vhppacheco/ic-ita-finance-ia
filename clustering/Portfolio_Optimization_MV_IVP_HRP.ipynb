{
  "nbformat": 4,
  "nbformat_minor": 0,
  "metadata": {
    "colab": {
      "name": "Portfolio_Optimization_MV_IVP_HRP.ipynb",
      "private_outputs": true,
      "provenance": [],
      "mount_file_id": "1qvMFC6TFT88JJ9IH4_xGg8dNLeCgDGd1",
      "authorship_tag": "ABX9TyNfwteKb6oyqY0CKKJhdOEt",
      "include_colab_link": true
    },
    "kernelspec": {
      "name": "python3",
      "display_name": "Python 3"
    },
    "language_info": {
      "name": "python"
    }
  },
  "cells": [
    {
      "cell_type": "markdown",
      "metadata": {
        "id": "view-in-github",
        "colab_type": "text"
      },
      "source": [
        "<a href=\"https://colab.research.google.com/github/vhppacheco/ic-ita-finance-ia/blob/main/clustering/Portfolio_Optimization_MV_IVP_HRP.ipynb\" target=\"_parent\"><img src=\"https://colab.research.google.com/assets/colab-badge.svg\" alt=\"Open In Colab\"/></a>"
      ]
    },
    {
      "cell_type": "markdown",
      "source": [
        "#Libs"
      ],
      "metadata": {
        "id": "H6uT8RkJxE85"
      }
    },
    {
      "cell_type": "code",
      "source": [
        "!pip install yfinance\n",
        "!pip install -q alpha-vantage\n",
        "!pip install -q ffn\n",
        "!pip install -q config\n",
        "\n",
        "# Para corrgir o bug: AttributeError: 'numpy.int64' object has no attribute 'to_pydatetime'\n",
        "!pip install git+https://github.com/quantopian/pyfolio"
      ],
      "metadata": {
        "id": "jdAQ9P40v6k8"
      },
      "execution_count": null,
      "outputs": []
    },
    {
      "cell_type": "code",
      "source": [
        "from google.colab import drive\n",
        "drive.mount('/content/drive')"
      ],
      "metadata": {
        "id": "2utcec3ryjKM"
      },
      "execution_count": null,
      "outputs": []
    },
    {
      "cell_type": "code",
      "source": [
        "import yfinance as yf\n",
        "import pandas as pd\n",
        "import scipy.cluster.hierarchy as sch\n",
        "import numpy as np\n",
        "import statsmodels.api as sm\n",
        "from scipy import stats\n",
        "import pandas as pd\n",
        "from datetime import date\n",
        "from matplotlib import pyplot as plt\n",
        "import seaborn as sns\n",
        "import cvxopt as opt\n",
        "from cvxopt import blas, solvers\n",
        "from alpha_vantage.timeseries import TimeSeries\n",
        "import ffn\n",
        "import config\n",
        "import plotly.graph_objs as go\n",
        "import plotly.express as pl\n",
        "from plotly.subplots import make_subplots\n",
        "import pyfolio as pf\n",
        "\n",
        "%matplotlib inline\n",
        "plt.close('all')\n",
        "\n",
        "import warnings\n",
        "warnings.filterwarnings('ignore')"
      ],
      "metadata": {
        "id": "fUTaG96jv1zv"
      },
      "execution_count": null,
      "outputs": []
    },
    {
      "cell_type": "markdown",
      "source": [
        "#Lopez de Prado Algorithms"
      ],
      "metadata": {
        "id": "QBFQFr4TxKfd"
      }
    },
    {
      "cell_type": "code",
      "source": [
        "# On 20151227 by MLdP <lopezdeprado@lbl.gov>\n",
        "# Hierarchical Risk Parity\n",
        "\n",
        "\n",
        "def getIVP(cov, **kargs):\n",
        "    # Compute the inverse-variance portfolio\n",
        "    ivp = 1. / np.diag(cov)\n",
        "    ivp /= ivp.sum()\n",
        "    return ivp\n",
        "\n",
        "\n",
        "def getClusterVar(cov,cItems):\n",
        "    # Compute variance per cluster\n",
        "    cov_=cov.loc[cItems,cItems] # matrix slice\n",
        "    w_=getIVP(cov_).reshape(-1,1)\n",
        "    cVar=np.dot(np.dot(w_.T,cov_),w_)[0,0]\n",
        "    return cVar\n",
        "\n",
        "\n",
        "def getQuasiDiag(link):\n",
        "    # Sort clustered items by distance\n",
        "    link = link.astype(int)\n",
        "    sortIx = pd.Series([link[-1, 0], link[-1, 1]])\n",
        "    numItems = link[-1, 3]  # number of original items\n",
        "    while sortIx.max() >= numItems:\n",
        "        sortIx.index = range(0, sortIx.shape[0] * 2, 2)  # make space\n",
        "        df0 = sortIx[sortIx >= numItems]  # find clusters\n",
        "        i = df0.index\n",
        "        j = df0.values - numItems\n",
        "        sortIx[i] = link[j, 0]  # item 1\n",
        "        df0 = pd.Series(link[j, 1], index=i + 1)\n",
        "        sortIx = sortIx.append(df0)  # item 2\n",
        "        sortIx = sortIx.sort_index()  # re-sort\n",
        "        sortIx.index = range(sortIx.shape[0])  # re-index\n",
        "    return sortIx.tolist()\n",
        "\n",
        "\n",
        "def getRecBipart(cov, sortIx):\n",
        "    # Compute HRP alloc\n",
        "    w = pd.Series(1, index=sortIx)\n",
        "    cItems = [sortIx]  # initialize all items in one cluster\n",
        "    while len(cItems) > 0:\n",
        "        cItems = [i[j:k] for i in cItems for j, k in ((0, len(i) // 2), (len(i) // 2, len(i))) if len(i) > 1]  # bi-section\n",
        "        for i in range(0, len(cItems), 2):  # parse in pairs\n",
        "            cItems0 = cItems[i]  # cluster 1\n",
        "            cItems1 = cItems[i + 1]  # cluster 2\n",
        "            cVar0 = getClusterVar(cov, cItems0)\n",
        "            cVar1 = getClusterVar(cov, cItems1)\n",
        "            alpha = 1 - cVar0 / (cVar0 + cVar1)\n",
        "            w[cItems0] *= alpha  # weight 1\n",
        "            w[cItems1] *= 1 - alpha  # weight 2\n",
        "    return w\n",
        "\n",
        "\n",
        "def correlDist(corr):\n",
        "    # A distance matrix based on correlation, where 0<=d[i,j]<=1\n",
        "    # This is a proper distance metric\n",
        "    dist = ((1 - corr) / 2.)**.5  # distance matrix\n",
        "    return dist\n",
        "\n",
        "\n",
        "def getHRP(cov, corr):\n",
        "    # Construct a hierarchical portfolio\n",
        "    dist = correlDist(corr)\n",
        "    link = sch.linkage(dist, 'single')\n",
        "    dn = sch.dendrogram(link, labels=cov.index.values)\n",
        "    plt.show(dn)\n",
        "    sortIx = getQuasiDiag(link)\n",
        "    sortIx = corr.index[sortIx].tolist()\n",
        "    hrp = getRecBipart(cov, sortIx)\n",
        "    return hrp.sort_index()"
      ],
      "metadata": {
        "id": "IY6kpF7RwRpR"
      },
      "execution_count": null,
      "outputs": []
    },
    {
      "cell_type": "code",
      "source": [
        "def getMVP(cov):\n",
        "\n",
        "    cov = cov.T.values\n",
        "    n = len(cov)\n",
        "    N = 100\n",
        "    mus = [10 ** (5.0 * t / N - 1.0) for t in range(N)]\n",
        "\n",
        "    # Convert to cvxopt matrices\n",
        "    S = opt.matrix(cov)\n",
        "    #pbar = opt.matrix(np.mean(returns, axis=1))\n",
        "    pbar = opt.matrix(np.ones(cov.shape[0]))\n",
        "\n",
        "    # Create constraint matrices\n",
        "    G = -opt.matrix(np.eye(n))  # negative n x n identity matrix\n",
        "    h = opt.matrix(0.0, (n, 1))\n",
        "    A = opt.matrix(1.0, (1, n))\n",
        "    b = opt.matrix(1.0)\n",
        "\n",
        "    # Calculate efficient frontier weights using quadratic programming\n",
        "    portfolios = [solvers.qp(mu * S, -pbar, G, h, A, b)['x']\n",
        "                  for mu in mus]\n",
        "    ## CALCULATE RISKS AND RETURNS FOR FRONTIER\n",
        "    returns = [blas.dot(pbar, x) for x in portfolios]\n",
        "    risks = [np.sqrt(blas.dot(x, S * x)) for x in portfolios]\n",
        "    ## CALCULATE THE 2ND DEGREE POLYNOMIAL OF THE FRONTIER CURVE\n",
        "    m1 = np.polyfit(returns, risks, 2)\n",
        "    x1 = np.sqrt(m1[2] / m1[0])\n",
        "    # CALCULATE THE OPTIMAL PORTFOLIO\n",
        "    wt = solvers.qp(opt.matrix(x1 * S), -pbar, G, h, A, b)['x']\n",
        "\n",
        "    return list(wt)"
      ],
      "metadata": {
        "id": "obi_A6pRwU0l"
      },
      "execution_count": null,
      "outputs": []
    },
    {
      "cell_type": "code",
      "source": [
        "def get_all_portfolios(returns):\n",
        "    \n",
        "    cov, corr = returns.cov(), returns.corr()\n",
        "    hrp = getHRP(cov, corr)\n",
        "    ivp = getIVP(cov)\n",
        "    ivp = pd.Series(ivp, index=cov.index)\n",
        "    mvp = getMVP(cov)\n",
        "    mvp = pd.Series(mvp, index=cov.index)\n",
        "    \n",
        "    portfolios = pd.DataFrame([mvp, ivp, hrp], index=['MVP', 'IVP', 'HRP']).T.sort_values(by='HRP',ascending=False)\n",
        "    \n",
        "    return portfolios"
      ],
      "metadata": {
        "id": "xaOV0xkRwXwa"
      },
      "execution_count": null,
      "outputs": []
    },
    {
      "cell_type": "markdown",
      "source": [
        "#Pre-selection 1: Sharpe Ratio"
      ],
      "metadata": {
        "id": "BVfiOxn6xcjk"
      }
    },
    {
      "cell_type": "markdown",
      "source": [
        "##Import Yahoo Finance"
      ],
      "metadata": {
        "id": "qif6zWlBx0Cl"
      }
    },
    {
      "cell_type": "code",
      "source": [
        "prices= pd.DataFrame()\n",
        "\n",
        "ativos = ['PRIO3.SA','EMBR3.SA','BEEF3.SA','HD','FANG','MRO','MRFG3.SA','JBSS3.SA','CPLE6.SA','INTU','CRL','TGT','ADBE','ALPA4.SA','^BVSP','^GSPC']\n",
        "\n",
        "inicio = '2016-01-01'\n",
        "fim = '2021-12-31'\n",
        "\n",
        "for ativo in ativos:\n",
        "  prices[ativo] = yf.download(ativo, start = inicio, end = fim)['Adj Close']\n",
        "  prices.columns = prices.columns.str.rstrip(\".SA\")\n",
        "\n",
        "df = prices.iloc[:, :-2]\n",
        "\n",
        "#Benchmarks\n",
        "bench = prices.iloc[:,-2:]\n",
        "bench = bench/bench.iloc[0]\n",
        "\n",
        "bench = (bench.pct_change(axis=0)).apply(np.log1p)\n",
        "bench = bench.iloc[1:,:].rename(columns={'^BVSP':'Ibovespa','^GSPC':'S&P500'})\n",
        "bench_acum = (1+bench).cumprod()"
      ],
      "metadata": {
        "id": "EU2VKQSnwZ8L"
      },
      "execution_count": null,
      "outputs": []
    },
    {
      "cell_type": "code",
      "source": [
        "df"
      ],
      "metadata": {
        "id": "a5sRU_oqwcXU"
      },
      "execution_count": null,
      "outputs": []
    },
    {
      "cell_type": "markdown",
      "source": [
        "### Normalize Data"
      ],
      "metadata": {
        "id": "TYwome6Fx8G3"
      }
    },
    {
      "cell_type": "code",
      "source": [
        "df = df/df.iloc[0]\n",
        "df"
      ],
      "metadata": {
        "id": "pdkimjP-3KIx"
      },
      "execution_count": null,
      "outputs": []
    },
    {
      "cell_type": "markdown",
      "source": [
        "### Log Returns"
      ],
      "metadata": {
        "id": "h_CKINCmyBCA"
      }
    },
    {
      "cell_type": "code",
      "source": [
        "log_returns = (df.pct_change(axis=0)).apply(np.log1p)\n",
        "log_returns= log_returns.iloc[1:,:]\n",
        "log_returns"
      ],
      "metadata": {
        "id": "n1Tumu1Jwfoc"
      },
      "execution_count": null,
      "outputs": []
    },
    {
      "cell_type": "markdown",
      "source": [
        "###Correlation Matrix"
      ],
      "metadata": {
        "id": "Fq2Htfc4yIRW"
      }
    },
    {
      "cell_type": "code",
      "source": [
        "correlacao = log_returns.corr()\n",
        "correlacao"
      ],
      "metadata": {
        "id": "ZwyDdOmawzTO"
      },
      "execution_count": null,
      "outputs": []
    },
    {
      "cell_type": "code",
      "source": [
        "plt.figure(figsize = (20, 15))\n",
        "sns.heatmap(round(correlacao,2), annot = True, cmap = \"Blues\")"
      ],
      "metadata": {
        "id": "Lg5UMy_6yjBK"
      },
      "execution_count": null,
      "outputs": []
    },
    {
      "cell_type": "markdown",
      "source": [
        "### Covariance Matrix"
      ],
      "metadata": {
        "id": "wQZdEg3IyNnH"
      }
    },
    {
      "cell_type": "code",
      "source": [
        "covariancia = log_returns.cov()\n",
        "covariancia"
      ],
      "metadata": {
        "id": "djsCp6TO1tAt"
      },
      "execution_count": null,
      "outputs": []
    },
    {
      "cell_type": "code",
      "source": [
        "plt.figure(figsize = (20, 15))\n",
        "sns.heatmap(covariancia, annot = True, cmap = 'Reds')"
      ],
      "metadata": {
        "id": "C1J2xRvC2KUo"
      },
      "execution_count": null,
      "outputs": []
    },
    {
      "cell_type": "markdown",
      "source": [
        "### Tree Clustering"
      ],
      "metadata": {
        "id": "2-2qTWdwyRck"
      }
    },
    {
      "cell_type": "code",
      "source": [
        "tree = getHRP(covariancia, correlacao)\n",
        "tree"
      ],
      "metadata": {
        "id": "S8SA_snO1ffU"
      },
      "execution_count": null,
      "outputs": []
    },
    {
      "cell_type": "code",
      "source": [
        "from scipy.cluster.hierarchy import dendrogram, linkage\n",
        "from scipy.spatial.distance import pdist, squareform\n",
        "\n",
        "plt.figure(figsize=(25,7))\n",
        "distances = np.sqrt((1 - correlacao) / 2)\n",
        "clusters = linkage(squareform(distances), method=\"ward\")\n",
        "\n",
        "dendrogram(clusters, labels=df.columns);"
      ],
      "metadata": {
        "id": "bWY8cTRrzsv7"
      },
      "execution_count": null,
      "outputs": []
    },
    {
      "cell_type": "markdown",
      "source": [
        "## Portfolios Optimazed"
      ],
      "metadata": {
        "id": "8FKpSiZ6yYtq"
      }
    },
    {
      "cell_type": "code",
      "source": [
        "portfolios = get_all_portfolios(log_returns)\n",
        "portfolios"
      ],
      "metadata": {
        "id": "uOJEpUSYxAPC"
      },
      "execution_count": null,
      "outputs": []
    },
    {
      "cell_type": "markdown",
      "source": [
        "###Join Dataframes - Sectors"
      ],
      "metadata": {
        "id": "aP33CRHVyp7k"
      }
    },
    {
      "cell_type": "code",
      "source": [
        "df_cluster = pd.read_excel('/content/drive/MyDrive/IC ITA/Projeto de Pesquisa - IC ITA/Resultados/Ativos melhor cluster.xlsx').set_index('Código')\n",
        "df_cluster"
      ],
      "metadata": {
        "id": "VyDSVNDG72j9"
      },
      "execution_count": null,
      "outputs": []
    },
    {
      "cell_type": "code",
      "source": [
        "portfolios = portfolios.merge(df_cluster, left_index = True, right_index = True)\n",
        "portfolios = portfolios[['MVP','IVP','HRP','Setor NAICS','Indice']]\n",
        "portfolios"
      ],
      "metadata": {
        "id": "xQXLDJ7R8CQk"
      },
      "execution_count": null,
      "outputs": []
    },
    {
      "cell_type": "markdown",
      "source": [
        "#### EDA"
      ],
      "metadata": {
        "id": "DRpR2IsmyzDF"
      }
    },
    {
      "cell_type": "code",
      "source": [
        "sum_sector = pd.DataFrame(portfolios.groupby(portfolios['Setor NAICS']).sum())\n",
        "sum_sector"
      ],
      "metadata": {
        "id": "VL-d6rRnCXyF"
      },
      "execution_count": null,
      "outputs": []
    },
    {
      "cell_type": "code",
      "source": [
        "def build_viz(coluna):\n",
        "\n",
        "  y= round(sum_sector[coluna],3).sort_values(ascending=False)\n",
        "  x = sum_sector.index\n",
        "\n",
        "  fig = go.Figure(data=[go.Bar(x = x,\n",
        "              y=y,\n",
        "              text=y,\n",
        "              textposition='auto',\n",
        "              marker_color = 'blue'\n",
        "          )])\n",
        "  fig.update_layout(height=500, width=1200,title_text=coluna)\n",
        "  fig.show()"
      ],
      "metadata": {
        "id": "C7eA4x1RMmig"
      },
      "execution_count": null,
      "outputs": []
    },
    {
      "cell_type": "code",
      "source": [
        "for i in sum_sector.columns:\n",
        "  build_viz(i)"
      ],
      "metadata": {
        "id": "Ip51lA_GNGom"
      },
      "execution_count": null,
      "outputs": []
    },
    {
      "cell_type": "code",
      "source": [
        "def build_viz_2(coluna):\n",
        "  fg = pl.sunburst(data_frame = sum_sector*100, path=[sum_sector.index], values = coluna ,title = coluna, height=500, width=1200)\n",
        "  fg.update_traces(textfont_color = 'white',\n",
        "                   textfont_size = 14,\n",
        "                   hovertemplate = '<b>%{label}:</b> %{value:.2f}%')\n",
        "  fg.show()"
      ],
      "metadata": {
        "id": "ZaFTQe4oX7ds"
      },
      "execution_count": null,
      "outputs": []
    },
    {
      "cell_type": "code",
      "source": [
        "for i in sum_sector.columns:\n",
        "  build_viz_2(i)"
      ],
      "metadata": {
        "id": "x4wEREOKbHKC"
      },
      "execution_count": null,
      "outputs": []
    },
    {
      "cell_type": "markdown",
      "source": [
        "### Combine returns and weights in Portfolios"
      ],
      "metadata": {
        "id": "-P0zgNdu2JuY"
      }
    },
    {
      "cell_type": "code",
      "source": [
        "def combine_returns_weights (methods):\n",
        "\n",
        "  portfolio_order = portfolios.T.iloc[:-2].reindex(columns=log_returns.columns)\n",
        "  ativos = np.array(log_returns.columns)\n",
        "\n",
        "  method = [methods]\n",
        "  portfolio_methods = pd.DataFrame()\n",
        "\n",
        "  for i in methods:\n",
        "\n",
        "    pesos = np.array(portfolio_order.loc[i])\n",
        "    carteira = pd.DataFrame((log_returns * pesos).sum(axis=1)).rename(columns={0:f'Retornos {i}'})\n",
        "\n",
        "    #Retorno Total da Carteira\n",
        "    total_return = (((1+carteira).cumprod())-1)*100\n",
        "    print(f\"O retorno total na carteira {i} é igual a \" + f\"{np.sum(total_return.iloc[-1,:]).round(2)}%\")\n",
        "\n",
        "    #Retorno Anual Esperado\n",
        "    expected_return_annual = np.sum(carteira.mean()*252)*100\n",
        "    print(f\"O retorno anual na carteira {i} é igual a \" + f\"{expected_return_annual.round(2)}%\")\n",
        "\n",
        "    #Volatilidade Anual\n",
        "    carteira_vol = np.sqrt(pesos.T.dot(covariancia*252).dot(pesos))*100\n",
        "    print(f\"A volatilidade anual da carteira {i} é igual a \" + f\"{carteira_vol.round(2)}%\")\n",
        "\n",
        "    #Sharpe das Carteiras\n",
        "    sharpe=(expected_return_annual)/carteira_vol #sem considerar o risk free\n",
        "    print(f\"O Sharpe Ratio da carteira {i} é igual a \" + f\"{sharpe.round(3)}\")\n",
        "\n",
        "    #Max Drawdown\n",
        "    carteira_acum = (1+carteira).cumprod()\n",
        "    pico = carteira_acum.expanding(min_periods=1).max()\n",
        "    dd = (carteira_acum/pico)-1\n",
        "    drawdown = np.sum(dd.min())*100\n",
        "    print(f\"O MDD da carteira {i} é igual a \" + f\"{drawdown.round(2)}%\")\n",
        "\n",
        "    #Beta\n",
        "    Y = carteira.values\n",
        "    X = bench['Ibovespa'].values\n",
        "    Z = bench['S&P500'].values\n",
        "\n",
        "    X = sm.add_constant(X)\n",
        "    Z = sm.add_constant(Z)\n",
        "\n",
        "    modelo1 = sm.OLS(Y,X)\n",
        "    resultado1 = modelo1.fit()\n",
        "    beta_carteira_ibov = resultado1.params[1]\n",
        "    beta_carteira_ibov = np.sum(beta_carteira_ibov)\n",
        "\n",
        "    modelo2 = sm.OLS(Y,Z)\n",
        "    resultado2 = modelo2.fit()\n",
        "    beta_carteira_sp500 = resultado2.params[1]\n",
        "    beta_carteira_sp500 = np.sum(beta_carteira_sp500)\n",
        "\n",
        "    print(f\"O Beta da carteira {i} em relação ao Ibovespa é igual a \" + f\"{beta_carteira_ibov.round(4)}\\nE em relaçao ao S&P500 é igual a \" + f\"{beta_carteira_sp500.round(4)} \\n\")\n",
        "\n",
        "    #Plots\n",
        "    fig = plt.figure(1)\n",
        "    plt.subplot(1,3,1)\n",
        "    pf.plot_annual_returns(carteira)\n",
        "    pf.plot_annual_returns(carteira)\n",
        "    plt.subplot(1,3,2)\n",
        "    pf.plot_monthly_returns_heatmap(carteira)\n",
        "    plt.subplot(1,3,3)\n",
        "    pf.plot_return_quantiles(carteira)\n",
        "    plt.tight_layout()\n",
        "    fig.set_size_inches(20,5)\n",
        "    plt.show()\n",
        "\n",
        "    #Plots\n",
        "    plt.figure(figsize = (21.54,5))\n",
        "    pf.plot_drawdown_underwater(carteira);\n",
        "    plt.show()\n",
        "\n",
        "    print(\"\\n\")\n",
        "\n",
        "    portfolio_temp = carteira\n",
        "\n",
        "    if portfolio_methods.empty == True:\n",
        "      portfolio_methods = portfolio_temp\n",
        "\n",
        "    else:\n",
        "      portfolio_methods = pd.merge(portfolio_methods,portfolio_temp,left_index = True, right_index = True)\n",
        "      portfolio_methods= pd.DataFrame(portfolio_methods)\n",
        "\n",
        "  #Drawdown 30 dias \n",
        "  portfolios_methods['MDD 30d MVP'] = portfolios_methods['Retornos MVP'].rolling(window=30).min()\n",
        "  portfolios_methods['MDD 30d IVP'] = portfolios_methods['Retornos IVP'].rolling(window=30).min()\n",
        "  portfolios_methods['MDD 30d HRP'] = portfolios_methods['Retornos HRP'].rolling(window=30).min()\n",
        "\n",
        "  #Retornos Acumulados\n",
        "  portfolios_methods_acum = (1+portfolios_methods).cumprod()\n",
        "  portfolios_methods_acum.iloc[0] = 1\n",
        "  portfolios_methods_acum = pd.DataFrame(portfolios_methods_acum)\n",
        "\n",
        "  #Join with Benchmarks\n",
        "  portfolios_methods_acum = pd.merge(portfolios_methods_acum,bench_acum,left_index = True, right_index = True)\n",
        "\n",
        "  ##Retorno Total Benchmarks\n",
        "  ibov = portfolios_methods_acum.loc[portfolios_methods_acum.index[-1], \"Ibovespa\"]\n",
        "  ibov = (ibov-1)*100\n",
        "  sp500 = portfolios_methods_acum.loc[portfolios_methods_acum.index[-1], \"S&P500\"]\n",
        "  sp500 = (sp500-1)*100\n",
        "  print(f\"O retorno total do Ibovespa é igual a \" + f\"{np.sum(ibov).round(2)}%\")\n",
        "  print(f\"O retorno total do S&P500 é igual a \" + f\"{np.sum(sp500).round(2)}%\")\n",
        "\n",
        "  plot = portfolios_methods_acum[['Retornos MVP','Retornos IVP','Retornos HRP','Ibovespa','S&P500']].plot(figsize = (20,10));\n",
        "\n",
        "  plot2 = portfolios_methods[['MDD 30d MVP','MDD 30d IVP','MDD 30d HRP']].plot(figsize = (19.74,10));\n",
        "\n",
        "  individual_returns_anualized=log_returns.mean()*252\n",
        "  individual_returns_anualized= individual_returns_anualized.to_frame()\n",
        "  individual_returns_anualized.rename(columns={0:\"Anual Returns %\"}).sort_values(by = \"Anual Returns %\", ascending=False)\n",
        "\n",
        "  return portfolio_methods, portfolios_methods_acum, plot, plot2, individual_returns_anualized"
      ],
      "metadata": {
        "id": "LbqxcO3D3fZk"
      },
      "execution_count": null,
      "outputs": []
    },
    {
      "cell_type": "code",
      "source": [
        "portfolio, portfolios_acum, plot, plot2, individual_returns_anualized = combine_returns_weights(['MVP','IVP','HRP'])\n",
        "portfolios_acum"
      ],
      "metadata": {
        "id": "UuWgs3NW7HiN"
      },
      "execution_count": null,
      "outputs": []
    },
    {
      "cell_type": "code",
      "source": [
        "individual_returns_anualized"
      ],
      "metadata": {
        "id": "9nb_ILuRIxH0"
      },
      "execution_count": null,
      "outputs": []
    },
    {
      "cell_type": "code",
      "source": [
        "teste = portfolios_methods.merge(bench,left_index=True,right_index=True)"
      ],
      "metadata": {
        "id": "Y_NchW7dLeC7"
      },
      "execution_count": null,
      "outputs": []
    },
    {
      "cell_type": "code",
      "source": [
        "pf.create_full_tear_sheet(teste[\"Retornos MVP\"], benchmark_rets=teste[\"Ibovespa\"])"
      ],
      "metadata": {
        "id": "Cq5dym_HIX2t"
      },
      "execution_count": null,
      "outputs": []
    },
    {
      "cell_type": "code",
      "source": [
        "pf.create_full_tear_sheet(teste[\"Retornos IVP\"], benchmark_rets=teste[\"Ibovespa\"])"
      ],
      "metadata": {
        "id": "dfuKJyiwLmkH"
      },
      "execution_count": null,
      "outputs": []
    },
    {
      "cell_type": "code",
      "source": [
        "pf.create_full_tear_sheet(teste[\"Retornos HRP\"], benchmark_rets=teste[\"Ibovespa\"])"
      ],
      "metadata": {
        "id": "RPsDKSK3LpHP"
      },
      "execution_count": null,
      "outputs": []
    },
    {
      "cell_type": "code",
      "source": [
        "pf.create_full_tear_sheet(teste[\"Retornos MVP\"], benchmark_rets=teste[\"S&P500\"])"
      ],
      "metadata": {
        "id": "J1MUaG-pLuaO"
      },
      "execution_count": null,
      "outputs": []
    },
    {
      "cell_type": "code",
      "source": [
        "pf.create_full_tear_sheet(teste[\"Retornos IVP\"], benchmark_rets=teste[\"S&P500\"])"
      ],
      "metadata": {
        "id": "xUX_4pFWLzAm"
      },
      "execution_count": null,
      "outputs": []
    },
    {
      "cell_type": "code",
      "source": [
        "pf.create_full_tear_sheet(teste[\"Retornos HRP\"], benchmark_rets=teste[\"S&P500\"])"
      ],
      "metadata": {
        "id": "jeM7DQluL4km"
      },
      "execution_count": null,
      "outputs": []
    },
    {
      "cell_type": "markdown",
      "source": [
        "##Secundary tests"
      ],
      "metadata": {
        "id": "5601kpBXJRMH"
      }
    },
    {
      "cell_type": "code",
      "source": [
        "portfolio_order = portfolios.T.iloc[:-2].reindex(columns=log_returns.columns)\n",
        "portfolio_order"
      ],
      "metadata": {
        "id": "VSnCypchkW7Y"
      },
      "execution_count": null,
      "outputs": []
    },
    {
      "cell_type": "code",
      "source": [
        "ativos = np.array(log_returns.columns)\n",
        "pesos_mvp = np.array(portfolio_order.loc['MVP'])\n",
        "pesos_ivp = np.array(portfolio_order.loc['IVP'])\n",
        "pesos_hrp = np.array(portfolio_order.loc['HRP'])"
      ],
      "metadata": {
        "id": "2un8unXOhAqY"
      },
      "execution_count": null,
      "outputs": []
    },
    {
      "cell_type": "code",
      "source": [
        "carteira_mvp = pd.DataFrame((log_returns * pesos_mvp).sum(axis=1)).rename(columns={0:'Retornos MVP'})\n",
        "carteira_ivp = pd.DataFrame((log_returns * pesos_ivp).sum(axis=1)).rename(columns={0:'Retornos IVP'})\n",
        "carteira_hrp = pd.DataFrame((log_returns * pesos_hrp).sum(axis=1)).rename(columns={0:'Retornos HRP'})"
      ],
      "metadata": {
        "id": "IefpVVANiUQf"
      },
      "execution_count": null,
      "outputs": []
    },
    {
      "cell_type": "code",
      "source": [
        "carteira_mvp_vol=np.sqrt(pesos_ivp.T.dot(covariancia).dot(pesos_ivp))\n",
        "carteira_mvp_vol"
      ],
      "metadata": {
        "id": "fyjr-pT7KWLE"
      },
      "execution_count": null,
      "outputs": []
    },
    {
      "cell_type": "code",
      "source": [
        "expected_return_annual_mvp = np.sum(carteira_mvp.mean()*252)\n",
        "expected_return_annual_mvp"
      ],
      "metadata": {
        "id": "qPupFbkUK_Ww"
      },
      "execution_count": null,
      "outputs": []
    },
    {
      "cell_type": "code",
      "source": [
        "individual_returns_anualized=log_returns.mean()*252\n",
        "individual_returns_anualized=individual_returns_anualized.to_frame()\n",
        "individual_returns_anualized.rename(columns={0:\"Anual Returns %\"}).sort_values(by = \"Anual Returns %\", ascending=False)"
      ],
      "metadata": {
        "id": "x78-OKfPLqRN"
      },
      "execution_count": null,
      "outputs": []
    },
    {
      "cell_type": "code",
      "source": [
        "individual_returns_anualized.iloc[-1,:]"
      ],
      "metadata": {
        "id": "qoTSy_pSoNkO"
      },
      "execution_count": null,
      "outputs": []
    },
    {
      "cell_type": "code",
      "source": [
        "portfolios_methods = carteira_mvp.merge(carteira_ivp,left_index = True, right_index = True).merge(carteira_hrp,left_index = True, right_index = True)\n",
        "portfolios_methods"
      ],
      "metadata": {
        "id": "fbBPOuZDe38c"
      },
      "execution_count": null,
      "outputs": []
    },
    {
      "cell_type": "code",
      "source": [
        "portfolios_methods_acum = (1+portfolios_methods).cumprod()\n",
        "# portfolios_methods_acum.iloc[0] = 1\n",
        "portfolios_methods_acum"
      ],
      "metadata": {
        "id": "KDMcHjUunKc6"
      },
      "execution_count": null,
      "outputs": []
    },
    {
      "cell_type": "code",
      "source": [
        "portfolios_methods_acum[['Retornos MVP','Retornos IVP','Retornos HRP']].plot(figsize = (20,10));"
      ],
      "metadata": {
        "id": "YC_w_n_JnX_0"
      },
      "execution_count": null,
      "outputs": []
    },
    {
      "cell_type": "code",
      "source": [
        "#Drawdown 30 dias \n",
        "\n",
        "portfolios_methods['MDD 30d MVP'] = portfolios_methods['Retornos MVP'].rolling(window=30).min()\n",
        "portfolios_methods['MDD 30d IVP'] = portfolios_methods['Retornos IVP'].rolling(window=30).min()\n",
        "portfolios_methods['MDD 30d HRP'] = portfolios_methods['Retornos HRP'].rolling(window=30).min()"
      ],
      "metadata": {
        "id": "yQalCuN_uz7l"
      },
      "execution_count": null,
      "outputs": []
    },
    {
      "cell_type": "code",
      "source": [
        "portfolios_methods[['MDD 30d MVP','MDD 30d IVP','MDD 30d HRP']].plot(figsize = (20,10));"
      ],
      "metadata": {
        "id": "jTjAIzZLvQcG"
      },
      "execution_count": null,
      "outputs": []
    },
    {
      "cell_type": "code",
      "source": [
        "bench"
      ],
      "metadata": {
        "id": "jMdzkuQZlisr"
      },
      "execution_count": null,
      "outputs": []
    },
    {
      "cell_type": "code",
      "source": [
        "bench_acum"
      ],
      "metadata": {
        "id": "v_ma0QUgt8fv"
      },
      "execution_count": null,
      "outputs": []
    },
    {
      "cell_type": "code",
      "source": [
        "portfolios_methods_acum = portfolios_methods_acum.merge(bench_acum,left_index=True,right_index=True)\n",
        "# portfolios_methods_acum.iloc[0] = 1\n",
        "# portfolios_methods_acum = 10000 * portfolios_methods_acum\n",
        "# portfolios_methods_acum['teste'] = portfolios_methods_acum[\"Retornos MVP\"].pct_change()\n",
        "# portfolios_methods_acum"
      ],
      "metadata": {
        "id": "UBsUiC8tuwrG"
      },
      "execution_count": null,
      "outputs": []
    },
    {
      "cell_type": "code",
      "source": [
        "portfolios_methods_acum"
      ],
      "metadata": {
        "id": "5IYJGEwRSGYM"
      },
      "execution_count": null,
      "outputs": []
    },
    {
      "cell_type": "code",
      "source": [
        "portfolios_methods_acum.plot(figsize = (20,10));"
      ],
      "metadata": {
        "id": "jQIDdMY78JNP"
      },
      "execution_count": null,
      "outputs": []
    },
    {
      "cell_type": "code",
      "source": [
        "teste = portfolios_methods.merge(bench,left_index=True,right_index=True)\n",
        "teste"
      ],
      "metadata": {
        "id": "hzgqIrsOrHn6"
      },
      "execution_count": null,
      "outputs": []
    },
    {
      "cell_type": "code",
      "source": [
        "pf.create_full_tear_sheet(teste[\"Retornos MVP\"], benchmark_rets=teste[\"Ibovespa\"])"
      ],
      "metadata": {
        "id": "iUvhSs2D5RTZ"
      },
      "execution_count": null,
      "outputs": []
    },
    {
      "cell_type": "code",
      "source": [
        "fig, ax1 = plt.subplots(figsize=(16,8))\n",
        "pf.plot_rolling_volatility(teste[\"Retornos HRP\"], factor_returns=teste[\"^S&P500\"], ax=ax1);"
      ],
      "metadata": {
        "id": "9TTufabm5u0s"
      },
      "execution_count": null,
      "outputs": []
    },
    {
      "cell_type": "code",
      "source": [
        "fig, ax1 = plt.subplots(figsize=(16,8))\n",
        "pf.plot_rolling_beta(teste[\"Retornos HRP\"], factor_returns=teste[\"S&P500\"], ax=ax1)\n",
        "plt.ylim((0.6, 1.5));"
      ],
      "metadata": {
        "id": "t3NsHZAgDMgu"
      },
      "execution_count": null,
      "outputs": []
    },
    {
      "cell_type": "code",
      "source": [
        "fig, ax1 = plt.subplots(figsize=(16,8))\n",
        "pf.plot_monthly_returns_heatmap(teste[\"Retornos HRP\"], ax=ax1)"
      ],
      "metadata": {
        "id": "NS95gFrtxSoy"
      },
      "execution_count": null,
      "outputs": []
    },
    {
      "cell_type": "code",
      "source": [
        "pf.create_bayesian_tear_sheet(teste['Retornos MVP'], live_start_date='2016-01-05')"
      ],
      "metadata": {
        "id": "WLZbAyRdDUz-"
      },
      "execution_count": null,
      "outputs": []
    },
    {
      "cell_type": "code",
      "source": [
        "[f for f in dir(pf.plotting) if 'plot_' in f]"
      ],
      "metadata": {
        "id": "BOeuOwEWwxjN"
      },
      "execution_count": null,
      "outputs": []
    },
    {
      "cell_type": "code",
      "source": [
        "pf.timeseries.sharpe_ratio(teste['Retornos MVP'])"
      ],
      "metadata": {
        "id": "qJQYxP9uw4YV"
      },
      "execution_count": null,
      "outputs": []
    }
  ]
}